{
 "cells": [
  {
   "cell_type": "markdown",
   "metadata": {},
   "source": [
    "# Lending Club: Assessing Loan Default Risk\n",
    "\n",
    "#### Context: \n",
    "Lending Club is a  P2P consumer lending business that offer alternative investment opportunities to the average investor. Investors can invest in debt instruments for either 36 or 60 months periods and generate historical average returns between 4-7%. Lending Club has 12 years of accepted loan data from 2007 - 2018. We would like to assess the risks of these loans and classify good vs. bad loans. We classify good loans as loans that end up being fully paid and bad loans as loans that end in default or are charged off. As risk-averse debt investors we would like primarily avoid loans that will default.\n",
    "\n",
    "#### Objective: \n",
    "- Predict and assess the level of risk or default of loans and loan applicants.\n",
    "- Use machine learning to classify whether loan will be fully paid off. \n",
    "\n",
    "#### Measure of success:\n",
    "We will measure success by whether our model is able to classify whether a future loan will result in default or not.\n",
    "\n",
    "###### Good Loan: 'Fully Paid', 'Does not meet the credit policy. Status:Fully Paid'\n",
    "###### Bad Loan: 'Charged Off', 'Does not meet the credit policy. Status:Charged Off', 'Default']"
   ]
  },
  {
   "cell_type": "code",
   "execution_count": 2,
   "metadata": {},
   "outputs": [],
   "source": [
    "import numpy as np \n",
    "import pandas as pd\n",
    "import matplotlib.pyplot as plt\n",
    "import _pickle as cPickle\n",
    "%matplotlib inline\n",
    "pd.set_option('display.max_rows',999)\n",
    "pd.set_option('display.max_columns',999)\n"
   ]
  },
  {
   "cell_type": "code",
   "execution_count": 3,
   "metadata": {
    "scrolled": true
   },
   "outputs": [
    {
     "name": "stderr",
     "output_type": "stream",
     "text": [
      "C:\\Users\\mjdch\\Anaconda3\\lib\\site-packages\\IPython\\core\\interactiveshell.py:3049: DtypeWarning: Columns (0,19,49,59,118,129,130,131,134,135,136,139,145,146,147) have mixed types. Specify dtype option on import or set low_memory=False.\n",
      "  interactivity=interactivity, compiler=compiler, result=result)\n"
     ]
    }
   ],
   "source": [
    "accept = pd.read_csv('accepted_2007_to_2018Q4.csv.gz')\n",
    "accept.to_pickle('dfaccept')\n",
    "df = pd.read_pickle('dfaccept')"
   ]
  },
  {
   "cell_type": "markdown",
   "metadata": {},
   "source": [
    "#### Classify dependent variable"
   ]
  },
  {
   "cell_type": "markdown",
   "metadata": {},
   "source": [
    "We are only interested in loans that result in a binary result of either \"Fully Paid\" or \"Default/Charged Off\". Current Loans or Late Loans have yet to be classified and can result in default, charged off or fully paid. We will remove these observations."
   ]
  },
  {
   "cell_type": "code",
   "execution_count": 4,
   "metadata": {},
   "outputs": [
    {
     "data": {
      "text/plain": [
       "Fully Paid                                             1076751\n",
       "Current                                                 878317\n",
       "Charged Off                                             268559\n",
       "Late (31-120 days)                                       21467\n",
       "In Grace Period                                           8436\n",
       "Late (16-30 days)                                         4349\n",
       "Does not meet the credit policy. Status:Fully Paid        1988\n",
       "Does not meet the credit policy. Status:Charged Off        761\n",
       "Default                                                     40\n",
       "Name: loan_status, dtype: int64"
      ]
     },
     "execution_count": 4,
     "metadata": {},
     "output_type": "execute_result"
    }
   ],
   "source": [
    "accept.loan_status.value_counts()"
   ]
  },
  {
   "cell_type": "code",
   "execution_count": 67,
   "metadata": {},
   "outputs": [
    {
     "data": {
      "text/plain": [
       "0          2015.0\n",
       "1          2015.0\n",
       "2          2015.0\n",
       "3          2015.0\n",
       "4          2015.0\n",
       "5          2015.0\n",
       "6          2015.0\n",
       "7          2015.0\n",
       "8          2015.0\n",
       "9          2015.0\n",
       "10         2015.0\n",
       "11         2015.0\n",
       "12         2015.0\n",
       "13         2015.0\n",
       "14         2015.0\n",
       "15         2015.0\n",
       "16         2015.0\n",
       "17         2015.0\n",
       "18         2015.0\n",
       "19         2015.0\n",
       "20         2015.0\n",
       "21         2015.0\n",
       "22         2015.0\n",
       "23         2015.0\n",
       "24         2015.0\n",
       "25         2015.0\n",
       "26         2015.0\n",
       "27         2015.0\n",
       "28         2015.0\n",
       "29         2015.0\n",
       "30         2015.0\n",
       "31         2015.0\n",
       "32         2015.0\n",
       "33         2015.0\n",
       "34         2015.0\n",
       "35         2015.0\n",
       "36         2015.0\n",
       "37         2015.0\n",
       "38         2015.0\n",
       "39         2015.0\n",
       "40         2015.0\n",
       "41         2015.0\n",
       "42         2015.0\n",
       "43         2015.0\n",
       "44         2015.0\n",
       "45         2015.0\n",
       "46         2015.0\n",
       "47         2015.0\n",
       "48         2015.0\n",
       "49         2015.0\n",
       "50         2015.0\n",
       "51         2015.0\n",
       "52         2015.0\n",
       "53         2015.0\n",
       "54         2015.0\n",
       "55         2015.0\n",
       "56         2015.0\n",
       "57         2015.0\n",
       "58         2015.0\n",
       "59         2015.0\n",
       "60         2015.0\n",
       "61         2015.0\n",
       "62         2015.0\n",
       "63         2015.0\n",
       "64         2015.0\n",
       "65         2015.0\n",
       "66         2015.0\n",
       "67         2015.0\n",
       "68         2015.0\n",
       "69         2015.0\n",
       "70         2015.0\n",
       "71         2015.0\n",
       "72         2015.0\n",
       "73         2015.0\n",
       "74         2015.0\n",
       "75         2015.0\n",
       "76         2015.0\n",
       "77         2015.0\n",
       "78         2015.0\n",
       "79         2015.0\n",
       "80         2015.0\n",
       "81         2015.0\n",
       "82         2015.0\n",
       "83         2015.0\n",
       "84         2015.0\n",
       "85         2015.0\n",
       "86         2015.0\n",
       "87         2015.0\n",
       "88         2015.0\n",
       "89         2015.0\n",
       "90         2015.0\n",
       "91         2015.0\n",
       "92         2015.0\n",
       "93         2015.0\n",
       "94         2015.0\n",
       "95         2015.0\n",
       "96         2015.0\n",
       "97         2015.0\n",
       "98         2015.0\n",
       "99         2015.0\n",
       "100        2015.0\n",
       "101        2015.0\n",
       "102        2015.0\n",
       "103        2015.0\n",
       "104        2015.0\n",
       "105        2015.0\n",
       "106        2015.0\n",
       "107        2015.0\n",
       "108        2015.0\n",
       "109        2015.0\n",
       "110        2015.0\n",
       "111        2015.0\n",
       "112        2015.0\n",
       "113        2015.0\n",
       "114        2015.0\n",
       "115        2015.0\n",
       "116        2015.0\n",
       "117        2015.0\n",
       "118        2015.0\n",
       "119        2015.0\n",
       "120        2015.0\n",
       "121        2015.0\n",
       "122        2015.0\n",
       "123        2015.0\n",
       "124        2015.0\n",
       "125        2015.0\n",
       "126        2015.0\n",
       "127        2015.0\n",
       "128        2015.0\n",
       "129        2015.0\n",
       "130        2015.0\n",
       "131        2015.0\n",
       "132        2015.0\n",
       "133        2015.0\n",
       "134        2015.0\n",
       "135        2015.0\n",
       "136        2015.0\n",
       "137        2015.0\n",
       "138        2015.0\n",
       "139        2015.0\n",
       "140        2015.0\n",
       "141        2015.0\n",
       "142        2015.0\n",
       "143        2015.0\n",
       "144        2015.0\n",
       "145        2015.0\n",
       "146        2015.0\n",
       "147        2015.0\n",
       "148        2015.0\n",
       "149        2015.0\n",
       "150        2015.0\n",
       "151        2015.0\n",
       "152        2015.0\n",
       "153        2015.0\n",
       "154        2015.0\n",
       "155        2015.0\n",
       "156        2015.0\n",
       "157        2015.0\n",
       "158        2015.0\n",
       "159        2015.0\n",
       "160        2015.0\n",
       "161        2015.0\n",
       "162        2015.0\n",
       "163        2015.0\n",
       "164        2015.0\n",
       "165        2015.0\n",
       "166        2015.0\n",
       "167        2015.0\n",
       "168        2015.0\n",
       "169        2015.0\n",
       "170        2015.0\n",
       "171        2015.0\n",
       "172        2015.0\n",
       "173        2015.0\n",
       "174        2015.0\n",
       "175        2015.0\n",
       "176        2015.0\n",
       "177        2015.0\n",
       "178        2015.0\n",
       "179        2015.0\n",
       "180        2015.0\n",
       "181        2015.0\n",
       "182        2015.0\n",
       "183        2015.0\n",
       "184        2015.0\n",
       "185        2015.0\n",
       "186        2015.0\n",
       "187        2015.0\n",
       "188        2015.0\n",
       "189        2015.0\n",
       "190        2015.0\n",
       "191        2015.0\n",
       "192        2015.0\n",
       "193        2015.0\n",
       "194        2015.0\n",
       "195        2015.0\n",
       "196        2015.0\n",
       "197        2015.0\n",
       "198        2015.0\n",
       "199        2015.0\n",
       "200        2015.0\n",
       "201        2015.0\n",
       "202        2015.0\n",
       "203        2015.0\n",
       "204        2015.0\n",
       "205        2015.0\n",
       "206        2015.0\n",
       "207        2015.0\n",
       "208        2015.0\n",
       "209        2015.0\n",
       "210        2015.0\n",
       "211        2015.0\n",
       "212        2015.0\n",
       "213        2015.0\n",
       "214        2015.0\n",
       "215        2015.0\n",
       "216        2015.0\n",
       "217        2015.0\n",
       "218        2015.0\n",
       "219        2015.0\n",
       "220        2015.0\n",
       "221        2015.0\n",
       "222        2015.0\n",
       "223        2015.0\n",
       "224        2015.0\n",
       "225        2015.0\n",
       "226        2015.0\n",
       "227        2015.0\n",
       "228        2015.0\n",
       "229        2015.0\n",
       "230        2015.0\n",
       "231        2015.0\n",
       "232        2015.0\n",
       "233        2015.0\n",
       "234        2015.0\n",
       "235        2015.0\n",
       "236        2015.0\n",
       "237        2015.0\n",
       "238        2015.0\n",
       "239        2015.0\n",
       "240        2015.0\n",
       "241        2015.0\n",
       "242        2015.0\n",
       "243        2015.0\n",
       "244        2015.0\n",
       "245        2015.0\n",
       "246        2015.0\n",
       "247        2015.0\n",
       "248        2015.0\n",
       "249        2015.0\n",
       "250        2015.0\n",
       "251        2015.0\n",
       "252        2015.0\n",
       "253        2015.0\n",
       "254        2015.0\n",
       "255        2015.0\n",
       "256        2015.0\n",
       "257        2015.0\n",
       "258        2015.0\n",
       "259        2015.0\n",
       "260        2015.0\n",
       "261        2015.0\n",
       "262        2015.0\n",
       "263        2015.0\n",
       "264        2015.0\n",
       "265        2015.0\n",
       "266        2015.0\n",
       "267        2015.0\n",
       "268        2015.0\n",
       "269        2015.0\n",
       "270        2015.0\n",
       "271        2015.0\n",
       "272        2015.0\n",
       "273        2015.0\n",
       "274        2015.0\n",
       "275        2015.0\n",
       "276        2015.0\n",
       "277        2015.0\n",
       "278        2015.0\n",
       "279        2015.0\n",
       "280        2015.0\n",
       "281        2015.0\n",
       "282        2015.0\n",
       "283        2015.0\n",
       "284        2015.0\n",
       "285        2015.0\n",
       "286        2015.0\n",
       "287        2015.0\n",
       "288        2015.0\n",
       "289        2015.0\n",
       "290        2015.0\n",
       "291        2015.0\n",
       "292        2015.0\n",
       "293        2015.0\n",
       "294        2015.0\n",
       "295        2015.0\n",
       "296        2015.0\n",
       "297        2015.0\n",
       "298        2015.0\n",
       "299        2015.0\n",
       "300        2015.0\n",
       "301        2015.0\n",
       "302        2015.0\n",
       "303        2015.0\n",
       "304        2015.0\n",
       "305        2015.0\n",
       "306        2015.0\n",
       "307        2015.0\n",
       "308        2015.0\n",
       "309        2015.0\n",
       "310        2015.0\n",
       "311        2015.0\n",
       "312        2015.0\n",
       "313        2015.0\n",
       "314        2015.0\n",
       "315        2015.0\n",
       "316        2015.0\n",
       "317        2015.0\n",
       "318        2015.0\n",
       "319        2015.0\n",
       "320        2015.0\n",
       "321        2015.0\n",
       "322        2015.0\n",
       "323        2015.0\n",
       "324        2015.0\n",
       "325        2015.0\n",
       "326        2015.0\n",
       "327        2015.0\n",
       "328        2015.0\n",
       "329        2015.0\n",
       "330        2015.0\n",
       "331        2015.0\n",
       "332        2015.0\n",
       "333        2015.0\n",
       "334        2015.0\n",
       "335        2015.0\n",
       "336        2015.0\n",
       "337        2015.0\n",
       "338        2015.0\n",
       "339        2015.0\n",
       "340        2015.0\n",
       "341        2015.0\n",
       "342        2015.0\n",
       "343        2015.0\n",
       "344        2015.0\n",
       "345        2015.0\n",
       "346        2015.0\n",
       "347        2015.0\n",
       "348        2015.0\n",
       "349        2015.0\n",
       "350        2015.0\n",
       "351        2015.0\n",
       "352        2015.0\n",
       "353        2015.0\n",
       "354        2015.0\n",
       "355        2015.0\n",
       "356        2015.0\n",
       "357        2015.0\n",
       "358        2015.0\n",
       "359        2015.0\n",
       "360        2015.0\n",
       "361        2015.0\n",
       "362        2015.0\n",
       "363        2015.0\n",
       "364        2015.0\n",
       "365        2015.0\n",
       "366        2015.0\n",
       "367        2015.0\n",
       "368        2015.0\n",
       "369        2015.0\n",
       "370        2015.0\n",
       "371        2015.0\n",
       "372        2015.0\n",
       "373        2015.0\n",
       "374        2015.0\n",
       "375        2015.0\n",
       "376        2015.0\n",
       "377        2015.0\n",
       "378        2015.0\n",
       "379        2015.0\n",
       "380        2015.0\n",
       "381        2015.0\n",
       "382        2015.0\n",
       "383        2015.0\n",
       "384        2015.0\n",
       "385        2015.0\n",
       "386        2015.0\n",
       "387        2015.0\n",
       "388        2015.0\n",
       "389        2015.0\n",
       "390        2015.0\n",
       "391        2015.0\n",
       "392        2015.0\n",
       "393        2015.0\n",
       "394        2015.0\n",
       "395        2015.0\n",
       "396        2015.0\n",
       "397        2015.0\n",
       "398        2015.0\n",
       "399        2015.0\n",
       "400        2015.0\n",
       "401        2015.0\n",
       "402        2015.0\n",
       "403        2015.0\n",
       "404        2015.0\n",
       "405        2015.0\n",
       "406        2015.0\n",
       "407        2015.0\n",
       "408        2015.0\n",
       "409        2015.0\n",
       "410        2015.0\n",
       "411        2015.0\n",
       "412        2015.0\n",
       "413        2015.0\n",
       "414        2015.0\n",
       "415        2015.0\n",
       "416        2015.0\n",
       "417        2015.0\n",
       "418        2015.0\n",
       "419        2015.0\n",
       "420        2015.0\n",
       "421        2015.0\n",
       "422        2015.0\n",
       "423        2015.0\n",
       "424        2015.0\n",
       "425        2015.0\n",
       "426        2015.0\n",
       "427        2015.0\n",
       "428        2015.0\n",
       "429        2015.0\n",
       "430        2015.0\n",
       "431        2015.0\n",
       "432        2015.0\n",
       "433        2015.0\n",
       "434        2015.0\n",
       "435        2015.0\n",
       "436        2015.0\n",
       "437        2015.0\n",
       "438        2015.0\n",
       "439        2015.0\n",
       "440        2015.0\n",
       "441        2015.0\n",
       "442        2015.0\n",
       "443        2015.0\n",
       "444        2015.0\n",
       "445        2015.0\n",
       "446        2015.0\n",
       "447        2015.0\n",
       "448        2015.0\n",
       "449        2015.0\n",
       "450        2015.0\n",
       "451        2015.0\n",
       "452        2015.0\n",
       "453        2015.0\n",
       "454        2015.0\n",
       "455        2015.0\n",
       "456        2015.0\n",
       "457        2015.0\n",
       "458        2015.0\n",
       "459        2015.0\n",
       "460        2015.0\n",
       "461        2015.0\n",
       "462        2015.0\n",
       "463        2015.0\n",
       "464        2015.0\n",
       "465        2015.0\n",
       "466        2015.0\n",
       "467        2015.0\n",
       "468        2015.0\n",
       "469        2015.0\n",
       "470        2015.0\n",
       "471        2015.0\n",
       "472        2015.0\n",
       "473        2015.0\n",
       "474        2015.0\n",
       "475        2015.0\n",
       "476        2015.0\n",
       "477        2015.0\n",
       "478        2015.0\n",
       "479        2015.0\n",
       "480        2015.0\n",
       "481        2015.0\n",
       "482        2015.0\n",
       "483        2015.0\n",
       "484        2015.0\n",
       "485        2015.0\n",
       "486        2015.0\n",
       "487        2015.0\n",
       "488        2015.0\n",
       "489        2015.0\n",
       "490        2015.0\n",
       "491        2015.0\n",
       "492        2015.0\n",
       "493        2015.0\n",
       "494        2015.0\n",
       "495        2015.0\n",
       "496        2015.0\n",
       "497        2015.0\n",
       "498        2015.0\n",
       "            ...  \n",
       "2260202    2016.0\n",
       "2260203    2016.0\n",
       "2260204    2016.0\n",
       "2260205    2016.0\n",
       "2260206    2016.0\n",
       "2260207    2016.0\n",
       "2260208    2016.0\n",
       "2260209    2016.0\n",
       "2260210    2016.0\n",
       "2260211    2016.0\n",
       "2260212    2016.0\n",
       "2260213    2016.0\n",
       "2260214    2016.0\n",
       "2260215    2016.0\n",
       "2260216    2016.0\n",
       "2260217    2016.0\n",
       "2260218    2016.0\n",
       "2260219    2016.0\n",
       "2260220    2016.0\n",
       "2260221    2016.0\n",
       "2260222    2016.0\n",
       "2260223    2016.0\n",
       "2260224    2016.0\n",
       "2260225    2016.0\n",
       "2260226    2016.0\n",
       "2260227    2016.0\n",
       "2260228    2016.0\n",
       "2260229    2016.0\n",
       "2260230    2016.0\n",
       "2260231    2016.0\n",
       "2260232    2016.0\n",
       "2260233    2016.0\n",
       "2260234    2016.0\n",
       "2260235    2016.0\n",
       "2260236    2016.0\n",
       "2260237    2016.0\n",
       "2260238    2016.0\n",
       "2260239    2016.0\n",
       "2260240    2016.0\n",
       "2260241    2016.0\n",
       "2260242    2016.0\n",
       "2260243    2016.0\n",
       "2260244    2016.0\n",
       "2260245    2016.0\n",
       "2260246    2016.0\n",
       "2260247    2016.0\n",
       "2260248    2016.0\n",
       "2260249    2016.0\n",
       "2260250    2016.0\n",
       "2260251    2016.0\n",
       "2260252    2016.0\n",
       "2260253    2016.0\n",
       "2260254    2016.0\n",
       "2260255    2016.0\n",
       "2260256    2016.0\n",
       "2260257    2016.0\n",
       "2260258    2016.0\n",
       "2260259    2016.0\n",
       "2260260    2016.0\n",
       "2260261    2016.0\n",
       "2260262    2016.0\n",
       "2260263    2016.0\n",
       "2260264    2016.0\n",
       "2260265    2016.0\n",
       "2260266    2016.0\n",
       "2260267    2016.0\n",
       "2260268    2016.0\n",
       "2260269    2016.0\n",
       "2260270    2016.0\n",
       "2260271    2016.0\n",
       "2260272    2016.0\n",
       "2260273    2016.0\n",
       "2260274    2016.0\n",
       "2260275    2016.0\n",
       "2260276    2016.0\n",
       "2260277    2016.0\n",
       "2260278    2016.0\n",
       "2260279    2016.0\n",
       "2260280    2016.0\n",
       "2260281    2016.0\n",
       "2260282    2016.0\n",
       "2260283    2016.0\n",
       "2260284    2016.0\n",
       "2260285    2016.0\n",
       "2260286    2016.0\n",
       "2260287    2016.0\n",
       "2260288    2016.0\n",
       "2260289    2016.0\n",
       "2260290    2016.0\n",
       "2260291    2016.0\n",
       "2260292    2016.0\n",
       "2260293    2016.0\n",
       "2260294    2016.0\n",
       "2260295    2016.0\n",
       "2260296    2016.0\n",
       "2260297    2016.0\n",
       "2260298    2016.0\n",
       "2260299    2016.0\n",
       "2260300    2016.0\n",
       "2260301    2016.0\n",
       "2260302    2016.0\n",
       "2260303    2016.0\n",
       "2260304    2016.0\n",
       "2260305    2016.0\n",
       "2260306    2016.0\n",
       "2260307    2016.0\n",
       "2260308    2016.0\n",
       "2260309    2016.0\n",
       "2260310    2016.0\n",
       "2260311    2016.0\n",
       "2260312    2016.0\n",
       "2260313    2016.0\n",
       "2260314    2016.0\n",
       "2260315    2016.0\n",
       "2260316    2016.0\n",
       "2260317    2016.0\n",
       "2260318    2016.0\n",
       "2260319    2016.0\n",
       "2260320    2016.0\n",
       "2260321    2016.0\n",
       "2260322    2016.0\n",
       "2260323    2016.0\n",
       "2260324    2016.0\n",
       "2260325    2016.0\n",
       "2260326    2016.0\n",
       "2260327    2016.0\n",
       "2260328    2016.0\n",
       "2260329    2016.0\n",
       "2260330    2016.0\n",
       "2260331    2016.0\n",
       "2260332    2016.0\n",
       "2260333    2016.0\n",
       "2260334    2016.0\n",
       "2260335    2016.0\n",
       "2260336    2016.0\n",
       "2260337    2016.0\n",
       "2260338    2016.0\n",
       "2260339    2016.0\n",
       "2260340    2016.0\n",
       "2260341    2016.0\n",
       "2260342    2016.0\n",
       "2260343    2016.0\n",
       "2260344    2016.0\n",
       "2260345    2016.0\n",
       "2260346    2016.0\n",
       "2260347    2016.0\n",
       "2260348    2016.0\n",
       "2260349    2016.0\n",
       "2260350    2016.0\n",
       "2260351    2016.0\n",
       "2260352    2016.0\n",
       "2260353    2016.0\n",
       "2260354    2016.0\n",
       "2260355    2016.0\n",
       "2260356    2016.0\n",
       "2260357    2016.0\n",
       "2260358    2016.0\n",
       "2260359    2016.0\n",
       "2260360    2016.0\n",
       "2260361    2016.0\n",
       "2260362    2016.0\n",
       "2260363    2016.0\n",
       "2260364    2016.0\n",
       "2260365    2016.0\n",
       "2260366    2016.0\n",
       "2260367    2016.0\n",
       "2260368    2016.0\n",
       "2260369    2016.0\n",
       "2260370    2016.0\n",
       "2260371    2016.0\n",
       "2260372    2016.0\n",
       "2260373    2016.0\n",
       "2260374    2016.0\n",
       "2260375    2016.0\n",
       "2260376    2016.0\n",
       "2260377    2016.0\n",
       "2260378    2016.0\n",
       "2260379    2016.0\n",
       "2260380    2016.0\n",
       "2260381    2016.0\n",
       "2260382    2016.0\n",
       "2260383    2016.0\n",
       "2260384    2016.0\n",
       "2260385    2016.0\n",
       "2260386    2016.0\n",
       "2260387    2016.0\n",
       "2260388    2016.0\n",
       "2260389    2016.0\n",
       "2260390    2016.0\n",
       "2260391    2016.0\n",
       "2260392    2016.0\n",
       "2260393    2016.0\n",
       "2260394    2016.0\n",
       "2260395    2016.0\n",
       "2260396    2016.0\n",
       "2260397    2016.0\n",
       "2260398    2016.0\n",
       "2260399    2016.0\n",
       "2260400    2016.0\n",
       "2260401    2016.0\n",
       "2260402    2016.0\n",
       "2260403    2016.0\n",
       "2260404    2016.0\n",
       "2260405    2016.0\n",
       "2260406    2016.0\n",
       "2260407    2016.0\n",
       "2260408    2016.0\n",
       "2260409    2016.0\n",
       "2260410    2016.0\n",
       "2260411    2016.0\n",
       "2260412    2016.0\n",
       "2260413    2016.0\n",
       "2260414    2016.0\n",
       "2260415    2016.0\n",
       "2260416    2016.0\n",
       "2260417    2016.0\n",
       "2260418    2016.0\n",
       "2260419    2016.0\n",
       "2260420    2016.0\n",
       "2260421    2016.0\n",
       "2260422    2016.0\n",
       "2260423    2016.0\n",
       "2260424    2016.0\n",
       "2260425    2016.0\n",
       "2260426    2016.0\n",
       "2260427    2016.0\n",
       "2260428    2016.0\n",
       "2260429    2016.0\n",
       "2260430    2016.0\n",
       "2260431    2016.0\n",
       "2260432    2016.0\n",
       "2260433    2016.0\n",
       "2260434    2016.0\n",
       "2260435    2016.0\n",
       "2260436    2016.0\n",
       "2260437    2016.0\n",
       "2260438    2016.0\n",
       "2260439    2016.0\n",
       "2260440    2016.0\n",
       "2260441    2016.0\n",
       "2260442    2016.0\n",
       "2260443    2016.0\n",
       "2260444    2016.0\n",
       "2260445    2016.0\n",
       "2260446    2016.0\n",
       "2260447    2016.0\n",
       "2260448    2016.0\n",
       "2260449    2016.0\n",
       "2260450    2016.0\n",
       "2260451    2016.0\n",
       "2260452    2016.0\n",
       "2260453    2016.0\n",
       "2260454    2016.0\n",
       "2260455    2016.0\n",
       "2260456    2016.0\n",
       "2260457    2016.0\n",
       "2260458    2016.0\n",
       "2260459    2016.0\n",
       "2260460    2016.0\n",
       "2260461    2016.0\n",
       "2260462    2016.0\n",
       "2260463    2016.0\n",
       "2260464    2016.0\n",
       "2260465    2016.0\n",
       "2260466    2016.0\n",
       "2260467    2016.0\n",
       "2260468    2016.0\n",
       "2260469    2016.0\n",
       "2260470    2016.0\n",
       "2260471    2016.0\n",
       "2260472    2016.0\n",
       "2260473    2016.0\n",
       "2260474    2016.0\n",
       "2260475    2016.0\n",
       "2260476    2016.0\n",
       "2260477    2016.0\n",
       "2260478    2016.0\n",
       "2260479    2016.0\n",
       "2260480    2016.0\n",
       "2260481    2016.0\n",
       "2260482    2016.0\n",
       "2260483    2016.0\n",
       "2260484    2016.0\n",
       "2260485    2016.0\n",
       "2260486    2016.0\n",
       "2260487    2016.0\n",
       "2260488    2016.0\n",
       "2260489    2016.0\n",
       "2260490    2016.0\n",
       "2260491    2016.0\n",
       "2260492    2016.0\n",
       "2260493    2016.0\n",
       "2260494    2016.0\n",
       "2260495    2016.0\n",
       "2260496    2016.0\n",
       "2260497    2016.0\n",
       "2260498    2016.0\n",
       "2260499    2016.0\n",
       "2260500    2016.0\n",
       "2260501    2016.0\n",
       "2260502    2016.0\n",
       "2260503    2016.0\n",
       "2260504    2016.0\n",
       "2260505    2016.0\n",
       "2260506    2016.0\n",
       "2260507    2016.0\n",
       "2260508    2016.0\n",
       "2260509    2016.0\n",
       "2260510    2016.0\n",
       "2260511    2016.0\n",
       "2260512    2016.0\n",
       "2260513    2016.0\n",
       "2260514    2016.0\n",
       "2260515    2016.0\n",
       "2260516    2016.0\n",
       "2260517    2016.0\n",
       "2260518    2016.0\n",
       "2260519    2016.0\n",
       "2260520    2016.0\n",
       "2260521    2016.0\n",
       "2260522    2016.0\n",
       "2260523    2016.0\n",
       "2260524    2016.0\n",
       "2260525    2016.0\n",
       "2260526    2016.0\n",
       "2260527    2016.0\n",
       "2260528    2016.0\n",
       "2260529    2016.0\n",
       "2260530    2016.0\n",
       "2260531    2016.0\n",
       "2260532    2016.0\n",
       "2260533    2016.0\n",
       "2260534    2016.0\n",
       "2260535    2016.0\n",
       "2260536    2016.0\n",
       "2260537    2016.0\n",
       "2260538    2016.0\n",
       "2260539    2016.0\n",
       "2260540    2016.0\n",
       "2260541    2016.0\n",
       "2260542    2016.0\n",
       "2260543    2016.0\n",
       "2260544    2016.0\n",
       "2260545    2016.0\n",
       "2260546    2016.0\n",
       "2260547    2016.0\n",
       "2260548    2016.0\n",
       "2260549    2016.0\n",
       "2260550    2016.0\n",
       "2260551    2016.0\n",
       "2260552    2016.0\n",
       "2260553    2016.0\n",
       "2260554    2016.0\n",
       "2260555    2016.0\n",
       "2260556    2016.0\n",
       "2260557    2016.0\n",
       "2260558    2016.0\n",
       "2260559    2016.0\n",
       "2260560    2016.0\n",
       "2260561    2016.0\n",
       "2260562    2016.0\n",
       "2260563    2016.0\n",
       "2260564    2016.0\n",
       "2260565    2016.0\n",
       "2260566    2016.0\n",
       "2260567    2016.0\n",
       "2260568    2016.0\n",
       "2260569    2016.0\n",
       "2260570    2016.0\n",
       "2260571    2016.0\n",
       "2260572    2016.0\n",
       "2260573    2016.0\n",
       "2260574    2016.0\n",
       "2260575    2016.0\n",
       "2260576    2016.0\n",
       "2260577    2016.0\n",
       "2260578    2016.0\n",
       "2260579    2016.0\n",
       "2260580    2016.0\n",
       "2260581    2016.0\n",
       "2260582    2016.0\n",
       "2260583    2016.0\n",
       "2260584    2016.0\n",
       "2260585    2016.0\n",
       "2260586    2016.0\n",
       "2260587    2016.0\n",
       "2260588    2016.0\n",
       "2260589    2016.0\n",
       "2260590    2016.0\n",
       "2260591    2016.0\n",
       "2260592    2016.0\n",
       "2260593    2016.0\n",
       "2260594    2016.0\n",
       "2260595    2016.0\n",
       "2260596    2016.0\n",
       "2260597    2016.0\n",
       "2260598    2016.0\n",
       "2260599    2016.0\n",
       "2260600    2016.0\n",
       "2260601    2016.0\n",
       "2260602    2016.0\n",
       "2260603    2016.0\n",
       "2260604    2016.0\n",
       "2260605    2016.0\n",
       "2260606    2016.0\n",
       "2260607    2016.0\n",
       "2260608    2016.0\n",
       "2260609    2016.0\n",
       "2260610    2016.0\n",
       "2260611    2016.0\n",
       "2260612    2016.0\n",
       "2260613    2016.0\n",
       "2260614    2016.0\n",
       "2260615    2016.0\n",
       "2260616    2016.0\n",
       "2260617    2016.0\n",
       "2260618    2016.0\n",
       "2260619    2016.0\n",
       "2260620    2016.0\n",
       "2260621    2016.0\n",
       "2260622    2016.0\n",
       "2260623    2016.0\n",
       "2260624    2016.0\n",
       "2260625    2016.0\n",
       "2260626    2016.0\n",
       "2260627    2016.0\n",
       "2260628    2016.0\n",
       "2260629    2016.0\n",
       "2260630    2016.0\n",
       "2260631    2016.0\n",
       "2260632    2016.0\n",
       "2260633    2016.0\n",
       "2260634    2016.0\n",
       "2260635    2016.0\n",
       "2260636    2016.0\n",
       "2260637    2016.0\n",
       "2260638    2016.0\n",
       "2260639    2016.0\n",
       "2260640    2016.0\n",
       "2260641    2016.0\n",
       "2260642    2016.0\n",
       "2260643    2016.0\n",
       "2260644    2016.0\n",
       "2260645    2016.0\n",
       "2260646    2016.0\n",
       "2260647    2016.0\n",
       "2260648    2016.0\n",
       "2260649    2016.0\n",
       "2260650    2016.0\n",
       "2260651    2016.0\n",
       "2260652    2016.0\n",
       "2260653    2016.0\n",
       "2260654    2016.0\n",
       "2260655    2016.0\n",
       "2260656    2016.0\n",
       "2260657    2016.0\n",
       "2260658    2016.0\n",
       "2260659    2016.0\n",
       "2260660    2016.0\n",
       "2260661    2016.0\n",
       "2260662    2016.0\n",
       "2260663    2016.0\n",
       "2260664    2016.0\n",
       "2260665    2016.0\n",
       "2260666    2016.0\n",
       "2260667    2016.0\n",
       "2260668    2016.0\n",
       "2260669    2016.0\n",
       "2260670    2016.0\n",
       "2260671    2016.0\n",
       "2260672    2016.0\n",
       "2260673    2016.0\n",
       "2260674    2016.0\n",
       "2260675    2016.0\n",
       "2260676    2016.0\n",
       "2260677    2016.0\n",
       "2260678    2016.0\n",
       "2260679    2016.0\n",
       "2260680    2016.0\n",
       "2260681    2016.0\n",
       "2260682    2016.0\n",
       "2260683    2016.0\n",
       "2260684    2016.0\n",
       "2260685    2016.0\n",
       "2260686    2016.0\n",
       "2260687    2016.0\n",
       "2260688    2016.0\n",
       "2260689    2016.0\n",
       "2260690    2016.0\n",
       "2260691    2016.0\n",
       "2260692    2016.0\n",
       "2260693    2016.0\n",
       "2260694    2016.0\n",
       "2260695    2016.0\n",
       "2260696    2016.0\n",
       "2260697    2016.0\n",
       "2260698    2016.0\n",
       "2260699       NaN\n",
       "2260700       NaN\n",
       "Name: year, Length: 2260701, dtype: float64"
      ]
     },
     "execution_count": 67,
     "metadata": {},
     "output_type": "execute_result"
    }
   ],
   "source": [
    "accept.year.dt.year"
   ]
  },
  {
   "cell_type": "code",
   "execution_count": 68,
   "metadata": {},
   "outputs": [],
   "source": [
    "accept['year'] =accept.year.dt.year"
   ]
  },
  {
   "cell_type": "code",
   "execution_count": 72,
   "metadata": {},
   "outputs": [
    {
     "data": {
      "text/plain": [
       "Text(0.5, 1.0, 'Number of Loans per Year')"
      ]
     },
     "execution_count": 72,
     "metadata": {},
     "output_type": "execute_result"
    },
    {
     "data": {
      "image/png": "[encoded data removed]",
      "text/plain": [
       "<Figure size 432x288 with 1 Axes>"
      ]
     },
     "metadata": {
      "needs_background": "light"
     },
     "output_type": "display_data"
    }
   ],
   "source": [
    "accept.groupby('year')['loan_amnt'].count().plot.bar()\n",
    "plt.title('Number of Loans per Year')"
   ]
  },
  {
   "cell_type": "code",
   "execution_count": 352,
   "metadata": {},
   "outputs": [
    {
     "data": {
      "text/plain": [
       "count    2.260668e+06\n",
       "mean     1.309283e+01\n",
       "std      4.832138e+00\n",
       "min      5.310000e+00\n",
       "25%      9.490000e+00\n",
       "50%      1.262000e+01\n",
       "75%      1.599000e+01\n",
       "max      3.099000e+01\n",
       "Name: int_rate, dtype: float64"
      ]
     },
     "execution_count": 352,
     "metadata": {},
     "output_type": "execute_result"
    }
   ],
   "source": [
    "accept.int_rate.describe()"
   ]
  },
  {
   "cell_type": "code",
   "execution_count": null,
   "metadata": {},
   "outputs": [],
   "source": []
  },
  {
   "cell_type": "code",
   "execution_count": null,
   "metadata": {},
   "outputs": [],
   "source": []
  },
  {
   "cell_type": "code",
   "execution_count": 5,
   "metadata": {},
   "outputs": [],
   "source": [
    "df_negClass = df[df['loan_status'].isin(['Fully Paid', 'Does not meet the credit policy. Status:Fully Paid'])]\n",
    "\n",
    "df_posClass = df[df['loan_status'].isin(['Charged Off', \n",
    "                                         'Does not meet the credit policy. Status:Charged Off', 'Default'])]\n",
    "\n",
    "\n",
    "df = pd.concat([df_negClass, df_posClass])\n"
   ]
  },
  {
   "cell_type": "code",
   "execution_count": 6,
   "metadata": {},
   "outputs": [],
   "source": [
    "df['loan_status_binary'] = (~df.loan_status.isin(['Fully Paid',\\\n",
    "                                                  'Does not meet the credit policy. Status:Fully Paid'])).astype(int)"
   ]
  },
  {
   "cell_type": "code",
   "execution_count": 7,
   "metadata": {},
   "outputs": [
    {
     "data": {
      "text/plain": [
       "0    1078739\n",
       "1     269360\n",
       "Name: loan_status_binary, dtype: int64"
      ]
     },
     "execution_count": 7,
     "metadata": {},
     "output_type": "execute_result"
    }
   ],
   "source": [
    "df.loan_status_binary.value_counts()"
   ]
  },
  {
   "cell_type": "code",
   "execution_count": 8,
   "metadata": {},
   "outputs": [
    {
     "data": {
      "text/plain": [
       "0    0.800193\n",
       "1    0.199807\n",
       "Name: loan_status_binary, dtype: float64"
      ]
     },
     "execution_count": 8,
     "metadata": {},
     "output_type": "execute_result"
    }
   ],
   "source": [
    "#80% of the observations are non-default. 20% default. \n",
    "df.loan_status_binary.value_counts()/df.loan_status_binary.count()"
   ]
  },
  {
   "cell_type": "code",
   "execution_count": 9,
   "metadata": {},
   "outputs": [],
   "source": [
    "df.drop('loan_status', axis = 1, inplace = True)"
   ]
  },
  {
   "cell_type": "markdown",
   "metadata": {},
   "source": [
    "#### Check missing Values"
   ]
  },
  {
   "cell_type": "code",
   "execution_count": 10,
   "metadata": {},
   "outputs": [],
   "source": [
    "def missing_data(df):\n",
    "    miss = np.sum(df.isnull(),axis =0)\n",
    "    miss = miss.loc[miss>0].sort_values(ascending = False)\n",
    "    missmean = np.mean(df.isnull(),axis =0)\n",
    "    missmean = missmean.loc[missmean>0].sort_values(ascending = False)\n",
    "    return pd.concat([miss.rename('count'),missmean.rename('mean')],axis = 1)"
   ]
  },
  {
   "cell_type": "code",
   "execution_count": 11,
   "metadata": {},
   "outputs": [
    {
     "data": {
      "text/html": [
       "<div>\n",
       "<style scoped>\n",
       "    .dataframe tbody tr th:only-of-type {\n",
       "        vertical-align: middle;\n",
       "    }\n",
       "\n",
       "    .dataframe tbody tr th {\n",
       "        vertical-align: top;\n",
       "    }\n",
       "\n",
       "    .dataframe thead th {\n",
       "        text-align: right;\n",
       "    }\n",
       "</style>\n",
       "<table border=\"1\" class=\"dataframe\">\n",
       "  <thead>\n",
       "    <tr style=\"text-align: right;\">\n",
       "      <th></th>\n",
       "      <th>count</th>\n",
       "      <th>mean</th>\n",
       "    </tr>\n",
       "  </thead>\n",
       "  <tbody>\n",
       "    <tr>\n",
       "      <th>member_id</th>\n",
       "      <td>1348099</td>\n",
       "      <td>1.000000e+00</td>\n",
       "    </tr>\n",
       "    <tr>\n",
       "      <th>next_pymnt_d</th>\n",
       "      <td>1345310</td>\n",
       "      <td>9.979312e-01</td>\n",
       "    </tr>\n",
       "    <tr>\n",
       "      <th>orig_projected_additional_accrued_interest</th>\n",
       "      <td>1344338</td>\n",
       "      <td>9.972101e-01</td>\n",
       "    </tr>\n",
       "    <tr>\n",
       "      <th>hardship_length</th>\n",
       "      <td>1342343</td>\n",
       "      <td>9.957303e-01</td>\n",
       "    </tr>\n",
       "    <tr>\n",
       "      <th>hardship_type</th>\n",
       "      <td>1342343</td>\n",
       "      <td>9.957303e-01</td>\n",
       "    </tr>\n",
       "    <tr>\n",
       "      <th>hardship_reason</th>\n",
       "      <td>1342343</td>\n",
       "      <td>9.957303e-01</td>\n",
       "    </tr>\n",
       "    <tr>\n",
       "      <th>hardship_status</th>\n",
       "      <td>1342343</td>\n",
       "      <td>9.957303e-01</td>\n",
       "    </tr>\n",
       "    <tr>\n",
       "      <th>hardship_amount</th>\n",
       "      <td>1342343</td>\n",
       "      <td>9.957303e-01</td>\n",
       "    </tr>\n",
       "    <tr>\n",
       "      <th>hardship_start_date</th>\n",
       "      <td>1342343</td>\n",
       "      <td>9.957303e-01</td>\n",
       "    </tr>\n",
       "    <tr>\n",
       "      <th>hardship_end_date</th>\n",
       "      <td>1342343</td>\n",
       "      <td>9.957303e-01</td>\n",
       "    </tr>\n",
       "    <tr>\n",
       "      <th>payment_plan_start_date</th>\n",
       "      <td>1342343</td>\n",
       "      <td>9.957303e-01</td>\n",
       "    </tr>\n",
       "    <tr>\n",
       "      <th>deferral_term</th>\n",
       "      <td>1342343</td>\n",
       "      <td>9.957303e-01</td>\n",
       "    </tr>\n",
       "    <tr>\n",
       "      <th>hardship_dpd</th>\n",
       "      <td>1342343</td>\n",
       "      <td>9.957303e-01</td>\n",
       "    </tr>\n",
       "    <tr>\n",
       "      <th>hardship_payoff_balance_amount</th>\n",
       "      <td>1342343</td>\n",
       "      <td>9.957303e-01</td>\n",
       "    </tr>\n",
       "    <tr>\n",
       "      <th>hardship_last_payment_amount</th>\n",
       "      <td>1342343</td>\n",
       "      <td>9.957303e-01</td>\n",
       "    </tr>\n",
       "    <tr>\n",
       "      <th>hardship_loan_status</th>\n",
       "      <td>1342343</td>\n",
       "      <td>9.957303e-01</td>\n",
       "    </tr>\n",
       "    <tr>\n",
       "      <th>sec_app_mths_since_last_major_derog</th>\n",
       "      <td>1341450</td>\n",
       "      <td>9.950679e-01</td>\n",
       "    </tr>\n",
       "    <tr>\n",
       "      <th>sec_app_revol_util</th>\n",
       "      <td>1329791</td>\n",
       "      <td>9.864194e-01</td>\n",
       "    </tr>\n",
       "    <tr>\n",
       "      <th>revol_bal_joint</th>\n",
       "      <td>1329464</td>\n",
       "      <td>9.861768e-01</td>\n",
       "    </tr>\n",
       "    <tr>\n",
       "      <th>sec_app_collections_12_mths_ex_med</th>\n",
       "      <td>1329463</td>\n",
       "      <td>9.861761e-01</td>\n",
       "    </tr>\n",
       "    <tr>\n",
       "      <th>sec_app_num_rev_accts</th>\n",
       "      <td>1329463</td>\n",
       "      <td>9.861761e-01</td>\n",
       "    </tr>\n",
       "    <tr>\n",
       "      <th>sec_app_open_act_il</th>\n",
       "      <td>1329463</td>\n",
       "      <td>9.861761e-01</td>\n",
       "    </tr>\n",
       "    <tr>\n",
       "      <th>sec_app_open_acc</th>\n",
       "      <td>1329463</td>\n",
       "      <td>9.861761e-01</td>\n",
       "    </tr>\n",
       "    <tr>\n",
       "      <th>sec_app_mort_acc</th>\n",
       "      <td>1329463</td>\n",
       "      <td>9.861761e-01</td>\n",
       "    </tr>\n",
       "    <tr>\n",
       "      <th>sec_app_inq_last_6mths</th>\n",
       "      <td>1329463</td>\n",
       "      <td>9.861761e-01</td>\n",
       "    </tr>\n",
       "    <tr>\n",
       "      <th>sec_app_earliest_cr_line</th>\n",
       "      <td>1329463</td>\n",
       "      <td>9.861761e-01</td>\n",
       "    </tr>\n",
       "    <tr>\n",
       "      <th>sec_app_fico_range_high</th>\n",
       "      <td>1329463</td>\n",
       "      <td>9.861761e-01</td>\n",
       "    </tr>\n",
       "    <tr>\n",
       "      <th>sec_app_fico_range_low</th>\n",
       "      <td>1329463</td>\n",
       "      <td>9.861761e-01</td>\n",
       "    </tr>\n",
       "    <tr>\n",
       "      <th>sec_app_chargeoff_within_12_mths</th>\n",
       "      <td>1329463</td>\n",
       "      <td>9.861761e-01</td>\n",
       "    </tr>\n",
       "    <tr>\n",
       "      <th>verification_status_joint</th>\n",
       "      <td>1322498</td>\n",
       "      <td>9.810096e-01</td>\n",
       "    </tr>\n",
       "    <tr>\n",
       "      <th>dti_joint</th>\n",
       "      <td>1322296</td>\n",
       "      <td>9.808597e-01</td>\n",
       "    </tr>\n",
       "    <tr>\n",
       "      <th>annual_inc_joint</th>\n",
       "      <td>1322293</td>\n",
       "      <td>9.808575e-01</td>\n",
       "    </tr>\n",
       "    <tr>\n",
       "      <th>settlement_percentage</th>\n",
       "      <td>1314807</td>\n",
       "      <td>9.753045e-01</td>\n",
       "    </tr>\n",
       "    <tr>\n",
       "      <th>settlement_term</th>\n",
       "      <td>1314807</td>\n",
       "      <td>9.753045e-01</td>\n",
       "    </tr>\n",
       "    <tr>\n",
       "      <th>debt_settlement_flag_date</th>\n",
       "      <td>1314807</td>\n",
       "      <td>9.753045e-01</td>\n",
       "    </tr>\n",
       "    <tr>\n",
       "      <th>settlement_amount</th>\n",
       "      <td>1314807</td>\n",
       "      <td>9.753045e-01</td>\n",
       "    </tr>\n",
       "    <tr>\n",
       "      <th>settlement_date</th>\n",
       "      <td>1314807</td>\n",
       "      <td>9.753045e-01</td>\n",
       "    </tr>\n",
       "    <tr>\n",
       "      <th>settlement_status</th>\n",
       "      <td>1314807</td>\n",
       "      <td>9.753045e-01</td>\n",
       "    </tr>\n",
       "    <tr>\n",
       "      <th>desc</th>\n",
       "      <td>1222144</td>\n",
       "      <td>9.065684e-01</td>\n",
       "    </tr>\n",
       "    <tr>\n",
       "      <th>mths_since_last_record</th>\n",
       "      <td>1118675</td>\n",
       "      <td>8.298167e-01</td>\n",
       "    </tr>\n",
       "    <tr>\n",
       "      <th>mths_since_recent_bc_dlq</th>\n",
       "      <td>1029070</td>\n",
       "      <td>7.633490e-01</td>\n",
       "    </tr>\n",
       "    <tr>\n",
       "      <th>mths_since_last_major_derog</th>\n",
       "      <td>994342</td>\n",
       "      <td>7.375883e-01</td>\n",
       "    </tr>\n",
       "    <tr>\n",
       "      <th>mths_since_recent_revol_delinq</th>\n",
       "      <td>898123</td>\n",
       "      <td>6.662144e-01</td>\n",
       "    </tr>\n",
       "    <tr>\n",
       "      <th>il_util</th>\n",
       "      <td>883052</td>\n",
       "      <td>6.550350e-01</td>\n",
       "    </tr>\n",
       "    <tr>\n",
       "      <th>mths_since_rcnt_il</th>\n",
       "      <td>824680</td>\n",
       "      <td>6.117355e-01</td>\n",
       "    </tr>\n",
       "    <tr>\n",
       "      <th>all_util</th>\n",
       "      <td>810516</td>\n",
       "      <td>6.012288e-01</td>\n",
       "    </tr>\n",
       "    <tr>\n",
       "      <th>inq_last_12m</th>\n",
       "      <td>810464</td>\n",
       "      <td>6.011903e-01</td>\n",
       "    </tr>\n",
       "    <tr>\n",
       "      <th>open_acc_6m</th>\n",
       "      <td>810464</td>\n",
       "      <td>6.011903e-01</td>\n",
       "    </tr>\n",
       "    <tr>\n",
       "      <th>total_cu_tl</th>\n",
       "      <td>810464</td>\n",
       "      <td>6.011903e-01</td>\n",
       "    </tr>\n",
       "    <tr>\n",
       "      <th>total_bal_il</th>\n",
       "      <td>810463</td>\n",
       "      <td>6.011895e-01</td>\n",
       "    </tr>\n",
       "    <tr>\n",
       "      <th>open_rv_24m</th>\n",
       "      <td>810463</td>\n",
       "      <td>6.011895e-01</td>\n",
       "    </tr>\n",
       "    <tr>\n",
       "      <th>max_bal_bc</th>\n",
       "      <td>810463</td>\n",
       "      <td>6.011895e-01</td>\n",
       "    </tr>\n",
       "    <tr>\n",
       "      <th>inq_fi</th>\n",
       "      <td>810463</td>\n",
       "      <td>6.011895e-01</td>\n",
       "    </tr>\n",
       "    <tr>\n",
       "      <th>open_rv_12m</th>\n",
       "      <td>810463</td>\n",
       "      <td>6.011895e-01</td>\n",
       "    </tr>\n",
       "    <tr>\n",
       "      <th>open_act_il</th>\n",
       "      <td>810463</td>\n",
       "      <td>6.011895e-01</td>\n",
       "    </tr>\n",
       "    <tr>\n",
       "      <th>open_il_24m</th>\n",
       "      <td>810463</td>\n",
       "      <td>6.011895e-01</td>\n",
       "    </tr>\n",
       "    <tr>\n",
       "      <th>open_il_12m</th>\n",
       "      <td>810463</td>\n",
       "      <td>6.011895e-01</td>\n",
       "    </tr>\n",
       "    <tr>\n",
       "      <th>mths_since_last_delinq</th>\n",
       "      <td>679960</td>\n",
       "      <td>5.043843e-01</td>\n",
       "    </tr>\n",
       "    <tr>\n",
       "      <th>mths_since_recent_inq</th>\n",
       "      <td>176822</td>\n",
       "      <td>1.311640e-01</td>\n",
       "    </tr>\n",
       "    <tr>\n",
       "      <th>num_tl_120dpd_2m</th>\n",
       "      <td>120152</td>\n",
       "      <td>8.912699e-02</td>\n",
       "    </tr>\n",
       "    <tr>\n",
       "      <th>mo_sin_old_il_acct</th>\n",
       "      <td>108325</td>\n",
       "      <td>8.035389e-02</td>\n",
       "    </tr>\n",
       "    <tr>\n",
       "      <th>emp_title</th>\n",
       "      <td>85950</td>\n",
       "      <td>6.375645e-02</td>\n",
       "    </tr>\n",
       "    <tr>\n",
       "      <th>emp_length</th>\n",
       "      <td>78550</td>\n",
       "      <td>5.826723e-02</td>\n",
       "    </tr>\n",
       "    <tr>\n",
       "      <th>pct_tl_nvr_dlq</th>\n",
       "      <td>70430</td>\n",
       "      <td>5.224394e-02</td>\n",
       "    </tr>\n",
       "    <tr>\n",
       "      <th>avg_cur_bal</th>\n",
       "      <td>70298</td>\n",
       "      <td>5.214602e-02</td>\n",
       "    </tr>\n",
       "    <tr>\n",
       "      <th>num_rev_accts</th>\n",
       "      <td>70277</td>\n",
       "      <td>5.213044e-02</td>\n",
       "    </tr>\n",
       "    <tr>\n",
       "      <th>mo_sin_rcnt_rev_tl_op</th>\n",
       "      <td>70277</td>\n",
       "      <td>5.213044e-02</td>\n",
       "    </tr>\n",
       "    <tr>\n",
       "      <th>mo_sin_old_rev_tl_op</th>\n",
       "      <td>70277</td>\n",
       "      <td>5.213044e-02</td>\n",
       "    </tr>\n",
       "    <tr>\n",
       "      <th>tot_cur_bal</th>\n",
       "      <td>70276</td>\n",
       "      <td>5.212970e-02</td>\n",
       "    </tr>\n",
       "    <tr>\n",
       "      <th>tot_coll_amt</th>\n",
       "      <td>70276</td>\n",
       "      <td>5.212970e-02</td>\n",
       "    </tr>\n",
       "    <tr>\n",
       "      <th>total_rev_hi_lim</th>\n",
       "      <td>70276</td>\n",
       "      <td>5.212970e-02</td>\n",
       "    </tr>\n",
       "    <tr>\n",
       "      <th>num_accts_ever_120_pd</th>\n",
       "      <td>70276</td>\n",
       "      <td>5.212970e-02</td>\n",
       "    </tr>\n",
       "    <tr>\n",
       "      <th>num_il_tl</th>\n",
       "      <td>70276</td>\n",
       "      <td>5.212970e-02</td>\n",
       "    </tr>\n",
       "    <tr>\n",
       "      <th>tot_hi_cred_lim</th>\n",
       "      <td>70276</td>\n",
       "      <td>5.212970e-02</td>\n",
       "    </tr>\n",
       "    <tr>\n",
       "      <th>num_tl_op_past_12m</th>\n",
       "      <td>70276</td>\n",
       "      <td>5.212970e-02</td>\n",
       "    </tr>\n",
       "    <tr>\n",
       "      <th>mo_sin_rcnt_tl</th>\n",
       "      <td>70276</td>\n",
       "      <td>5.212970e-02</td>\n",
       "    </tr>\n",
       "    <tr>\n",
       "      <th>num_tl_90g_dpd_24m</th>\n",
       "      <td>70276</td>\n",
       "      <td>5.212970e-02</td>\n",
       "    </tr>\n",
       "    <tr>\n",
       "      <th>num_op_rev_tl</th>\n",
       "      <td>70276</td>\n",
       "      <td>5.212970e-02</td>\n",
       "    </tr>\n",
       "    <tr>\n",
       "      <th>total_il_high_credit_limit</th>\n",
       "      <td>70276</td>\n",
       "      <td>5.212970e-02</td>\n",
       "    </tr>\n",
       "    <tr>\n",
       "      <th>num_tl_30dpd</th>\n",
       "      <td>70276</td>\n",
       "      <td>5.212970e-02</td>\n",
       "    </tr>\n",
       "    <tr>\n",
       "      <th>num_actv_bc_tl</th>\n",
       "      <td>70276</td>\n",
       "      <td>5.212970e-02</td>\n",
       "    </tr>\n",
       "    <tr>\n",
       "      <th>num_actv_rev_tl</th>\n",
       "      <td>70276</td>\n",
       "      <td>5.212970e-02</td>\n",
       "    </tr>\n",
       "    <tr>\n",
       "      <th>num_rev_tl_bal_gt_0</th>\n",
       "      <td>70276</td>\n",
       "      <td>5.212970e-02</td>\n",
       "    </tr>\n",
       "    <tr>\n",
       "      <th>num_bc_tl</th>\n",
       "      <td>70276</td>\n",
       "      <td>5.212970e-02</td>\n",
       "    </tr>\n",
       "    <tr>\n",
       "      <th>bc_util</th>\n",
       "      <td>64663</td>\n",
       "      <td>4.796606e-02</td>\n",
       "    </tr>\n",
       "    <tr>\n",
       "      <th>percent_bc_gt_75</th>\n",
       "      <td>64306</td>\n",
       "      <td>4.770124e-02</td>\n",
       "    </tr>\n",
       "    <tr>\n",
       "      <th>bc_open_to_buy</th>\n",
       "      <td>63894</td>\n",
       "      <td>4.739563e-02</td>\n",
       "    </tr>\n",
       "    <tr>\n",
       "      <th>mths_since_recent_bc</th>\n",
       "      <td>62972</td>\n",
       "      <td>4.671170e-02</td>\n",
       "    </tr>\n",
       "    <tr>\n",
       "      <th>num_sats</th>\n",
       "      <td>58590</td>\n",
       "      <td>4.346120e-02</td>\n",
       "    </tr>\n",
       "    <tr>\n",
       "      <th>num_bc_sats</th>\n",
       "      <td>58590</td>\n",
       "      <td>4.346120e-02</td>\n",
       "    </tr>\n",
       "    <tr>\n",
       "      <th>acc_open_past_24mths</th>\n",
       "      <td>50030</td>\n",
       "      <td>3.711152e-02</td>\n",
       "    </tr>\n",
       "    <tr>\n",
       "      <th>total_bc_limit</th>\n",
       "      <td>50030</td>\n",
       "      <td>3.711152e-02</td>\n",
       "    </tr>\n",
       "    <tr>\n",
       "      <th>mort_acc</th>\n",
       "      <td>50030</td>\n",
       "      <td>3.711152e-02</td>\n",
       "    </tr>\n",
       "    <tr>\n",
       "      <th>total_bal_ex_mort</th>\n",
       "      <td>50030</td>\n",
       "      <td>3.711152e-02</td>\n",
       "    </tr>\n",
       "    <tr>\n",
       "      <th>title</th>\n",
       "      <td>16661</td>\n",
       "      <td>1.235888e-02</td>\n",
       "    </tr>\n",
       "    <tr>\n",
       "      <th>last_pymnt_d</th>\n",
       "      <td>2325</td>\n",
       "      <td>1.724651e-03</td>\n",
       "    </tr>\n",
       "    <tr>\n",
       "      <th>pub_rec_bankruptcies</th>\n",
       "      <td>1365</td>\n",
       "      <td>1.012537e-03</td>\n",
       "    </tr>\n",
       "    <tr>\n",
       "      <th>revol_util</th>\n",
       "      <td>897</td>\n",
       "      <td>6.653814e-04</td>\n",
       "    </tr>\n",
       "    <tr>\n",
       "      <th>dti</th>\n",
       "      <td>374</td>\n",
       "      <td>2.774277e-04</td>\n",
       "    </tr>\n",
       "    <tr>\n",
       "      <th>collections_12_mths_ex_med</th>\n",
       "      <td>145</td>\n",
       "      <td>1.075589e-04</td>\n",
       "    </tr>\n",
       "    <tr>\n",
       "      <th>chargeoff_within_12_mths</th>\n",
       "      <td>145</td>\n",
       "      <td>1.075589e-04</td>\n",
       "    </tr>\n",
       "    <tr>\n",
       "      <th>tax_liens</th>\n",
       "      <td>105</td>\n",
       "      <td>7.788745e-05</td>\n",
       "    </tr>\n",
       "    <tr>\n",
       "      <th>last_credit_pull_d</th>\n",
       "      <td>57</td>\n",
       "      <td>4.228176e-05</td>\n",
       "    </tr>\n",
       "    <tr>\n",
       "      <th>inq_last_6mths</th>\n",
       "      <td>30</td>\n",
       "      <td>2.225356e-05</td>\n",
       "    </tr>\n",
       "    <tr>\n",
       "      <th>delinq_2yrs</th>\n",
       "      <td>29</td>\n",
       "      <td>2.151177e-05</td>\n",
       "    </tr>\n",
       "    <tr>\n",
       "      <th>earliest_cr_line</th>\n",
       "      <td>29</td>\n",
       "      <td>2.151177e-05</td>\n",
       "    </tr>\n",
       "    <tr>\n",
       "      <th>delinq_amnt</th>\n",
       "      <td>29</td>\n",
       "      <td>2.151177e-05</td>\n",
       "    </tr>\n",
       "    <tr>\n",
       "      <th>open_acc</th>\n",
       "      <td>29</td>\n",
       "      <td>2.151177e-05</td>\n",
       "    </tr>\n",
       "    <tr>\n",
       "      <th>pub_rec</th>\n",
       "      <td>29</td>\n",
       "      <td>2.151177e-05</td>\n",
       "    </tr>\n",
       "    <tr>\n",
       "      <th>total_acc</th>\n",
       "      <td>29</td>\n",
       "      <td>2.151177e-05</td>\n",
       "    </tr>\n",
       "    <tr>\n",
       "      <th>acc_now_delinq</th>\n",
       "      <td>29</td>\n",
       "      <td>2.151177e-05</td>\n",
       "    </tr>\n",
       "    <tr>\n",
       "      <th>annual_inc</th>\n",
       "      <td>4</td>\n",
       "      <td>2.967141e-06</td>\n",
       "    </tr>\n",
       "    <tr>\n",
       "      <th>zip_code</th>\n",
       "      <td>1</td>\n",
       "      <td>7.417853e-07</td>\n",
       "    </tr>\n",
       "  </tbody>\n",
       "</table>\n",
       "</div>"
      ],
      "text/plain": [
       "                                              count          mean\n",
       "member_id                                   1348099  1.000000e+00\n",
       "next_pymnt_d                                1345310  9.979312e-01\n",
       "orig_projected_additional_accrued_interest  1344338  9.972101e-01\n",
       "hardship_length                             1342343  9.957303e-01\n",
       "hardship_type                               1342343  9.957303e-01\n",
       "hardship_reason                             1342343  9.957303e-01\n",
       "hardship_status                             1342343  9.957303e-01\n",
       "hardship_amount                             1342343  9.957303e-01\n",
       "hardship_start_date                         1342343  9.957303e-01\n",
       "hardship_end_date                           1342343  9.957303e-01\n",
       "payment_plan_start_date                     1342343  9.957303e-01\n",
       "deferral_term                               1342343  9.957303e-01\n",
       "hardship_dpd                                1342343  9.957303e-01\n",
       "hardship_payoff_balance_amount              1342343  9.957303e-01\n",
       "hardship_last_payment_amount                1342343  9.957303e-01\n",
       "hardship_loan_status                        1342343  9.957303e-01\n",
       "sec_app_mths_since_last_major_derog         1341450  9.950679e-01\n",
       "sec_app_revol_util                          1329791  9.864194e-01\n",
       "revol_bal_joint                             1329464  9.861768e-01\n",
       "sec_app_collections_12_mths_ex_med          1329463  9.861761e-01\n",
       "sec_app_num_rev_accts                       1329463  9.861761e-01\n",
       "sec_app_open_act_il                         1329463  9.861761e-01\n",
       "sec_app_open_acc                            1329463  9.861761e-01\n",
       "sec_app_mort_acc                            1329463  9.861761e-01\n",
       "sec_app_inq_last_6mths                      1329463  9.861761e-01\n",
       "sec_app_earliest_cr_line                    1329463  9.861761e-01\n",
       "sec_app_fico_range_high                     1329463  9.861761e-01\n",
       "sec_app_fico_range_low                      1329463  9.861761e-01\n",
       "sec_app_chargeoff_within_12_mths            1329463  9.861761e-01\n",
       "verification_status_joint                   1322498  9.810096e-01\n",
       "dti_joint                                   1322296  9.808597e-01\n",
       "annual_inc_joint                            1322293  9.808575e-01\n",
       "settlement_percentage                       1314807  9.753045e-01\n",
       "settlement_term                             1314807  9.753045e-01\n",
       "debt_settlement_flag_date                   1314807  9.753045e-01\n",
       "settlement_amount                           1314807  9.753045e-01\n",
       "settlement_date                             1314807  9.753045e-01\n",
       "settlement_status                           1314807  9.753045e-01\n",
       "desc                                        1222144  9.065684e-01\n",
       "mths_since_last_record                      1118675  8.298167e-01\n",
       "mths_since_recent_bc_dlq                    1029070  7.633490e-01\n",
       "mths_since_last_major_derog                  994342  7.375883e-01\n",
       "mths_since_recent_revol_delinq               898123  6.662144e-01\n",
       "il_util                                      883052  6.550350e-01\n",
       "mths_since_rcnt_il                           824680  6.117355e-01\n",
       "all_util                                     810516  6.012288e-01\n",
       "inq_last_12m                                 810464  6.011903e-01\n",
       "open_acc_6m                                  810464  6.011903e-01\n",
       "total_cu_tl                                  810464  6.011903e-01\n",
       "total_bal_il                                 810463  6.011895e-01\n",
       "open_rv_24m                                  810463  6.011895e-01\n",
       "max_bal_bc                                   810463  6.011895e-01\n",
       "inq_fi                                       810463  6.011895e-01\n",
       "open_rv_12m                                  810463  6.011895e-01\n",
       "open_act_il                                  810463  6.011895e-01\n",
       "open_il_24m                                  810463  6.011895e-01\n",
       "open_il_12m                                  810463  6.011895e-01\n",
       "mths_since_last_delinq                       679960  5.043843e-01\n",
       "mths_since_recent_inq                        176822  1.311640e-01\n",
       "num_tl_120dpd_2m                             120152  8.912699e-02\n",
       "mo_sin_old_il_acct                           108325  8.035389e-02\n",
       "emp_title                                     85950  6.375645e-02\n",
       "emp_length                                    78550  5.826723e-02\n",
       "pct_tl_nvr_dlq                                70430  5.224394e-02\n",
       "avg_cur_bal                                   70298  5.214602e-02\n",
       "num_rev_accts                                 70277  5.213044e-02\n",
       "mo_sin_rcnt_rev_tl_op                         70277  5.213044e-02\n",
       "mo_sin_old_rev_tl_op                          70277  5.213044e-02\n",
       "tot_cur_bal                                   70276  5.212970e-02\n",
       "tot_coll_amt                                  70276  5.212970e-02\n",
       "total_rev_hi_lim                              70276  5.212970e-02\n",
       "num_accts_ever_120_pd                         70276  5.212970e-02\n",
       "num_il_tl                                     70276  5.212970e-02\n",
       "tot_hi_cred_lim                               70276  5.212970e-02\n",
       "num_tl_op_past_12m                            70276  5.212970e-02\n",
       "mo_sin_rcnt_tl                                70276  5.212970e-02\n",
       "num_tl_90g_dpd_24m                            70276  5.212970e-02\n",
       "num_op_rev_tl                                 70276  5.212970e-02\n",
       "total_il_high_credit_limit                    70276  5.212970e-02\n",
       "num_tl_30dpd                                  70276  5.212970e-02\n",
       "num_actv_bc_tl                                70276  5.212970e-02\n",
       "num_actv_rev_tl                               70276  5.212970e-02\n",
       "num_rev_tl_bal_gt_0                           70276  5.212970e-02\n",
       "num_bc_tl                                     70276  5.212970e-02\n",
       "bc_util                                       64663  4.796606e-02\n",
       "percent_bc_gt_75                              64306  4.770124e-02\n",
       "bc_open_to_buy                                63894  4.739563e-02\n",
       "mths_since_recent_bc                          62972  4.671170e-02\n",
       "num_sats                                      58590  4.346120e-02\n",
       "num_bc_sats                                   58590  4.346120e-02\n",
       "acc_open_past_24mths                          50030  3.711152e-02\n",
       "total_bc_limit                                50030  3.711152e-02\n",
       "mort_acc                                      50030  3.711152e-02\n",
       "total_bal_ex_mort                             50030  3.711152e-02\n",
       "title                                         16661  1.235888e-02\n",
       "last_pymnt_d                                   2325  1.724651e-03\n",
       "pub_rec_bankruptcies                           1365  1.012537e-03\n",
       "revol_util                                      897  6.653814e-04\n",
       "dti                                             374  2.774277e-04\n",
       "collections_12_mths_ex_med                      145  1.075589e-04\n",
       "chargeoff_within_12_mths                        145  1.075589e-04\n",
       "tax_liens                                       105  7.788745e-05\n",
       "last_credit_pull_d                               57  4.228176e-05\n",
       "inq_last_6mths                                   30  2.225356e-05\n",
       "delinq_2yrs                                      29  2.151177e-05\n",
       "earliest_cr_line                                 29  2.151177e-05\n",
       "delinq_amnt                                      29  2.151177e-05\n",
       "open_acc                                         29  2.151177e-05\n",
       "pub_rec                                          29  2.151177e-05\n",
       "total_acc                                        29  2.151177e-05\n",
       "acc_now_delinq                                   29  2.151177e-05\n",
       "annual_inc                                        4  2.967141e-06\n",
       "zip_code                                          1  7.417853e-07"
      ]
     },
     "execution_count": 11,
     "metadata": {},
     "output_type": "execute_result"
    }
   ],
   "source": [
    "missing_data(df)"
   ]
  },
  {
   "cell_type": "markdown",
   "metadata": {},
   "source": [
    "#### Drop/Remove Unnecessary Columns"
   ]
  },
  {
   "cell_type": "markdown",
   "metadata": {},
   "source": [
    "Drop columns related to 'hardship','settlement', and other columns we would not know at the time of loan applications"
   ]
  },
  {
   "cell_type": "code",
   "execution_count": 12,
   "metadata": {},
   "outputs": [],
   "source": [
    "hardship_columns = df.columns[df.columns.str.contains('hardship',case = False)]\n",
    "settlement_columns = df.columns[df.columns.str.contains('settlement',case = False)]\n",
    "\n",
    "df.drop(hardship_columns, axis =1, inplace = True)\n",
    "df.drop(settlement_columns, axis =1, inplace = True)\n",
    "\n",
    "#drop additional columns related to hardship\n",
    "df.drop(['deferral_term','payment_plan_start_date',\\\n",
    "         'orig_projected_additional_accrued_interest'], axis =1, inplace = True)"
   ]
  },
  {
   "cell_type": "markdown",
   "metadata": {},
   "source": [
    "Drop columns that will be unnecessary for model, mostly columns with diverse string values.\n",
    "It would be interesting to apply NLP techniques to group descriptions and perform semantic analysis. "
   ]
  },
  {
   "cell_type": "code",
   "execution_count": 13,
   "metadata": {},
   "outputs": [],
   "source": [
    "df.drop(['id','member_id','url','emp_title','zip_code','title','desc'],axis =1, inplace = True)"
   ]
  },
  {
   "cell_type": "markdown",
   "metadata": {},
   "source": [
    "Drop features with only one value"
   ]
  },
  {
   "cell_type": "code",
   "execution_count": 14,
   "metadata": {
    "scrolled": true
   },
   "outputs": [],
   "source": [
    "# for col in df.columns:\n",
    "#     if df[col].nunique() == 1:\n",
    "#         print(df[col].value_counts())\n",
    "df.drop(['policy_code','pymnt_plan'], axis = 1, inplace = True)"
   ]
  },
  {
   "cell_type": "markdown",
   "metadata": {},
   "source": [
    "### Prepayment and Profit Analysis "
   ]
  },
  {
   "cell_type": "code",
   "execution_count": 78,
   "metadata": {},
   "outputs": [
    {
     "data": {
      "text/plain": [
       "0    0.800193\n",
       "1    0.199807\n",
       "Name: loan_status_binary, dtype: float64"
      ]
     },
     "execution_count": 78,
     "metadata": {},
     "output_type": "execute_result"
    }
   ],
   "source": [
    "df.loan_status_binary.value_counts()/df.loan_status_binary.value_counts().sum()"
   ]
  },
  {
   "cell_type": "code",
   "execution_count": 15,
   "metadata": {
    "scrolled": true
   },
   "outputs": [],
   "source": [
    "df.issue_d = pd.to_datetime(df.issue_d)\n",
    "df.last_pymnt_d = pd.to_datetime(df.last_pymnt_d)"
   ]
  },
  {
   "cell_type": "code",
   "execution_count": 16,
   "metadata": {},
   "outputs": [
    {
     "data": {
      "text/plain": [
       " 36 months    1023206\n",
       " 60 months     324893\n",
       "Name: term, dtype: int64"
      ]
     },
     "execution_count": 16,
     "metadata": {},
     "output_type": "execute_result"
    }
   ],
   "source": [
    "df.term.value_counts()"
   ]
  },
  {
   "cell_type": "code",
   "execution_count": 17,
   "metadata": {},
   "outputs": [],
   "source": [
    "df['term_num'] = np.where(df.term == ' 36 months',36,60)"
   ]
  },
  {
   "cell_type": "code",
   "execution_count": 18,
   "metadata": {},
   "outputs": [],
   "source": [
    "def month_diff(a, b):\n",
    "    return abs(12 * (a.dt.year - b.dt.year) + (a.dt.month - b.dt.month))-1"
   ]
  },
  {
   "cell_type": "code",
   "execution_count": 19,
   "metadata": {},
   "outputs": [],
   "source": [
    "df['month_delta'] = month_diff(df.last_pymnt_d,df.issue_d)"
   ]
  },
  {
   "cell_type": "code",
   "execution_count": 20,
   "metadata": {},
   "outputs": [],
   "source": [
    "df['year'] = df.issue_d.dt.year"
   ]
  },
  {
   "cell_type": "code",
   "execution_count": 21,
   "metadata": {},
   "outputs": [],
   "source": [
    "df['months_prepaid'] = df.term_num - df.month_delta"
   ]
  },
  {
   "cell_type": "code",
   "execution_count": 22,
   "metadata": {},
   "outputs": [
    {
     "data": {
      "text/html": [
       "<div>\n",
       "<style scoped>\n",
       "    .dataframe tbody tr th:only-of-type {\n",
       "        vertical-align: middle;\n",
       "    }\n",
       "\n",
       "    .dataframe tbody tr th {\n",
       "        vertical-align: top;\n",
       "    }\n",
       "\n",
       "    .dataframe thead th {\n",
       "        text-align: right;\n",
       "    }\n",
       "</style>\n",
       "<table border=\"1\" class=\"dataframe\">\n",
       "  <thead>\n",
       "    <tr style=\"text-align: right;\">\n",
       "      <th></th>\n",
       "      <th></th>\n",
       "      <th>months_prepaid</th>\n",
       "    </tr>\n",
       "    <tr>\n",
       "      <th>loan_status_binary</th>\n",
       "      <th>term_num</th>\n",
       "      <th></th>\n",
       "    </tr>\n",
       "  </thead>\n",
       "  <tbody>\n",
       "    <tr>\n",
       "      <th rowspan=\"2\" valign=\"top\">0</th>\n",
       "      <th>36</th>\n",
       "      <td>15.091145</td>\n",
       "    </tr>\n",
       "    <tr>\n",
       "      <th>60</th>\n",
       "      <td>38.071421</td>\n",
       "    </tr>\n",
       "    <tr>\n",
       "      <th rowspan=\"2\" valign=\"top\">1</th>\n",
       "      <th>36</th>\n",
       "      <td>22.087528</td>\n",
       "    </tr>\n",
       "    <tr>\n",
       "      <th>60</th>\n",
       "      <td>43.170055</td>\n",
       "    </tr>\n",
       "  </tbody>\n",
       "</table>\n",
       "</div>"
      ],
      "text/plain": [
       "                             months_prepaid\n",
       "loan_status_binary term_num                \n",
       "0                  36             15.091145\n",
       "                   60             38.071421\n",
       "1                  36             22.087528\n",
       "                   60             43.170055"
      ]
     },
     "execution_count": 22,
     "metadata": {},
     "output_type": "execute_result"
    }
   ],
   "source": [
    "df.groupby(['loan_status_binary','term_num']).agg({'months_prepaid':'mean'})"
   ]
  },
  {
   "cell_type": "markdown",
   "metadata": {},
   "source": [
    "Analyze without 2016-2018 because these years contain many prepaid loans"
   ]
  },
  {
   "cell_type": "code",
   "execution_count": 23,
   "metadata": {},
   "outputs": [],
   "source": [
    "three = max(df.issue_d) - pd.Timedelta(36,'M')\n",
    "five =  max(df.issue_d) - pd.Timedelta(60,'M')"
   ]
  },
  {
   "cell_type": "code",
   "execution_count": 24,
   "metadata": {
    "scrolled": true
   },
   "outputs": [],
   "source": [
    "three_df = df.loc[(df.term == ' 36 months') & (df.issue_d <three)]"
   ]
  },
  {
   "cell_type": "code",
   "execution_count": 25,
   "metadata": {},
   "outputs": [],
   "source": [
    "five_df = df.loc[(df.term == ' 60 months') & (df.issue_d <five)]"
   ]
  },
  {
   "cell_type": "code",
   "execution_count": 26,
   "metadata": {},
   "outputs": [],
   "source": [
    "prepay_df_full = pd.concat([three_df,five_df])"
   ]
  },
  {
   "cell_type": "code",
   "execution_count": 27,
   "metadata": {},
   "outputs": [],
   "source": [
    "prepay_df = prepay_df_full[['month_delta','term_num','loan_status_binary','year']]"
   ]
  },
  {
   "cell_type": "code",
   "execution_count": 28,
   "metadata": {},
   "outputs": [
    {
     "name": "stderr",
     "output_type": "stream",
     "text": [
      "C:\\Users\\mjdch\\Anaconda3\\lib\\site-packages\\ipykernel_launcher.py:1: SettingWithCopyWarning: \n",
      "A value is trying to be set on a copy of a slice from a DataFrame.\n",
      "Try using .loc[row_indexer,col_indexer] = value instead\n",
      "\n",
      "See the caveats in the documentation: http://pandas.pydata.org/pandas-docs/stable/indexing.html#indexing-view-versus-copy\n",
      "  \"\"\"Entry point for launching an IPython kernel.\n"
     ]
    }
   ],
   "source": [
    "prepay_df['months_prepaid'] = (prepay_df.term_num - prepay_df.month_delta)"
   ]
  },
  {
   "cell_type": "code",
   "execution_count": 29,
   "metadata": {},
   "outputs": [
    {
     "data": {
      "text/html": [
       "<div>\n",
       "<style scoped>\n",
       "    .dataframe tbody tr th:only-of-type {\n",
       "        vertical-align: middle;\n",
       "    }\n",
       "\n",
       "    .dataframe tbody tr th {\n",
       "        vertical-align: top;\n",
       "    }\n",
       "\n",
       "    .dataframe thead th {\n",
       "        text-align: right;\n",
       "    }\n",
       "</style>\n",
       "<table border=\"1\" class=\"dataframe\">\n",
       "  <thead>\n",
       "    <tr style=\"text-align: right;\">\n",
       "      <th></th>\n",
       "      <th></th>\n",
       "      <th>months_prepaid</th>\n",
       "    </tr>\n",
       "    <tr>\n",
       "      <th>loan_status_binary</th>\n",
       "      <th>term_num</th>\n",
       "      <th></th>\n",
       "    </tr>\n",
       "  </thead>\n",
       "  <tbody>\n",
       "    <tr>\n",
       "      <th rowspan=\"2\" valign=\"top\">0</th>\n",
       "      <th>36</th>\n",
       "      <td>11.194526</td>\n",
       "    </tr>\n",
       "    <tr>\n",
       "      <th>60</th>\n",
       "      <td>24.008827</td>\n",
       "    </tr>\n",
       "    <tr>\n",
       "      <th rowspan=\"2\" valign=\"top\">1</th>\n",
       "      <th>36</th>\n",
       "      <td>19.876026</td>\n",
       "    </tr>\n",
       "    <tr>\n",
       "      <th>60</th>\n",
       "      <td>37.326700</td>\n",
       "    </tr>\n",
       "  </tbody>\n",
       "</table>\n",
       "</div>"
      ],
      "text/plain": [
       "                             months_prepaid\n",
       "loan_status_binary term_num                \n",
       "0                  36             11.194526\n",
       "                   60             24.008827\n",
       "1                  36             19.876026\n",
       "                   60             37.326700"
      ]
     },
     "execution_count": 29,
     "metadata": {},
     "output_type": "execute_result"
    }
   ],
   "source": [
    "prepay_df.groupby(['loan_status_binary','term_num']).agg({'months_prepaid':'mean'})"
   ]
  },
  {
   "cell_type": "markdown",
   "metadata": {},
   "source": [
    "Calculate % that prepay every year"
   ]
  },
  {
   "cell_type": "code",
   "execution_count": 30,
   "metadata": {},
   "outputs": [],
   "source": [
    "#fully paid prepayment df and default df\n",
    "fp_pre_df = prepay_df.loc[prepay_df.loan_status_binary == 0]\n",
    "d_pre_df = prepay_df.loc[prepay_df.loan_status_binary == 1]"
   ]
  },
  {
   "cell_type": "code",
   "execution_count": 31,
   "metadata": {},
   "outputs": [
    {
     "name": "stderr",
     "output_type": "stream",
     "text": [
      "C:\\Users\\mjdch\\Anaconda3\\lib\\site-packages\\ipykernel_launcher.py:2: SettingWithCopyWarning: \n",
      "A value is trying to be set on a copy of a slice from a DataFrame.\n",
      "Try using .loc[row_indexer,col_indexer] = value instead\n",
      "\n",
      "See the caveats in the documentation: http://pandas.pydata.org/pandas-docs/stable/indexing.html#indexing-view-versus-copy\n",
      "  \n"
     ]
    }
   ],
   "source": [
    "fp_pre_df['Prepayment'] =  np.where(fp_pre_df.month_delta < fp_pre_df.term_num,\n",
    "                                    'Prepayment','Non-Prepayment')"
   ]
  },
  {
   "cell_type": "code",
   "execution_count": 32,
   "metadata": {},
   "outputs": [],
   "source": [
    "fp_group= fp_pre_df[['loan_status_binary','year','Prepayment']].groupby(['Prepayment','year']).count().reset_index()"
   ]
  },
  {
   "cell_type": "code",
   "execution_count": 33,
   "metadata": {},
   "outputs": [],
   "source": [
    "fp_group_dict = fp_group.groupby('year').agg({'loan_status_binary':'sum'}).to_dict()\n",
    "fp_group_dict = fp_group_dict['loan_status_binary']"
   ]
  },
  {
   "cell_type": "code",
   "execution_count": 34,
   "metadata": {},
   "outputs": [],
   "source": [
    "fp_group['year_count'] = fp_group.apply(lambda t: fp_group_dict[t.year], axis =1)\n",
    "fp_group['percentage'] = fp_group.loan_status_binary/fp_group.year_count"
   ]
  },
  {
   "cell_type": "code",
   "execution_count": 35,
   "metadata": {},
   "outputs": [
    {
     "data": {
      "text/html": [
       "<div>\n",
       "<style scoped>\n",
       "    .dataframe tbody tr th:only-of-type {\n",
       "        vertical-align: middle;\n",
       "    }\n",
       "\n",
       "    .dataframe tbody tr th {\n",
       "        vertical-align: top;\n",
       "    }\n",
       "\n",
       "    .dataframe thead th {\n",
       "        text-align: right;\n",
       "    }\n",
       "</style>\n",
       "<table border=\"1\" class=\"dataframe\">\n",
       "  <thead>\n",
       "    <tr style=\"text-align: right;\">\n",
       "      <th></th>\n",
       "      <th>Prepayment</th>\n",
       "      <th>year</th>\n",
       "      <th>loan_status_binary</th>\n",
       "      <th>year_count</th>\n",
       "      <th>percentage</th>\n",
       "    </tr>\n",
       "  </thead>\n",
       "  <tbody>\n",
       "    <tr>\n",
       "      <th>0</th>\n",
       "      <td>Non-Prepayment</td>\n",
       "      <td>2007</td>\n",
       "      <td>71</td>\n",
       "      <td>445</td>\n",
       "      <td>0.159551</td>\n",
       "    </tr>\n",
       "    <tr>\n",
       "      <th>1</th>\n",
       "      <td>Non-Prepayment</td>\n",
       "      <td>2008</td>\n",
       "      <td>371</td>\n",
       "      <td>1897</td>\n",
       "      <td>0.195572</td>\n",
       "    </tr>\n",
       "    <tr>\n",
       "      <th>2</th>\n",
       "      <td>Non-Prepayment</td>\n",
       "      <td>2009</td>\n",
       "      <td>859</td>\n",
       "      <td>4558</td>\n",
       "      <td>0.188460</td>\n",
       "    </tr>\n",
       "    <tr>\n",
       "      <th>3</th>\n",
       "      <td>Non-Prepayment</td>\n",
       "      <td>2010</td>\n",
       "      <td>2340</td>\n",
       "      <td>10780</td>\n",
       "      <td>0.217069</td>\n",
       "    </tr>\n",
       "    <tr>\n",
       "      <th>4</th>\n",
       "      <td>Non-Prepayment</td>\n",
       "      <td>2011</td>\n",
       "      <td>3515</td>\n",
       "      <td>18424</td>\n",
       "      <td>0.190784</td>\n",
       "    </tr>\n",
       "    <tr>\n",
       "      <th>5</th>\n",
       "      <td>Non-Prepayment</td>\n",
       "      <td>2012</td>\n",
       "      <td>3759</td>\n",
       "      <td>44723</td>\n",
       "      <td>0.084051</td>\n",
       "    </tr>\n",
       "    <tr>\n",
       "      <th>6</th>\n",
       "      <td>Non-Prepayment</td>\n",
       "      <td>2013</td>\n",
       "      <td>6848</td>\n",
       "      <td>110849</td>\n",
       "      <td>0.061778</td>\n",
       "    </tr>\n",
       "    <tr>\n",
       "      <th>7</th>\n",
       "      <td>Non-Prepayment</td>\n",
       "      <td>2014</td>\n",
       "      <td>11404</td>\n",
       "      <td>140255</td>\n",
       "      <td>0.081309</td>\n",
       "    </tr>\n",
       "    <tr>\n",
       "      <th>8</th>\n",
       "      <td>Non-Prepayment</td>\n",
       "      <td>2015</td>\n",
       "      <td>22378</td>\n",
       "      <td>240894</td>\n",
       "      <td>0.092896</td>\n",
       "    </tr>\n",
       "    <tr>\n",
       "      <th>9</th>\n",
       "      <td>Prepayment</td>\n",
       "      <td>2007</td>\n",
       "      <td>374</td>\n",
       "      <td>445</td>\n",
       "      <td>0.840449</td>\n",
       "    </tr>\n",
       "    <tr>\n",
       "      <th>10</th>\n",
       "      <td>Prepayment</td>\n",
       "      <td>2008</td>\n",
       "      <td>1526</td>\n",
       "      <td>1897</td>\n",
       "      <td>0.804428</td>\n",
       "    </tr>\n",
       "    <tr>\n",
       "      <th>11</th>\n",
       "      <td>Prepayment</td>\n",
       "      <td>2009</td>\n",
       "      <td>3699</td>\n",
       "      <td>4558</td>\n",
       "      <td>0.811540</td>\n",
       "    </tr>\n",
       "    <tr>\n",
       "      <th>12</th>\n",
       "      <td>Prepayment</td>\n",
       "      <td>2010</td>\n",
       "      <td>8440</td>\n",
       "      <td>10780</td>\n",
       "      <td>0.782931</td>\n",
       "    </tr>\n",
       "    <tr>\n",
       "      <th>13</th>\n",
       "      <td>Prepayment</td>\n",
       "      <td>2011</td>\n",
       "      <td>14909</td>\n",
       "      <td>18424</td>\n",
       "      <td>0.809216</td>\n",
       "    </tr>\n",
       "    <tr>\n",
       "      <th>14</th>\n",
       "      <td>Prepayment</td>\n",
       "      <td>2012</td>\n",
       "      <td>40964</td>\n",
       "      <td>44723</td>\n",
       "      <td>0.915949</td>\n",
       "    </tr>\n",
       "    <tr>\n",
       "      <th>15</th>\n",
       "      <td>Prepayment</td>\n",
       "      <td>2013</td>\n",
       "      <td>104001</td>\n",
       "      <td>110849</td>\n",
       "      <td>0.938222</td>\n",
       "    </tr>\n",
       "    <tr>\n",
       "      <th>16</th>\n",
       "      <td>Prepayment</td>\n",
       "      <td>2014</td>\n",
       "      <td>128851</td>\n",
       "      <td>140255</td>\n",
       "      <td>0.918691</td>\n",
       "    </tr>\n",
       "    <tr>\n",
       "      <th>17</th>\n",
       "      <td>Prepayment</td>\n",
       "      <td>2015</td>\n",
       "      <td>218516</td>\n",
       "      <td>240894</td>\n",
       "      <td>0.907104</td>\n",
       "    </tr>\n",
       "  </tbody>\n",
       "</table>\n",
       "</div>"
      ],
      "text/plain": [
       "        Prepayment  year  loan_status_binary  year_count  percentage\n",
       "0   Non-Prepayment  2007                  71         445    0.159551\n",
       "1   Non-Prepayment  2008                 371        1897    0.195572\n",
       "2   Non-Prepayment  2009                 859        4558    0.188460\n",
       "3   Non-Prepayment  2010                2340       10780    0.217069\n",
       "4   Non-Prepayment  2011                3515       18424    0.190784\n",
       "5   Non-Prepayment  2012                3759       44723    0.084051\n",
       "6   Non-Prepayment  2013                6848      110849    0.061778\n",
       "7   Non-Prepayment  2014               11404      140255    0.081309\n",
       "8   Non-Prepayment  2015               22378      240894    0.092896\n",
       "9       Prepayment  2007                 374         445    0.840449\n",
       "10      Prepayment  2008                1526        1897    0.804428\n",
       "11      Prepayment  2009                3699        4558    0.811540\n",
       "12      Prepayment  2010                8440       10780    0.782931\n",
       "13      Prepayment  2011               14909       18424    0.809216\n",
       "14      Prepayment  2012               40964       44723    0.915949\n",
       "15      Prepayment  2013              104001      110849    0.938222\n",
       "16      Prepayment  2014              128851      140255    0.918691\n",
       "17      Prepayment  2015              218516      240894    0.907104"
      ]
     },
     "execution_count": 35,
     "metadata": {},
     "output_type": "execute_result"
    }
   ],
   "source": [
    "fp_group"
   ]
  },
  {
   "cell_type": "code",
   "execution_count": 36,
   "metadata": {},
   "outputs": [],
   "source": [
    "a = fp_group.loc[fp_group.Prepayment == 'Prepayment',['year','loan_status_binary']].rename(columns = {'loan_status_binary':'Prepayment'})\n",
    "b = pd.DataFrame(fp_group.loc[fp_group.Prepayment != 'Prepayment','loan_status_binary']).rename(columns = {'loan_status_binary':'Non-Prepayment'})"
   ]
  },
  {
   "cell_type": "code",
   "execution_count": 37,
   "metadata": {},
   "outputs": [
    {
     "data": {
      "text/plain": [
       "<matplotlib.axes._subplots.AxesSubplot at 0x1bfdde6fbe0>"
      ]
     },
     "execution_count": 37,
     "metadata": {},
     "output_type": "execute_result"
    },
    {
     "data": {
      "image/png": "[encoded data removed]",
      "text/plain": [
       "<Figure size 432x288 with 1 Axes>"
      ]
     },
     "metadata": {
      "needs_background": "light"
     },
     "output_type": "display_data"
    }
   ],
   "source": [
    "pd.concat([b,a.reset_index(drop = True)],axis = 1).set_index('year').plot.bar(stacked = True)"
   ]
  },
  {
   "cell_type": "code",
   "execution_count": 38,
   "metadata": {},
   "outputs": [
    {
     "data": {
      "text/html": [
       "<div>\n",
       "<style scoped>\n",
       "    .dataframe tbody tr th:only-of-type {\n",
       "        vertical-align: middle;\n",
       "    }\n",
       "\n",
       "    .dataframe tbody tr th {\n",
       "        vertical-align: top;\n",
       "    }\n",
       "\n",
       "    .dataframe thead th {\n",
       "        text-align: right;\n",
       "    }\n",
       "</style>\n",
       "<table border=\"1\" class=\"dataframe\">\n",
       "  <thead>\n",
       "    <tr style=\"text-align: right;\">\n",
       "      <th></th>\n",
       "      <th>percentage</th>\n",
       "    </tr>\n",
       "    <tr>\n",
       "      <th>Prepayment</th>\n",
       "      <th></th>\n",
       "    </tr>\n",
       "  </thead>\n",
       "  <tbody>\n",
       "    <tr>\n",
       "      <th>Non-Prepayment</th>\n",
       "      <td>0.141274</td>\n",
       "    </tr>\n",
       "    <tr>\n",
       "      <th>Prepayment</th>\n",
       "      <td>0.858726</td>\n",
       "    </tr>\n",
       "  </tbody>\n",
       "</table>\n",
       "</div>"
      ],
      "text/plain": [
       "                percentage\n",
       "Prepayment                \n",
       "Non-Prepayment    0.141274\n",
       "Prepayment        0.858726"
      ]
     },
     "execution_count": 38,
     "metadata": {},
     "output_type": "execute_result"
    }
   ],
   "source": [
    "fp_group.groupby('Prepayment').agg({'percentage':'mean'})"
   ]
  },
  {
   "cell_type": "markdown",
   "metadata": {},
   "source": [
    "Calculate % prepaid on the whole dataset"
   ]
  },
  {
   "cell_type": "code",
   "execution_count": 39,
   "metadata": {},
   "outputs": [],
   "source": [
    "prepayment_df = df[['month_delta','term_num','loan_status_binary','year']]"
   ]
  },
  {
   "cell_type": "code",
   "execution_count": 40,
   "metadata": {},
   "outputs": [
    {
     "data": {
      "text/plain": [
       "(1348099, 4)"
      ]
     },
     "execution_count": 40,
     "metadata": {},
     "output_type": "execute_result"
    }
   ],
   "source": [
    "prepayment_df.shape"
   ]
  },
  {
   "cell_type": "code",
   "execution_count": 41,
   "metadata": {},
   "outputs": [],
   "source": [
    "#fully paid prepayment df\n",
    "fp_pre_df = prepayment_df.loc[prepayment_df.loan_status_binary == 0]\n",
    "d_pre_df = prepayment_df.loc[prepayment_df.loan_status_binary == 1]"
   ]
  },
  {
   "cell_type": "code",
   "execution_count": 42,
   "metadata": {},
   "outputs": [
    {
     "name": "stderr",
     "output_type": "stream",
     "text": [
      "C:\\Users\\mjdch\\Anaconda3\\lib\\site-packages\\ipykernel_launcher.py:2: SettingWithCopyWarning: \n",
      "A value is trying to be set on a copy of a slice from a DataFrame.\n",
      "Try using .loc[row_indexer,col_indexer] = value instead\n",
      "\n",
      "See the caveats in the documentation: http://pandas.pydata.org/pandas-docs/stable/indexing.html#indexing-view-versus-copy\n",
      "  \n"
     ]
    }
   ],
   "source": [
    "fp_pre_df['Prepayment'] =  np.where(fp_pre_df.month_delta < fp_pre_df.term_num,\n",
    "                                    'Prepayment','Non-Prepayment')"
   ]
  },
  {
   "cell_type": "code",
   "execution_count": 43,
   "metadata": {},
   "outputs": [],
   "source": [
    "fp_group= fp_pre_df[['loan_status_binary','year','Prepayment']].groupby(['Prepayment','year']).count().reset_index()"
   ]
  },
  {
   "cell_type": "code",
   "execution_count": 44,
   "metadata": {},
   "outputs": [],
   "source": [
    "fp_group_dict = fp_group.groupby('year').agg({'loan_status_binary':'sum'}).to_dict()\n",
    "fp_group_dict = fp_group_dict['loan_status_binary']"
   ]
  },
  {
   "cell_type": "code",
   "execution_count": 45,
   "metadata": {
    "scrolled": true
   },
   "outputs": [],
   "source": [
    "fp_group['year_count'] = fp_group.apply(lambda t: fp_group_dict[t.year], axis =1)\n",
    "fp_group['percentage'] = fp_group.loan_status_binary/fp_group.year_count"
   ]
  },
  {
   "cell_type": "code",
   "execution_count": 46,
   "metadata": {},
   "outputs": [],
   "source": [
    "a = fp_group.loc[fp_group.Prepayment == 'Prepayment',['year','loan_status_binary']].rename(columns = {'loan_status_binary':'Prepayment'})\n",
    "b = pd.DataFrame(fp_group.loc[fp_group.Prepayment != 'Prepayment','loan_status_binary']).rename(columns = {'loan_status_binary':'Non-Prepayment'})"
   ]
  },
  {
   "cell_type": "code",
   "execution_count": 47,
   "metadata": {},
   "outputs": [
    {
     "data": {
      "text/plain": [
       "<matplotlib.axes._subplots.AxesSubplot at 0x1c03cb7b5c0>"
      ]
     },
     "execution_count": 47,
     "metadata": {},
     "output_type": "execute_result"
    },
    {
     "data": {
      "image/png": "[encoded data removed]",
      "text/plain": [
       "<Figure size 432x288 with 1 Axes>"
      ]
     },
     "metadata": {
      "needs_background": "light"
     },
     "output_type": "display_data"
    }
   ],
   "source": [
    "pd.concat([b,a.reset_index(drop = True)],axis = 1).set_index('year').plot.bar(stacked = True)"
   ]
  },
  {
   "cell_type": "code",
   "execution_count": 48,
   "metadata": {},
   "outputs": [
    {
     "data": {
      "text/html": [
       "<div>\n",
       "<style scoped>\n",
       "    .dataframe tbody tr th:only-of-type {\n",
       "        vertical-align: middle;\n",
       "    }\n",
       "\n",
       "    .dataframe tbody tr th {\n",
       "        vertical-align: top;\n",
       "    }\n",
       "\n",
       "    .dataframe thead th {\n",
       "        text-align: right;\n",
       "    }\n",
       "</style>\n",
       "<table border=\"1\" class=\"dataframe\">\n",
       "  <thead>\n",
       "    <tr style=\"text-align: right;\">\n",
       "      <th></th>\n",
       "      <th>Prepayment</th>\n",
       "      <th>year</th>\n",
       "      <th>loan_status_binary</th>\n",
       "      <th>year_count</th>\n",
       "      <th>percentage</th>\n",
       "    </tr>\n",
       "  </thead>\n",
       "  <tbody>\n",
       "    <tr>\n",
       "      <th>0</th>\n",
       "      <td>Non-Prepayment</td>\n",
       "      <td>2007</td>\n",
       "      <td>71</td>\n",
       "      <td>445</td>\n",
       "      <td>0.159551</td>\n",
       "    </tr>\n",
       "    <tr>\n",
       "      <th>1</th>\n",
       "      <td>Non-Prepayment</td>\n",
       "      <td>2008</td>\n",
       "      <td>371</td>\n",
       "      <td>1897</td>\n",
       "      <td>0.195572</td>\n",
       "    </tr>\n",
       "    <tr>\n",
       "      <th>2</th>\n",
       "      <td>Non-Prepayment</td>\n",
       "      <td>2009</td>\n",
       "      <td>859</td>\n",
       "      <td>4558</td>\n",
       "      <td>0.188460</td>\n",
       "    </tr>\n",
       "    <tr>\n",
       "      <th>3</th>\n",
       "      <td>Non-Prepayment</td>\n",
       "      <td>2010</td>\n",
       "      <td>2340</td>\n",
       "      <td>10780</td>\n",
       "      <td>0.217069</td>\n",
       "    </tr>\n",
       "    <tr>\n",
       "      <th>4</th>\n",
       "      <td>Non-Prepayment</td>\n",
       "      <td>2011</td>\n",
       "      <td>3515</td>\n",
       "      <td>18424</td>\n",
       "      <td>0.190784</td>\n",
       "    </tr>\n",
       "    <tr>\n",
       "      <th>5</th>\n",
       "      <td>Non-Prepayment</td>\n",
       "      <td>2012</td>\n",
       "      <td>3759</td>\n",
       "      <td>44723</td>\n",
       "      <td>0.084051</td>\n",
       "    </tr>\n",
       "    <tr>\n",
       "      <th>6</th>\n",
       "      <td>Non-Prepayment</td>\n",
       "      <td>2013</td>\n",
       "      <td>7055</td>\n",
       "      <td>113780</td>\n",
       "      <td>0.062006</td>\n",
       "    </tr>\n",
       "    <tr>\n",
       "      <th>7</th>\n",
       "      <td>Non-Prepayment</td>\n",
       "      <td>2014</td>\n",
       "      <td>11723</td>\n",
       "      <td>181941</td>\n",
       "      <td>0.064433</td>\n",
       "    </tr>\n",
       "    <tr>\n",
       "      <th>8</th>\n",
       "      <td>Non-Prepayment</td>\n",
       "      <td>2015</td>\n",
       "      <td>22378</td>\n",
       "      <td>299742</td>\n",
       "      <td>0.074658</td>\n",
       "    </tr>\n",
       "    <tr>\n",
       "      <th>9</th>\n",
       "      <td>Non-Prepayment</td>\n",
       "      <td>2016</td>\n",
       "      <td>2608</td>\n",
       "      <td>224853</td>\n",
       "      <td>0.011599</td>\n",
       "    </tr>\n",
       "    <tr>\n",
       "      <th>10</th>\n",
       "      <td>Prepayment</td>\n",
       "      <td>2007</td>\n",
       "      <td>374</td>\n",
       "      <td>445</td>\n",
       "      <td>0.840449</td>\n",
       "    </tr>\n",
       "    <tr>\n",
       "      <th>11</th>\n",
       "      <td>Prepayment</td>\n",
       "      <td>2008</td>\n",
       "      <td>1526</td>\n",
       "      <td>1897</td>\n",
       "      <td>0.804428</td>\n",
       "    </tr>\n",
       "    <tr>\n",
       "      <th>12</th>\n",
       "      <td>Prepayment</td>\n",
       "      <td>2009</td>\n",
       "      <td>3699</td>\n",
       "      <td>4558</td>\n",
       "      <td>0.811540</td>\n",
       "    </tr>\n",
       "    <tr>\n",
       "      <th>13</th>\n",
       "      <td>Prepayment</td>\n",
       "      <td>2010</td>\n",
       "      <td>8440</td>\n",
       "      <td>10780</td>\n",
       "      <td>0.782931</td>\n",
       "    </tr>\n",
       "    <tr>\n",
       "      <th>14</th>\n",
       "      <td>Prepayment</td>\n",
       "      <td>2011</td>\n",
       "      <td>14909</td>\n",
       "      <td>18424</td>\n",
       "      <td>0.809216</td>\n",
       "    </tr>\n",
       "    <tr>\n",
       "      <th>15</th>\n",
       "      <td>Prepayment</td>\n",
       "      <td>2012</td>\n",
       "      <td>40964</td>\n",
       "      <td>44723</td>\n",
       "      <td>0.915949</td>\n",
       "    </tr>\n",
       "    <tr>\n",
       "      <th>16</th>\n",
       "      <td>Prepayment</td>\n",
       "      <td>2013</td>\n",
       "      <td>106725</td>\n",
       "      <td>113780</td>\n",
       "      <td>0.937994</td>\n",
       "    </tr>\n",
       "    <tr>\n",
       "      <th>17</th>\n",
       "      <td>Prepayment</td>\n",
       "      <td>2014</td>\n",
       "      <td>170218</td>\n",
       "      <td>181941</td>\n",
       "      <td>0.935567</td>\n",
       "    </tr>\n",
       "    <tr>\n",
       "      <th>18</th>\n",
       "      <td>Prepayment</td>\n",
       "      <td>2015</td>\n",
       "      <td>277364</td>\n",
       "      <td>299742</td>\n",
       "      <td>0.925342</td>\n",
       "    </tr>\n",
       "    <tr>\n",
       "      <th>19</th>\n",
       "      <td>Prepayment</td>\n",
       "      <td>2016</td>\n",
       "      <td>222245</td>\n",
       "      <td>224853</td>\n",
       "      <td>0.988401</td>\n",
       "    </tr>\n",
       "    <tr>\n",
       "      <th>20</th>\n",
       "      <td>Prepayment</td>\n",
       "      <td>2017</td>\n",
       "      <td>130152</td>\n",
       "      <td>130152</td>\n",
       "      <td>1.000000</td>\n",
       "    </tr>\n",
       "    <tr>\n",
       "      <th>21</th>\n",
       "      <td>Prepayment</td>\n",
       "      <td>2018</td>\n",
       "      <td>47444</td>\n",
       "      <td>47444</td>\n",
       "      <td>1.000000</td>\n",
       "    </tr>\n",
       "  </tbody>\n",
       "</table>\n",
       "</div>"
      ],
      "text/plain": [
       "        Prepayment  year  loan_status_binary  year_count  percentage\n",
       "0   Non-Prepayment  2007                  71         445    0.159551\n",
       "1   Non-Prepayment  2008                 371        1897    0.195572\n",
       "2   Non-Prepayment  2009                 859        4558    0.188460\n",
       "3   Non-Prepayment  2010                2340       10780    0.217069\n",
       "4   Non-Prepayment  2011                3515       18424    0.190784\n",
       "5   Non-Prepayment  2012                3759       44723    0.084051\n",
       "6   Non-Prepayment  2013                7055      113780    0.062006\n",
       "7   Non-Prepayment  2014               11723      181941    0.064433\n",
       "8   Non-Prepayment  2015               22378      299742    0.074658\n",
       "9   Non-Prepayment  2016                2608      224853    0.011599\n",
       "10      Prepayment  2007                 374         445    0.840449\n",
       "11      Prepayment  2008                1526        1897    0.804428\n",
       "12      Prepayment  2009                3699        4558    0.811540\n",
       "13      Prepayment  2010                8440       10780    0.782931\n",
       "14      Prepayment  2011               14909       18424    0.809216\n",
       "15      Prepayment  2012               40964       44723    0.915949\n",
       "16      Prepayment  2013              106725      113780    0.937994\n",
       "17      Prepayment  2014              170218      181941    0.935567\n",
       "18      Prepayment  2015              277364      299742    0.925342\n",
       "19      Prepayment  2016              222245      224853    0.988401\n",
       "20      Prepayment  2017              130152      130152    1.000000\n",
       "21      Prepayment  2018               47444       47444    1.000000"
      ]
     },
     "execution_count": 48,
     "metadata": {},
     "output_type": "execute_result"
    }
   ],
   "source": [
    "fp_group"
   ]
  },
  {
   "cell_type": "code",
   "execution_count": 49,
   "metadata": {},
   "outputs": [],
   "source": [
    "fp_group = fp_group.append({'Prepayment':'Non-Prepayment', 'year': 2017, 'loan_status_binary':0, 'year_count':0, 'percentage':0}, ignore_index = True).append({'Prepayment':'Non-Prepayment', 'year': 2018, 'loan_status_binary':0, 'year_count':0, 'percentage':0}, ignore_index = True)"
   ]
  },
  {
   "cell_type": "code",
   "execution_count": 50,
   "metadata": {},
   "outputs": [
    {
     "data": {
      "text/html": [
       "<div>\n",
       "<style scoped>\n",
       "    .dataframe tbody tr th:only-of-type {\n",
       "        vertical-align: middle;\n",
       "    }\n",
       "\n",
       "    .dataframe tbody tr th {\n",
       "        vertical-align: top;\n",
       "    }\n",
       "\n",
       "    .dataframe thead th {\n",
       "        text-align: right;\n",
       "    }\n",
       "</style>\n",
       "<table border=\"1\" class=\"dataframe\">\n",
       "  <thead>\n",
       "    <tr style=\"text-align: right;\">\n",
       "      <th></th>\n",
       "      <th>percentage</th>\n",
       "    </tr>\n",
       "    <tr>\n",
       "      <th>Prepayment</th>\n",
       "      <th></th>\n",
       "    </tr>\n",
       "  </thead>\n",
       "  <tbody>\n",
       "    <tr>\n",
       "      <th>Non-Prepayment</th>\n",
       "      <td>0.104015</td>\n",
       "    </tr>\n",
       "    <tr>\n",
       "      <th>Prepayment</th>\n",
       "      <td>0.895985</td>\n",
       "    </tr>\n",
       "  </tbody>\n",
       "</table>\n",
       "</div>"
      ],
      "text/plain": [
       "                percentage\n",
       "Prepayment                \n",
       "Non-Prepayment    0.104015\n",
       "Prepayment        0.895985"
      ]
     },
     "execution_count": 50,
     "metadata": {},
     "output_type": "execute_result"
    }
   ],
   "source": [
    "fp_group.groupby('Prepayment').agg({'percentage':'mean'})"
   ]
  },
  {
   "cell_type": "code",
   "execution_count": 51,
   "metadata": {},
   "outputs": [],
   "source": [
    "df['profit'] = df.total_pymnt - df.loan_amnt"
   ]
  },
  {
   "cell_type": "code",
   "execution_count": 52,
   "metadata": {},
   "outputs": [
    {
     "data": {
      "text/html": [
       "<div>\n",
       "<style scoped>\n",
       "    .dataframe tbody tr th:only-of-type {\n",
       "        vertical-align: middle;\n",
       "    }\n",
       "\n",
       "    .dataframe tbody tr th {\n",
       "        vertical-align: top;\n",
       "    }\n",
       "\n",
       "    .dataframe thead tr th {\n",
       "        text-align: left;\n",
       "    }\n",
       "\n",
       "    .dataframe thead tr:last-of-type th {\n",
       "        text-align: right;\n",
       "    }\n",
       "</style>\n",
       "<table border=\"1\" class=\"dataframe\">\n",
       "  <thead>\n",
       "    <tr>\n",
       "      <th></th>\n",
       "      <th></th>\n",
       "      <th colspan=\"3\" halign=\"left\">profit</th>\n",
       "    </tr>\n",
       "    <tr>\n",
       "      <th></th>\n",
       "      <th></th>\n",
       "      <th>mean</th>\n",
       "      <th>std</th>\n",
       "      <th>median</th>\n",
       "    </tr>\n",
       "    <tr>\n",
       "      <th>loan_status_binary</th>\n",
       "      <th>term</th>\n",
       "      <th></th>\n",
       "      <th></th>\n",
       "      <th></th>\n",
       "    </tr>\n",
       "  </thead>\n",
       "  <tbody>\n",
       "    <tr>\n",
       "      <th rowspan=\"2\" valign=\"top\">0</th>\n",
       "      <th>36 months</th>\n",
       "      <td>1697.534524</td>\n",
       "      <td>1564.929653</td>\n",
       "      <td>1269.555000</td>\n",
       "    </tr>\n",
       "    <tr>\n",
       "      <th>60 months</th>\n",
       "      <td>4745.965995</td>\n",
       "      <td>3938.332283</td>\n",
       "      <td>3755.562043</td>\n",
       "    </tr>\n",
       "    <tr>\n",
       "      <th rowspan=\"2\" valign=\"top\">1</th>\n",
       "      <th>36 months</th>\n",
       "      <td>-5663.002070</td>\n",
       "      <td>5738.791041</td>\n",
       "      <td>-4147.345000</td>\n",
       "    </tr>\n",
       "    <tr>\n",
       "      <th>60 months</th>\n",
       "      <td>-9759.669507</td>\n",
       "      <td>7289.590639</td>\n",
       "      <td>-8985.550000</td>\n",
       "    </tr>\n",
       "  </tbody>\n",
       "</table>\n",
       "</div>"
      ],
      "text/plain": [
       "                                    profit                          \n",
       "                                      mean          std       median\n",
       "loan_status_binary term                                             \n",
       "0                   36 months  1697.534524  1564.929653  1269.555000\n",
       "                    60 months  4745.965995  3938.332283  3755.562043\n",
       "1                   36 months -5663.002070  5738.791041 -4147.345000\n",
       "                    60 months -9759.669507  7289.590639 -8985.550000"
      ]
     },
     "execution_count": 52,
     "metadata": {},
     "output_type": "execute_result"
    }
   ],
   "source": [
    "df.groupby(['loan_status_binary','term']).agg({'profit':['mean','std','median']})"
   ]
  },
  {
   "cell_type": "markdown",
   "metadata": {},
   "source": [
    "Calculate average profit for 2008-2015, since most loans in 2015-2018 are prepaid and will collect less profit than normal. "
   ]
  },
  {
   "cell_type": "code",
   "execution_count": 53,
   "metadata": {},
   "outputs": [],
   "source": [
    "prepay_df_full['profit'] = prepay_df_full.total_pymnt - prepay_df_full.loan_amnt"
   ]
  },
  {
   "cell_type": "code",
   "execution_count": 54,
   "metadata": {},
   "outputs": [
    {
     "data": {
      "text/html": [
       "<div>\n",
       "<style scoped>\n",
       "    .dataframe tbody tr th:only-of-type {\n",
       "        vertical-align: middle;\n",
       "    }\n",
       "\n",
       "    .dataframe tbody tr th {\n",
       "        vertical-align: top;\n",
       "    }\n",
       "\n",
       "    .dataframe thead tr th {\n",
       "        text-align: left;\n",
       "    }\n",
       "\n",
       "    .dataframe thead tr:last-of-type th {\n",
       "        text-align: right;\n",
       "    }\n",
       "</style>\n",
       "<table border=\"1\" class=\"dataframe\">\n",
       "  <thead>\n",
       "    <tr>\n",
       "      <th></th>\n",
       "      <th></th>\n",
       "      <th colspan=\"3\" halign=\"left\">profit</th>\n",
       "    </tr>\n",
       "    <tr>\n",
       "      <th></th>\n",
       "      <th></th>\n",
       "      <th>mean</th>\n",
       "      <th>std</th>\n",
       "      <th>median</th>\n",
       "    </tr>\n",
       "    <tr>\n",
       "      <th>loan_status_binary</th>\n",
       "      <th>term</th>\n",
       "      <th></th>\n",
       "      <th></th>\n",
       "      <th></th>\n",
       "    </tr>\n",
       "  </thead>\n",
       "  <tbody>\n",
       "    <tr>\n",
       "      <th rowspan=\"2\" valign=\"top\">0</th>\n",
       "      <th>36 months</th>\n",
       "      <td>1905.211146</td>\n",
       "      <td>1605.233533</td>\n",
       "      <td>1493.168994</td>\n",
       "    </tr>\n",
       "    <tr>\n",
       "      <th>60 months</th>\n",
       "      <td>6881.787171</td>\n",
       "      <td>5076.256849</td>\n",
       "      <td>6060.103022</td>\n",
       "    </tr>\n",
       "    <tr>\n",
       "      <th rowspan=\"2\" valign=\"top\">1</th>\n",
       "      <th>36 months</th>\n",
       "      <td>-4426.693752</td>\n",
       "      <td>4897.732394</td>\n",
       "      <td>-3260.355000</td>\n",
       "    </tr>\n",
       "    <tr>\n",
       "      <th>60 months</th>\n",
       "      <td>-6419.923517</td>\n",
       "      <td>8042.124995</td>\n",
       "      <td>-6081.220000</td>\n",
       "    </tr>\n",
       "  </tbody>\n",
       "</table>\n",
       "</div>"
      ],
      "text/plain": [
       "                                    profit                          \n",
       "                                      mean          std       median\n",
       "loan_status_binary term                                             \n",
       "0                   36 months  1905.211146  1605.233533  1493.168994\n",
       "                    60 months  6881.787171  5076.256849  6060.103022\n",
       "1                   36 months -4426.693752  4897.732394 -3260.355000\n",
       "                    60 months -6419.923517  8042.124995 -6081.220000"
      ]
     },
     "execution_count": 54,
     "metadata": {},
     "output_type": "execute_result"
    }
   ],
   "source": [
    "prepay_df_full.groupby(['loan_status_binary','term']).agg({'profit':['mean','std','median']})"
   ]
  },
  {
   "cell_type": "markdown",
   "metadata": {},
   "source": [
    "Grade/Sub-Grade Analysis"
   ]
  },
  {
   "cell_type": "code",
   "execution_count": 55,
   "metadata": {},
   "outputs": [
    {
     "data": {
      "text/plain": [
       "<matplotlib.axes._subplots.AxesSubplot at 0x1bfddc47630>"
      ]
     },
     "execution_count": 55,
     "metadata": {},
     "output_type": "execute_result"
    },
    {
     "data": {
      "image/png": "[encoded data removed]",
      "text/plain": [
       "<Figure size 432x288 with 1 Axes>"
      ]
     },
     "metadata": {
      "needs_background": "light"
     },
     "output_type": "display_data"
    }
   ],
   "source": [
    "df.grade.value_counts().plot.bar(title = 'Grade Distribution')"
   ]
  },
  {
   "cell_type": "code",
   "execution_count": 56,
   "metadata": {},
   "outputs": [
    {
     "data": {
      "text/plain": [
       "Text(0, 0.5, 'Loan Status')"
      ]
     },
     "execution_count": 56,
     "metadata": {},
     "output_type": "execute_result"
    },
    {
     "data": {
      "image/png": "[encoded data removed]",
      "text/plain": [
       "<Figure size 432x288 with 1 Axes>"
      ]
     },
     "metadata": {
      "needs_background": "light"
     },
     "output_type": "display_data"
    }
   ],
   "source": [
    "loan_stats = pd.crosstab(df.grade, df.loan_status_binary)\n",
    "loan_stats = loan_stats.div(loan_stats.sum(1).astype(float),axis=0)\n",
    "loan_stats.plot(kind='bar', stacked=True, title='Default rate by grade')\n",
    "plt.xlabel('Grade')\n",
    "plt.ylabel('Loan Status')"
   ]
  },
  {
   "cell_type": "code",
   "execution_count": 80,
   "metadata": {},
   "outputs": [
    {
     "data": {
      "text/plain": [
       "grade  loan_status_binary\n",
       "A      0                      7.095715\n",
       "       1                      7.389264\n",
       "B      0                     10.662186\n",
       "       1                     10.789273\n",
       "C      0                     14.002720\n",
       "       1                     14.076300\n",
       "D      0                     17.680156\n",
       "       1                     17.779976\n",
       "E      0                     21.062726\n",
       "       1                     21.176798\n",
       "F      0                     24.732908\n",
       "       1                     25.049212\n",
       "G      0                     27.283200\n",
       "       1                     27.805112\n",
       "Name: int_rate, dtype: float64"
      ]
     },
     "execution_count": 80,
     "metadata": {},
     "output_type": "execute_result"
    }
   ],
   "source": [
    "df.groupby(['grade','loan_status_binary'])['int_rate'].mean()"
   ]
  },
  {
   "cell_type": "code",
   "execution_count": null,
   "metadata": {},
   "outputs": [],
   "source": []
  },
  {
   "cell_type": "code",
   "execution_count": 354,
   "metadata": {},
   "outputs": [
    {
     "data": {
      "text/plain": [
       "Text(0.5, 1.0, 'Average Interest Rate by Grade')"
      ]
     },
     "execution_count": 354,
     "metadata": {},
     "output_type": "execute_result"
    },
    {
     "data": {
      "image/png": "[encoded data removed]",
      "text/plain": [
       "<Figure size 432x288 with 1 Axes>"
      ]
     },
     "metadata": {
      "needs_background": "light"
     },
     "output_type": "display_data"
    }
   ],
   "source": [
    "accept[['grade','int_rate']].groupby('grade').agg({'int_rate':'mean'}).plot.bar()\n",
    "plt.title('Average Interest Rate by Grade')"
   ]
  },
  {
   "cell_type": "code",
   "execution_count": 58,
   "metadata": {},
   "outputs": [
    {
     "data": {
      "text/plain": [
       "<matplotlib.axes._subplots.AxesSubplot at 0x1bfddbb4748>"
      ]
     },
     "execution_count": 58,
     "metadata": {},
     "output_type": "execute_result"
    },
    {
     "data": {
      "image/png": "[encoded data removed]",
      "text/plain": [
       "<Figure size 432x288 with 1 Axes>"
      ]
     },
     "metadata": {
      "needs_background": "light"
     },
     "output_type": "display_data"
    }
   ],
   "source": [
    "df.sub_grade.value_counts().plot.bar(title = 'Sub-Grade Distribution')"
   ]
  },
  {
   "cell_type": "code",
   "execution_count": 356,
   "metadata": {},
   "outputs": [
    {
     "data": {
      "text/plain": [
       "Text(0.5, 1.0, 'Interest Rate by Sub-Grade')"
      ]
     },
     "execution_count": 356,
     "metadata": {},
     "output_type": "execute_result"
    },
    {
     "data": {
      "image/png": "[encoded data removed]",
      "text/plain": [
       "<Figure size 432x288 with 1 Axes>"
      ]
     },
     "metadata": {
      "needs_background": "light"
     },
     "output_type": "display_data"
    }
   ],
   "source": [
    "accept[['sub_grade','int_rate']].groupby('sub_grade').agg({'int_rate':'mean'}).plot.bar()\n",
    "plt.title('Interest Rate by Sub-Grade')"
   ]
  },
  {
   "cell_type": "code",
   "execution_count": 60,
   "metadata": {},
   "outputs": [],
   "source": [
    "total_payments_df = df[['total_pymnt','total_rec_prncp','total_rec_int','profit']]"
   ]
  },
  {
   "cell_type": "code",
   "execution_count": null,
   "metadata": {},
   "outputs": [],
   "source": []
  },
  {
   "cell_type": "code",
   "execution_count": 64,
   "metadata": {},
   "outputs": [
    {
     "data": {
      "text/plain": [
       "year\n",
       "2007       603\n",
       "2008      2393\n",
       "2009      5281\n",
       "2010     12537\n",
       "2011     21721\n",
       "2012     53367\n",
       "2013    134804\n",
       "2014    223103\n",
       "2015    375546\n",
       "2016    293105\n",
       "2017    169321\n",
       "2018     56318\n",
       "Name: loan_amnt, dtype: int64"
      ]
     },
     "execution_count": 64,
     "metadata": {},
     "output_type": "execute_result"
    }
   ],
   "source": [
    "df.groupby('year')['loan_amnt'].count()"
   ]
  },
  {
   "cell_type": "code",
   "execution_count": 81,
   "metadata": {},
   "outputs": [],
   "source": [
    "#drop features that were not available at the time of the loan application\n",
    "df.drop(['profit','out_prncp','out_prncp_inv','total_pymnt','total_pymnt_inv','total_rec_prncp','total_rec_int',\n",
    "        'total_rec_late_fee','recoveries','collection_recovery_fee','last_pymnt_d','last_pymnt_amnt',\n",
    "        'last_credit_pull_d'], axis=1, inplace=True) "
   ]
  },
  {
   "cell_type": "markdown",
   "metadata": {},
   "source": [
    "The date the loan was issued does not give us any information about the borrower. drop 'issue_d'"
   ]
  },
  {
   "cell_type": "code",
   "execution_count": 82,
   "metadata": {},
   "outputs": [],
   "source": [
    "df.drop(['issue_d'], axis=1, inplace=True)"
   ]
  },
  {
   "cell_type": "markdown",
   "metadata": {},
   "source": [
    "We will drop columns with 90%+ missing values (columns are mainly related to hardship, settlement and secondary applicant)\n",
    "\n",
    "There are 98%+ missing values for secondary applicant because Lending Club started offering joint loans in October 2015: https://www.lendacademy.com/joint-application-lending-club-loans/. Not enough data to move the needle.\n",
    "\n",
    "We will also drop values with 50%+ missing values: it will be tough to accurately impute without more in-depth descriptions of the features, and imputing incorrectly will be more harmful than not. "
   ]
  },
  {
   "cell_type": "code",
   "execution_count": 83,
   "metadata": {
    "scrolled": true
   },
   "outputs": [],
   "source": [
    "miss = missing_data(df)\n",
    "misscolumns = miss.loc[miss['mean']>0.5].index\n",
    "df.drop(misscolumns, axis =1, inplace = True)"
   ]
  },
  {
   "cell_type": "markdown",
   "metadata": {},
   "source": [
    "#### Pickle semi-processed dataframe for memory efficiency"
   ]
  },
  {
   "cell_type": "code",
   "execution_count": 84,
   "metadata": {},
   "outputs": [],
   "source": [
    "df.to_pickle('dfaccept_semiprocessed')\n",
    "df = pd.read_pickle('dfaccept_semiprocessed')"
   ]
  },
  {
   "cell_type": "code",
   "execution_count": 85,
   "metadata": {
    "scrolled": true
   },
   "outputs": [
    {
     "data": {
      "text/html": [
       "<div>\n",
       "<style scoped>\n",
       "    .dataframe tbody tr th:only-of-type {\n",
       "        vertical-align: middle;\n",
       "    }\n",
       "\n",
       "    .dataframe tbody tr th {\n",
       "        vertical-align: top;\n",
       "    }\n",
       "\n",
       "    .dataframe thead th {\n",
       "        text-align: right;\n",
       "    }\n",
       "</style>\n",
       "<table border=\"1\" class=\"dataframe\">\n",
       "  <thead>\n",
       "    <tr style=\"text-align: right;\">\n",
       "      <th></th>\n",
       "      <th>count</th>\n",
       "      <th>mean</th>\n",
       "    </tr>\n",
       "  </thead>\n",
       "  <tbody>\n",
       "    <tr>\n",
       "      <th>mths_since_recent_inq</th>\n",
       "      <td>176822</td>\n",
       "      <td>0.131164</td>\n",
       "    </tr>\n",
       "    <tr>\n",
       "      <th>num_tl_120dpd_2m</th>\n",
       "      <td>120152</td>\n",
       "      <td>0.089127</td>\n",
       "    </tr>\n",
       "    <tr>\n",
       "      <th>mo_sin_old_il_acct</th>\n",
       "      <td>108325</td>\n",
       "      <td>0.080354</td>\n",
       "    </tr>\n",
       "    <tr>\n",
       "      <th>emp_length</th>\n",
       "      <td>78550</td>\n",
       "      <td>0.058267</td>\n",
       "    </tr>\n",
       "    <tr>\n",
       "      <th>pct_tl_nvr_dlq</th>\n",
       "      <td>70430</td>\n",
       "      <td>0.052244</td>\n",
       "    </tr>\n",
       "    <tr>\n",
       "      <th>avg_cur_bal</th>\n",
       "      <td>70298</td>\n",
       "      <td>0.052146</td>\n",
       "    </tr>\n",
       "    <tr>\n",
       "      <th>mo_sin_old_rev_tl_op</th>\n",
       "      <td>70277</td>\n",
       "      <td>0.052130</td>\n",
       "    </tr>\n",
       "    <tr>\n",
       "      <th>mo_sin_rcnt_rev_tl_op</th>\n",
       "      <td>70277</td>\n",
       "      <td>0.052130</td>\n",
       "    </tr>\n",
       "    <tr>\n",
       "      <th>num_rev_accts</th>\n",
       "      <td>70277</td>\n",
       "      <td>0.052130</td>\n",
       "    </tr>\n",
       "    <tr>\n",
       "      <th>num_il_tl</th>\n",
       "      <td>70276</td>\n",
       "      <td>0.052130</td>\n",
       "    </tr>\n",
       "    <tr>\n",
       "      <th>mo_sin_rcnt_tl</th>\n",
       "      <td>70276</td>\n",
       "      <td>0.052130</td>\n",
       "    </tr>\n",
       "    <tr>\n",
       "      <th>tot_cur_bal</th>\n",
       "      <td>70276</td>\n",
       "      <td>0.052130</td>\n",
       "    </tr>\n",
       "    <tr>\n",
       "      <th>total_rev_hi_lim</th>\n",
       "      <td>70276</td>\n",
       "      <td>0.052130</td>\n",
       "    </tr>\n",
       "    <tr>\n",
       "      <th>num_accts_ever_120_pd</th>\n",
       "      <td>70276</td>\n",
       "      <td>0.052130</td>\n",
       "    </tr>\n",
       "    <tr>\n",
       "      <th>num_actv_bc_tl</th>\n",
       "      <td>70276</td>\n",
       "      <td>0.052130</td>\n",
       "    </tr>\n",
       "    <tr>\n",
       "      <th>num_actv_rev_tl</th>\n",
       "      <td>70276</td>\n",
       "      <td>0.052130</td>\n",
       "    </tr>\n",
       "    <tr>\n",
       "      <th>num_tl_op_past_12m</th>\n",
       "      <td>70276</td>\n",
       "      <td>0.052130</td>\n",
       "    </tr>\n",
       "    <tr>\n",
       "      <th>num_bc_tl</th>\n",
       "      <td>70276</td>\n",
       "      <td>0.052130</td>\n",
       "    </tr>\n",
       "    <tr>\n",
       "      <th>tot_hi_cred_lim</th>\n",
       "      <td>70276</td>\n",
       "      <td>0.052130</td>\n",
       "    </tr>\n",
       "    <tr>\n",
       "      <th>num_op_rev_tl</th>\n",
       "      <td>70276</td>\n",
       "      <td>0.052130</td>\n",
       "    </tr>\n",
       "    <tr>\n",
       "      <th>num_rev_tl_bal_gt_0</th>\n",
       "      <td>70276</td>\n",
       "      <td>0.052130</td>\n",
       "    </tr>\n",
       "    <tr>\n",
       "      <th>tot_coll_amt</th>\n",
       "      <td>70276</td>\n",
       "      <td>0.052130</td>\n",
       "    </tr>\n",
       "    <tr>\n",
       "      <th>total_il_high_credit_limit</th>\n",
       "      <td>70276</td>\n",
       "      <td>0.052130</td>\n",
       "    </tr>\n",
       "    <tr>\n",
       "      <th>num_tl_30dpd</th>\n",
       "      <td>70276</td>\n",
       "      <td>0.052130</td>\n",
       "    </tr>\n",
       "    <tr>\n",
       "      <th>num_tl_90g_dpd_24m</th>\n",
       "      <td>70276</td>\n",
       "      <td>0.052130</td>\n",
       "    </tr>\n",
       "    <tr>\n",
       "      <th>bc_util</th>\n",
       "      <td>64663</td>\n",
       "      <td>0.047966</td>\n",
       "    </tr>\n",
       "    <tr>\n",
       "      <th>percent_bc_gt_75</th>\n",
       "      <td>64306</td>\n",
       "      <td>0.047701</td>\n",
       "    </tr>\n",
       "    <tr>\n",
       "      <th>bc_open_to_buy</th>\n",
       "      <td>63894</td>\n",
       "      <td>0.047396</td>\n",
       "    </tr>\n",
       "    <tr>\n",
       "      <th>mths_since_recent_bc</th>\n",
       "      <td>62972</td>\n",
       "      <td>0.046712</td>\n",
       "    </tr>\n",
       "    <tr>\n",
       "      <th>num_sats</th>\n",
       "      <td>58590</td>\n",
       "      <td>0.043461</td>\n",
       "    </tr>\n",
       "    <tr>\n",
       "      <th>num_bc_sats</th>\n",
       "      <td>58590</td>\n",
       "      <td>0.043461</td>\n",
       "    </tr>\n",
       "    <tr>\n",
       "      <th>acc_open_past_24mths</th>\n",
       "      <td>50030</td>\n",
       "      <td>0.037112</td>\n",
       "    </tr>\n",
       "    <tr>\n",
       "      <th>mort_acc</th>\n",
       "      <td>50030</td>\n",
       "      <td>0.037112</td>\n",
       "    </tr>\n",
       "    <tr>\n",
       "      <th>total_bal_ex_mort</th>\n",
       "      <td>50030</td>\n",
       "      <td>0.037112</td>\n",
       "    </tr>\n",
       "    <tr>\n",
       "      <th>total_bc_limit</th>\n",
       "      <td>50030</td>\n",
       "      <td>0.037112</td>\n",
       "    </tr>\n",
       "    <tr>\n",
       "      <th>months_prepaid</th>\n",
       "      <td>2325</td>\n",
       "      <td>0.001725</td>\n",
       "    </tr>\n",
       "    <tr>\n",
       "      <th>month_delta</th>\n",
       "      <td>2325</td>\n",
       "      <td>0.001725</td>\n",
       "    </tr>\n",
       "    <tr>\n",
       "      <th>pub_rec_bankruptcies</th>\n",
       "      <td>1365</td>\n",
       "      <td>0.001013</td>\n",
       "    </tr>\n",
       "    <tr>\n",
       "      <th>revol_util</th>\n",
       "      <td>897</td>\n",
       "      <td>0.000665</td>\n",
       "    </tr>\n",
       "    <tr>\n",
       "      <th>dti</th>\n",
       "      <td>374</td>\n",
       "      <td>0.000277</td>\n",
       "    </tr>\n",
       "    <tr>\n",
       "      <th>collections_12_mths_ex_med</th>\n",
       "      <td>145</td>\n",
       "      <td>0.000108</td>\n",
       "    </tr>\n",
       "    <tr>\n",
       "      <th>chargeoff_within_12_mths</th>\n",
       "      <td>145</td>\n",
       "      <td>0.000108</td>\n",
       "    </tr>\n",
       "    <tr>\n",
       "      <th>tax_liens</th>\n",
       "      <td>105</td>\n",
       "      <td>0.000078</td>\n",
       "    </tr>\n",
       "    <tr>\n",
       "      <th>inq_last_6mths</th>\n",
       "      <td>30</td>\n",
       "      <td>0.000022</td>\n",
       "    </tr>\n",
       "    <tr>\n",
       "      <th>delinq_amnt</th>\n",
       "      <td>29</td>\n",
       "      <td>0.000022</td>\n",
       "    </tr>\n",
       "    <tr>\n",
       "      <th>acc_now_delinq</th>\n",
       "      <td>29</td>\n",
       "      <td>0.000022</td>\n",
       "    </tr>\n",
       "    <tr>\n",
       "      <th>pub_rec</th>\n",
       "      <td>29</td>\n",
       "      <td>0.000022</td>\n",
       "    </tr>\n",
       "    <tr>\n",
       "      <th>open_acc</th>\n",
       "      <td>29</td>\n",
       "      <td>0.000022</td>\n",
       "    </tr>\n",
       "    <tr>\n",
       "      <th>earliest_cr_line</th>\n",
       "      <td>29</td>\n",
       "      <td>0.000022</td>\n",
       "    </tr>\n",
       "    <tr>\n",
       "      <th>delinq_2yrs</th>\n",
       "      <td>29</td>\n",
       "      <td>0.000022</td>\n",
       "    </tr>\n",
       "    <tr>\n",
       "      <th>total_acc</th>\n",
       "      <td>29</td>\n",
       "      <td>0.000022</td>\n",
       "    </tr>\n",
       "    <tr>\n",
       "      <th>annual_inc</th>\n",
       "      <td>4</td>\n",
       "      <td>0.000003</td>\n",
       "    </tr>\n",
       "  </tbody>\n",
       "</table>\n",
       "</div>"
      ],
      "text/plain": [
       "                             count      mean\n",
       "mths_since_recent_inq       176822  0.131164\n",
       "num_tl_120dpd_2m            120152  0.089127\n",
       "mo_sin_old_il_acct          108325  0.080354\n",
       "emp_length                   78550  0.058267\n",
       "pct_tl_nvr_dlq               70430  0.052244\n",
       "avg_cur_bal                  70298  0.052146\n",
       "mo_sin_old_rev_tl_op         70277  0.052130\n",
       "mo_sin_rcnt_rev_tl_op        70277  0.052130\n",
       "num_rev_accts                70277  0.052130\n",
       "num_il_tl                    70276  0.052130\n",
       "mo_sin_rcnt_tl               70276  0.052130\n",
       "tot_cur_bal                  70276  0.052130\n",
       "total_rev_hi_lim             70276  0.052130\n",
       "num_accts_ever_120_pd        70276  0.052130\n",
       "num_actv_bc_tl               70276  0.052130\n",
       "num_actv_rev_tl              70276  0.052130\n",
       "num_tl_op_past_12m           70276  0.052130\n",
       "num_bc_tl                    70276  0.052130\n",
       "tot_hi_cred_lim              70276  0.052130\n",
       "num_op_rev_tl                70276  0.052130\n",
       "num_rev_tl_bal_gt_0          70276  0.052130\n",
       "tot_coll_amt                 70276  0.052130\n",
       "total_il_high_credit_limit   70276  0.052130\n",
       "num_tl_30dpd                 70276  0.052130\n",
       "num_tl_90g_dpd_24m           70276  0.052130\n",
       "bc_util                      64663  0.047966\n",
       "percent_bc_gt_75             64306  0.047701\n",
       "bc_open_to_buy               63894  0.047396\n",
       "mths_since_recent_bc         62972  0.046712\n",
       "num_sats                     58590  0.043461\n",
       "num_bc_sats                  58590  0.043461\n",
       "acc_open_past_24mths         50030  0.037112\n",
       "mort_acc                     50030  0.037112\n",
       "total_bal_ex_mort            50030  0.037112\n",
       "total_bc_limit               50030  0.037112\n",
       "months_prepaid                2325  0.001725\n",
       "month_delta                   2325  0.001725\n",
       "pub_rec_bankruptcies          1365  0.001013\n",
       "revol_util                     897  0.000665\n",
       "dti                            374  0.000277\n",
       "collections_12_mths_ex_med     145  0.000108\n",
       "chargeoff_within_12_mths       145  0.000108\n",
       "tax_liens                      105  0.000078\n",
       "inq_last_6mths                  30  0.000022\n",
       "delinq_amnt                     29  0.000022\n",
       "acc_now_delinq                  29  0.000022\n",
       "pub_rec                         29  0.000022\n",
       "open_acc                        29  0.000022\n",
       "earliest_cr_line                29  0.000022\n",
       "delinq_2yrs                     29  0.000022\n",
       "total_acc                       29  0.000022\n",
       "annual_inc                       4  0.000003"
      ]
     },
     "execution_count": 85,
     "metadata": {},
     "output_type": "execute_result"
    }
   ],
   "source": [
    "missing_data(df)"
   ]
  },
  {
   "cell_type": "code",
   "execution_count": 86,
   "metadata": {},
   "outputs": [],
   "source": [
    "#emp_length is of type object, we will convert this to integer\n",
    "map = {\"n/a\":0, \"< 1 \":1, \"1 \":1, \"2 \":2, \"3 \":3, \"4 \":4, \"5 \":5, \"6 \":6, \"7 \":7, \"8 \":8, \"9 \":9, \"10+ \":10}\n",
    "df.emp_length = df.emp_length.str.replace(\"years\",\"\")\n",
    "df.emp_length = df.emp_length.str.replace(\"year\",\"\")\n",
    "df.emp_length.replace(map, inplace=True)"
   ]
  },
  {
   "cell_type": "code",
   "execution_count": 87,
   "metadata": {},
   "outputs": [
    {
     "data": {
      "text/plain": [
       "10.0    442679\n",
       "1.0     197380\n",
       "2.0     122100\n",
       "3.0     107868\n",
       "5.0      84326\n",
       "4.0      80763\n",
       "6.0      62879\n",
       "8.0      60811\n",
       "7.0      59724\n",
       "9.0      51019\n",
       "Name: emp_length, dtype: int64"
      ]
     },
     "execution_count": 87,
     "metadata": {},
     "output_type": "execute_result"
    }
   ],
   "source": [
    "df.emp_length.value_counts()"
   ]
  },
  {
   "cell_type": "code",
   "execution_count": 88,
   "metadata": {},
   "outputs": [],
   "source": [
    "#column 'earliest_cr_line' describes the date when first credit line was established. The longer the duration the more desirable\n",
    "#the borrower. We will convert this measure to number of days since first credit line was established.\n",
    "df['earliest_cr_line'] = df['earliest_cr_line'].apply(pd.to_datetime)\n",
    "end = np.datetime64('2018-12', 'D')\n",
    "df['earliest_cr_line'] = pd.Timestamp(end) - df['earliest_cr_line']\n",
    "df['earliest_cr_line'] = df['earliest_cr_line'] / np.timedelta64(1, 'D')\n",
    "df['earliest_cr_line'] = df.earliest_cr_line.replace(\"NaN\", 0)"
   ]
  },
  {
   "cell_type": "markdown",
   "metadata": {},
   "source": [
    "After trimming the dataset, some columns only contain one value. Drop them. "
   ]
  },
  {
   "cell_type": "code",
   "execution_count": 89,
   "metadata": {},
   "outputs": [],
   "source": [
    "for col in df.columns:\n",
    "    if df[col].nunique() == 1:\n",
    "        print(df[col].value_counts())"
   ]
  },
  {
   "cell_type": "markdown",
   "metadata": {},
   "source": [
    "#### Drop columns to avoid multicollinearity"
   ]
  },
  {
   "cell_type": "code",
   "execution_count": 90,
   "metadata": {
    "scrolled": true
   },
   "outputs": [
    {
     "data": {
      "text/plain": [
       "mths_since_recent_bc        mo_sin_rcnt_rev_tl_op         0.603939\n",
       "mo_sin_rcnt_rev_tl_op       mths_since_recent_bc          0.603939\n",
       "mo_sin_rcnt_tl              mo_sin_rcnt_rev_tl_op         0.610661\n",
       "mo_sin_rcnt_rev_tl_op       mo_sin_rcnt_tl                0.610661\n",
       "num_bc_sats                 num_sats                      0.614226\n",
       "num_sats                    num_bc_sats                   0.614226\n",
       "num_bc_sats                 open_acc                      0.617806\n",
       "open_acc                    num_bc_sats                   0.617806\n",
       "num_bc_tl                   num_op_rev_tl                 0.619581\n",
       "num_op_rev_tl               num_bc_tl                     0.619581\n",
       "total_acc                   num_bc_tl                     0.624052\n",
       "num_bc_tl                   total_acc                     0.624052\n",
       "months_prepaid              term_num                      0.624070\n",
       "term_num                    months_prepaid                0.624070\n",
       "num_bc_sats                 num_rev_tl_bal_gt_0           0.639916\n",
       "num_rev_tl_bal_gt_0         num_bc_sats                   0.639916\n",
       "num_sats                    num_rev_accts                 0.641216\n",
       "num_rev_accts               num_sats                      0.641216\n",
       "open_acc                    num_rev_accts                 0.646872\n",
       "num_rev_accts               open_acc                      0.646872\n",
       "pub_rec                     pub_rec_bankruptcies          0.649728\n",
       "pub_rec_bankruptcies        pub_rec                       0.649728\n",
       "num_actv_bc_tl              num_op_rev_tl                 0.652341\n",
       "num_op_rev_tl               num_actv_bc_tl                0.652341\n",
       "num_sats                    num_actv_rev_tl               0.656079\n",
       "num_actv_rev_tl             num_sats                      0.656079\n",
       "num_tl_90g_dpd_24m          delinq_2yrs                   0.656491\n",
       "delinq_2yrs                 num_tl_90g_dpd_24m            0.656491\n",
       "open_acc                    num_actv_rev_tl               0.659560\n",
       "num_actv_rev_tl             open_acc                      0.659560\n",
       "num_sats                    num_rev_tl_bal_gt_0           0.661338\n",
       "num_rev_tl_bal_gt_0         num_sats                      0.661338\n",
       "open_acc                    num_rev_tl_bal_gt_0           0.661841\n",
       "num_rev_tl_bal_gt_0         open_acc                      0.661841\n",
       "num_bc_sats                 num_actv_rev_tl               0.663451\n",
       "num_actv_rev_tl             num_bc_sats                   0.663451\n",
       "last_fico_range_high        loan_status_binary            0.667146\n",
       "loan_status_binary          last_fico_range_high          0.667146\n",
       "num_il_tl                   total_acc                     0.678880\n",
       "total_acc                   num_il_tl                     0.678880\n",
       "                            num_sats                      0.697735\n",
       "num_sats                    total_acc                     0.697735\n",
       "pub_rec                     tax_liens                     0.698443\n",
       "tax_liens                   pub_rec                       0.698443\n",
       "open_acc                    total_acc                     0.701475\n",
       "total_acc                   open_acc                      0.701475\n",
       "total_rev_hi_lim            total_bc_limit                0.715186\n",
       "total_bc_limit              total_rev_hi_lim              0.715186\n",
       "num_bc_sats                 num_bc_tl                     0.718715\n",
       "num_bc_tl                   num_bc_sats                   0.718715\n",
       "revol_util                  percent_bc_gt_75              0.726873\n",
       "percent_bc_gt_75            revol_util                    0.726873\n",
       "num_bc_sats                 num_op_rev_tl                 0.742109\n",
       "num_op_rev_tl               num_bc_sats                   0.742109\n",
       "acc_open_past_24mths        num_tl_op_past_12m            0.758280\n",
       "num_tl_op_past_12m          acc_open_past_24mths          0.758280\n",
       "total_acc                   num_rev_accts                 0.762550\n",
       "num_rev_accts               total_acc                     0.762550\n",
       "month_delta                 months_prepaid                0.771032\n",
       "months_prepaid              month_delta                   0.771032\n",
       "num_rev_accts               num_op_rev_tl                 0.775137\n",
       "num_op_rev_tl               num_rev_accts                 0.775137\n",
       "num_actv_rev_tl             num_op_rev_tl                 0.790868\n",
       "num_op_rev_tl               num_actv_rev_tl               0.790868\n",
       "num_tl_30dpd                acc_now_delinq                0.794187\n",
       "acc_now_delinq              num_tl_30dpd                  0.794187\n",
       "tot_hi_cred_lim             avg_cur_bal                   0.794342\n",
       "avg_cur_bal                 tot_hi_cred_lim               0.794342\n",
       "num_rev_tl_bal_gt_0         num_op_rev_tl                 0.795177\n",
       "num_op_rev_tl               num_rev_tl_bal_gt_0           0.795177\n",
       "num_actv_bc_tl              num_rev_tl_bal_gt_0           0.800693\n",
       "num_rev_tl_bal_gt_0         num_actv_bc_tl                0.800693\n",
       "num_actv_rev_tl             num_actv_bc_tl                0.807673\n",
       "num_actv_bc_tl              num_actv_rev_tl               0.807673\n",
       "revol_bal                   total_rev_hi_lim              0.810241\n",
       "total_rev_hi_lim            revol_bal                     0.810241\n",
       "num_actv_bc_tl              num_bc_sats                   0.829312\n",
       "num_bc_sats                 num_actv_bc_tl                0.829312\n",
       "last_fico_range_high        last_fico_range_low           0.829470\n",
       "last_fico_range_low         last_fico_range_high          0.829470\n",
       "num_op_rev_tl               num_sats                      0.830184\n",
       "num_sats                    num_op_rev_tl                 0.830184\n",
       "open_acc                    num_op_rev_tl                 0.831029\n",
       "num_op_rev_tl               open_acc                      0.831029\n",
       "avg_cur_bal                 tot_cur_bal                   0.835039\n",
       "tot_cur_bal                 avg_cur_bal                   0.835039\n",
       "num_rev_accts               num_bc_tl                     0.838450\n",
       "num_bc_tl                   num_rev_accts                 0.838450\n",
       "bc_open_to_buy              total_bc_limit                0.838803\n",
       "total_bc_limit              bc_open_to_buy                0.838803\n",
       "percent_bc_gt_75            bc_util                       0.844701\n",
       "bc_util                     percent_bc_gt_75              0.844701\n",
       "revol_util                  bc_util                       0.855025\n",
       "bc_util                     revol_util                    0.855025\n",
       "total_il_high_credit_limit  total_bal_ex_mort             0.872655\n",
       "total_bal_ex_mort           total_il_high_credit_limit    0.872655\n",
       "mo_sin_old_rev_tl_op        earliest_cr_line              0.907040\n",
       "earliest_cr_line            mo_sin_old_rev_tl_op          0.907040\n",
       "installment                 funded_amnt_inv               0.952714\n",
       "funded_amnt_inv             installment                   0.952714\n",
       "loan_amnt                   installment                   0.953435\n",
       "installment                 loan_amnt                     0.953435\n",
       "funded_amnt                 installment                   0.954105\n",
       "installment                 funded_amnt                   0.954105\n",
       "tot_hi_cred_lim             tot_cur_bal                   0.972805\n",
       "tot_cur_bal                 tot_hi_cred_lim               0.972805\n",
       "num_actv_rev_tl             num_rev_tl_bal_gt_0           0.982028\n",
       "num_rev_tl_bal_gt_0         num_actv_rev_tl               0.982028\n",
       "loan_amnt                   funded_amnt_inv               0.998214\n",
       "funded_amnt_inv             loan_amnt                     0.998214\n",
       "num_sats                    open_acc                      0.998729\n",
       "open_acc                    num_sats                      0.998729\n",
       "funded_amnt_inv             funded_amnt                   0.998777\n",
       "funded_amnt                 funded_amnt_inv               0.998777\n",
       "                            loan_amnt                     0.999545\n",
       "loan_amnt                   funded_amnt                   0.999545\n",
       "fico_range_low              fico_range_high               1.000000\n",
       "fico_range_high             fico_range_low                1.000000\n",
       "dtype: float64"
      ]
     },
     "execution_count": 90,
     "metadata": {},
     "output_type": "execute_result"
    }
   ],
   "source": [
    "corrmatrix = df.corr().abs()\n",
    "corrmatrix = corrmatrix.stack()\n",
    "corrmatrix[(corrmatrix > 0.6) & (corrmatrix != 1.0)].sort_values(ascending=True)"
   ]
  },
  {
   "cell_type": "code",
   "execution_count": 91,
   "metadata": {},
   "outputs": [],
   "source": [
    "#drop 'funded_amnt_inv','funded_amnt'. these are unknown at the time of application. High multicollinearity with 'loan_amnt'\n",
    "df.drop(['funded_amnt','funded_amnt_inv'], axis = 1, inplace = True)\n",
    "\n",
    "#drop 'installment', a derivative of loan_amnt. high multicollinearity\n",
    "df.drop(['installment'], axis =1 , inplace = True)\n",
    "\n",
    "#drop 'num_actv_rev_tl'. high multicollinearity with 'num_rev_tl_bal_gt_0'. 'num_rev_tl_bal_gt_0' would be better indicator\n",
    "# because it shows which active accounts actually have a balance vs. showing total accounts \n",
    "# where some may have a balance of 0. \n",
    "df.drop(['num_actv_rev_tl'], axis = 1, inplace = True)\n",
    "\n",
    "#drop 'last_fico_range_high' and 'last_fico_range_low' because these are datapoints post origination. \n",
    "df.drop(['last_fico_range_high','last_fico_range_low'], axis = 1, inplace = True)"
   ]
  },
  {
   "cell_type": "code",
   "execution_count": 92,
   "metadata": {},
   "outputs": [],
   "source": [
    "#drop 'grade' and 'sub_grade'. We will not need these for our model, but would be interesting to compare results. \n",
    "df.drop(['grade'], axis = 1, inplace = True)"
   ]
  },
  {
   "cell_type": "code",
   "execution_count": 93,
   "metadata": {},
   "outputs": [],
   "source": [
    "#average fico low and fico high to get fico score. \n",
    "df['fico'] = df[['fico_range_low','fico_range_high']].mean(axis = 1)\n",
    "df.drop(['fico_range_low','fico_range_high'], axis =1 , inplace = True)"
   ]
  },
  {
   "cell_type": "code",
   "execution_count": 94,
   "metadata": {},
   "outputs": [
    {
     "data": {
      "text/plain": [
       "Text(0, 0.5, 'Loan Status')"
      ]
     },
     "execution_count": 94,
     "metadata": {},
     "output_type": "execute_result"
    },
    {
     "data": {
      "image/png": "[encoded data removed]",
      "text/plain": [
       "<Figure size 1440x360 with 1 Axes>"
      ]
     },
     "metadata": {
      "needs_background": "light"
     },
     "output_type": "display_data"
    }
   ],
   "source": [
    "state = pd.crosstab(df.addr_state , df.loan_status_binary)\n",
    "state = state.div(state.sum(1).astype(float), axis=0).sort_values(0)\n",
    "\n",
    "\n",
    "state.plot(kind='bar', stacked=True, title='Loan Status Based on State of Borrower', figsize=(20,5))\n",
    "plt.xlabel('State')\n",
    "plt.ylabel('Loan Status')\n",
    "# print(df.addr_state.value_counts())"
   ]
  },
  {
   "cell_type": "code",
   "execution_count": 95,
   "metadata": {},
   "outputs": [],
   "source": [
    "#there are no obvious states that show higher default applicants \n",
    "#drop column on addr_state\n",
    "df.drop(['addr_state'], axis=1, inplace=True)"
   ]
  },
  {
   "cell_type": "markdown",
   "metadata": {},
   "source": [
    "On September 28th, 2012, LendingClub announced that, as opposed to its standard fractional investment business model, it would begin setting aside some loans that could only be purchased in their entirety–or as whole loans. LendingClub allows both institutional and retail investors to participate and claims to randomly select loans as whole or fractional without disenfranchsing either party. Several years later we can see that this still hold true and there is no significant difference between the defaults of a whole loan vs a fractional loan.  \n",
    "\n",
    "https://www.lendacademy.com/lending-club-whole-loan-program-one-year-later/"
   ]
  },
  {
   "cell_type": "code",
   "execution_count": 96,
   "metadata": {},
   "outputs": [
    {
     "data": {
      "text/plain": [
       "Text(0, 0.5, 'Loan Status')"
      ]
     },
     "execution_count": 96,
     "metadata": {},
     "output_type": "execute_result"
    },
    {
     "data": {
      "image/png": "[encoded data removed]",
      "text/plain": [
       "<Figure size 432x288 with 1 Axes>"
      ]
     },
     "metadata": {
      "needs_background": "light"
     },
     "output_type": "display_data"
    }
   ],
   "source": [
    "whole_fractional = pd.crosstab(df.initial_list_status , df.loan_status_binary)\n",
    "whole_fractional = whole_fractional.div(whole_fractional.sum(1).astype(float),axis =0).sort_values(0)\n",
    "whole_fractional.plot.bar(stacked = True, title = 'Whole Loan vs Fractional Loan Defaults')\n",
    "plt.xlabel('Initial List Status - Whole or Fractional')\n",
    "plt.ylabel('Loan Status')"
   ]
  },
  {
   "cell_type": "code",
   "execution_count": 97,
   "metadata": {},
   "outputs": [],
   "source": [
    "# we can drop initial list status, lending club has claimed they randomly select applicants for whole or fractional and we\n",
    "#see no obvious difference in the above chart. \n",
    "df.drop('initial_list_status', axis =1 , inplace = True)"
   ]
  },
  {
   "cell_type": "code",
   "execution_count": 98,
   "metadata": {},
   "outputs": [
    {
     "name": "stdout",
     "output_type": "stream",
     "text": [
      "Cash         1341199\n",
      "DirectPay       6900\n",
      "Name: disbursement_method, dtype: int64\n"
     ]
    },
    {
     "data": {
      "image/png": "[encoded data removed]",
      "text/plain": [
       "<Figure size 432x288 with 1 Axes>"
      ]
     },
     "metadata": {
      "needs_background": "light"
     },
     "output_type": "display_data"
    }
   ],
   "source": [
    "disbursement_method = pd.crosstab(df.disbursement_method , df.loan_status_binary)\n",
    "disbursement_method = disbursement_method.div(disbursement_method.sum(1).astype(float),axis =0).sort_values(0)\n",
    "disbursement_method.plot.bar(stacked = True, title = 'Disbursement Method')\n",
    "plt.xlabel('Disbursement Method - Cash or Direct')\n",
    "plt.ylabel('Loan Status')\n",
    "print(df.disbursement_method.value_counts())"
   ]
  },
  {
   "cell_type": "code",
   "execution_count": 99,
   "metadata": {},
   "outputs": [],
   "source": [
    "#no obvious difference between customers with different disbursement methods, and imbalanced class where most customers \n",
    "#disburse via cash, we will drop\n",
    "df.drop(['disbursement_method'], axis=1, inplace=True)"
   ]
  },
  {
   "cell_type": "code",
   "execution_count": 100,
   "metadata": {},
   "outputs": [],
   "source": [
    "df.drop([ 'month_delta', 'term_num', 'year', 'months_prepaid'], axis=1, inplace=True)"
   ]
  },
  {
   "cell_type": "markdown",
   "metadata": {},
   "source": [
    "#### Impute Missing Values"
   ]
  },
  {
   "cell_type": "code",
   "execution_count": 101,
   "metadata": {},
   "outputs": [],
   "source": [
    "obj_cols = df.columns[df.dtypes==object]\n",
    "\n",
    "#Imputer function\n",
    "imputer = lambda x:x.fillna(x.value_counts().index[0]) \n",
    "\n",
    "#Impute dtype=object with most frequent value\n",
    "df[obj_cols] = df[obj_cols].apply(imputer) \n",
    "\n",
    "#Impute the rest of df with median\n",
    "df = df.fillna(df.mode(axis=0).iloc[0]) "
   ]
  },
  {
   "cell_type": "code",
   "execution_count": 102,
   "metadata": {},
   "outputs": [
    {
     "data": {
      "text/plain": [
       "60"
      ]
     },
     "execution_count": 102,
     "metadata": {},
     "output_type": "execute_result"
    }
   ],
   "source": [
    "len(df.columns)"
   ]
  },
  {
   "cell_type": "markdown",
   "metadata": {},
   "source": [
    "#### Pickle cleaned dataframe"
   ]
  },
  {
   "cell_type": "code",
   "execution_count": 103,
   "metadata": {},
   "outputs": [],
   "source": [
    "df.to_pickle('dfaccept_processed')\n",
    "df = pd.read_pickle('dfaccept_processed')"
   ]
  },
  {
   "cell_type": "code",
   "execution_count": 104,
   "metadata": {},
   "outputs": [
    {
     "data": {
      "text/plain": [
       "0    1078739\n",
       "1     269360\n",
       "Name: loan_status_binary, dtype: int64"
      ]
     },
     "execution_count": 104,
     "metadata": {},
     "output_type": "execute_result"
    }
   ],
   "source": [
    "df.loan_status_binary.value_counts()"
   ]
  },
  {
   "cell_type": "code",
   "execution_count": 105,
   "metadata": {
    "scrolled": true
   },
   "outputs": [
    {
     "data": {
      "text/plain": [
       "[(0, 'loan_amnt'),\n",
       " (1, 'term'),\n",
       " (2, 'int_rate'),\n",
       " (3, 'sub_grade'),\n",
       " (4, 'emp_length'),\n",
       " (5, 'home_ownership'),\n",
       " (6, 'annual_inc'),\n",
       " (7, 'verification_status'),\n",
       " (8, 'purpose'),\n",
       " (9, 'dti'),\n",
       " (10, 'delinq_2yrs'),\n",
       " (11, 'earliest_cr_line'),\n",
       " (12, 'inq_last_6mths'),\n",
       " (13, 'open_acc'),\n",
       " (14, 'pub_rec'),\n",
       " (15, 'revol_bal'),\n",
       " (16, 'revol_util'),\n",
       " (17, 'total_acc'),\n",
       " (18, 'collections_12_mths_ex_med'),\n",
       " (19, 'application_type'),\n",
       " (20, 'acc_now_delinq'),\n",
       " (21, 'tot_coll_amt'),\n",
       " (22, 'tot_cur_bal'),\n",
       " (23, 'total_rev_hi_lim'),\n",
       " (24, 'acc_open_past_24mths'),\n",
       " (25, 'avg_cur_bal'),\n",
       " (26, 'bc_open_to_buy'),\n",
       " (27, 'bc_util'),\n",
       " (28, 'chargeoff_within_12_mths'),\n",
       " (29, 'delinq_amnt'),\n",
       " (30, 'mo_sin_old_il_acct'),\n",
       " (31, 'mo_sin_old_rev_tl_op'),\n",
       " (32, 'mo_sin_rcnt_rev_tl_op'),\n",
       " (33, 'mo_sin_rcnt_tl'),\n",
       " (34, 'mort_acc'),\n",
       " (35, 'mths_since_recent_bc'),\n",
       " (36, 'mths_since_recent_inq'),\n",
       " (37, 'num_accts_ever_120_pd'),\n",
       " (38, 'num_actv_bc_tl'),\n",
       " (39, 'num_bc_sats'),\n",
       " (40, 'num_bc_tl'),\n",
       " (41, 'num_il_tl'),\n",
       " (42, 'num_op_rev_tl'),\n",
       " (43, 'num_rev_accts'),\n",
       " (44, 'num_rev_tl_bal_gt_0'),\n",
       " (45, 'num_sats'),\n",
       " (46, 'num_tl_120dpd_2m'),\n",
       " (47, 'num_tl_30dpd'),\n",
       " (48, 'num_tl_90g_dpd_24m'),\n",
       " (49, 'num_tl_op_past_12m'),\n",
       " (50, 'pct_tl_nvr_dlq'),\n",
       " (51, 'percent_bc_gt_75'),\n",
       " (52, 'pub_rec_bankruptcies'),\n",
       " (53, 'tax_liens'),\n",
       " (54, 'tot_hi_cred_lim'),\n",
       " (55, 'total_bal_ex_mort'),\n",
       " (56, 'total_bc_limit'),\n",
       " (57, 'total_il_high_credit_limit'),\n",
       " (58, 'loan_status_binary'),\n",
       " (59, 'fico')]"
      ]
     },
     "execution_count": 105,
     "metadata": {},
     "output_type": "execute_result"
    }
   ],
   "source": [
    "list(enumerate(df.columns))"
   ]
  },
  {
   "cell_type": "code",
   "execution_count": 106,
   "metadata": {},
   "outputs": [],
   "source": [
    "#reorder the columns so its easier to select y-variable later\n",
    "columns = list(df.columns.values)\n",
    "temp = columns[0]\n",
    "columns[0] = columns[58]\n",
    "columns[58] = temp\n",
    "df = df[columns]"
   ]
  },
  {
   "cell_type": "markdown",
   "metadata": {},
   "source": [
    "#### Dummify categorical variables"
   ]
  },
  {
   "cell_type": "code",
   "execution_count": 107,
   "metadata": {},
   "outputs": [],
   "source": [
    "#Get categorical columns\n",
    "cat_col = df.columns[df.dtypes==object] \n",
    "\n",
    "#Create dummy variables\n",
    "df_dummy = pd.get_dummies(df[cat_col], drop_first = True) \n",
    "\n",
    "#Drop categorical columns already encoded\n",
    "df.drop(cat_col, axis=1, inplace=True) \n",
    "\n",
    "#Join the dummy variables to original dataframe\n",
    "df = df.join(df_dummy) "
   ]
  },
  {
   "cell_type": "markdown",
   "metadata": {},
   "source": [
    "#### Train Test Split"
   ]
  },
  {
   "cell_type": "code",
   "execution_count": 108,
   "metadata": {},
   "outputs": [],
   "source": [
    "feat_labels = df.columns[1:]\n",
    "X = df.iloc[:,1:]\n",
    "y = df.iloc[:,0]"
   ]
  },
  {
   "cell_type": "code",
   "execution_count": 109,
   "metadata": {},
   "outputs": [],
   "source": [
    "from sklearn.model_selection import train_test_split \n",
    "X_train, X_test, y_train, y_test = train_test_split(X, y, test_size=0.25, random_state=0)"
   ]
  },
  {
   "cell_type": "markdown",
   "metadata": {},
   "source": [
    "### Classification Algorithms: Logistic Regression, Random Forest, Naive Bayes, and Gradient Boosted Regression."
   ]
  },
  {
   "cell_type": "code",
   "execution_count": 147,
   "metadata": {},
   "outputs": [],
   "source": [
    "from sklearn.preprocessing import StandardScaler\n",
    "from sklearn.linear_model import LogisticRegression as LR\n",
    "from sklearn.ensemble import RandomForestClassifier as RF\n",
    "from sklearn.naive_bayes import GaussianNB as GNB\n",
    "from sklearn.ensemble import GradientBoostingClassifier as GBC\n",
    "from imblearn.pipeline import Pipeline\n",
    "from xgboost.sklearn import XGBClassifier as XGB"
   ]
  },
  {
   "cell_type": "code",
   "execution_count": 111,
   "metadata": {},
   "outputs": [],
   "source": [
    "# explicitly require this experimental feature\n",
    "from sklearn.experimental import enable_hist_gradient_boosting \n",
    "# now you can import normally from ensemble\n",
    "from sklearn.ensemble import HistGradientBoostingClassifier as HGB"
   ]
  },
  {
   "cell_type": "code",
   "execution_count": 112,
   "metadata": {},
   "outputs": [],
   "source": [
    "lr_pipeline = Pipeline([('scaler',StandardScaler()),\n",
    "                        ('classifier', LR(random_state = 5))])\n",
    "\n",
    "rf_pipeline = Pipeline([('scaler',StandardScaler()),\n",
    "                        ('classifier', RF(random_state = 5))])\n",
    "\n",
    "nb_pipeline = Pipeline([('scaler',StandardScaler()),\n",
    "                        ('classifier', GNB())])\n",
    "\n",
    "gb_pipeline = Pipeline([('scaler',StandardScaler()),\n",
    "                        ('classifier', GBC(random_state = 5))])\n",
    "\n",
    "hgb_pipeline = Pipeline([('scaler',StandardScaler()),\n",
    "                        ('classifier', HGB(random_state = 5))])\n",
    "\n",
    "xgb_pipeline = Pipeline([('scaler',StandardScaler()),\n",
    "                        ('classifier', XGB(random_state = 5))])\n"
   ]
  },
  {
   "cell_type": "markdown",
   "metadata": {},
   "source": [
    "### GridSearch"
   ]
  },
  {
   "cell_type": "code",
   "execution_count": 113,
   "metadata": {},
   "outputs": [],
   "source": [
    "from sklearn.model_selection import GridSearchCV \n",
    "\n",
    "\n",
    "#Grid search for logistic regression\n",
    "lr_param_range = [1000] \n",
    "lr_class_weight = [{0:0.08, 1:0.92}]\n",
    "lr_param_grid = [{'classifier__C':lr_param_range,\n",
    "                'classifier__class_weight':lr_class_weight}]\n",
    "gridsearch_lr = GridSearchCV(estimator = lr_pipeline,\n",
    "                          param_grid = lr_param_grid,\n",
    "                          n_jobs = -1,\n",
    "                          cv = 3)\n",
    "\n",
    "#Grid search for random forest\n",
    "rf_class_weight = [{0:0.08, 1:0.92}]\n",
    "rf_param_grid =[{'classifier__max_features': [\"sqrt\"],\n",
    "                 'classifier__class_weight':rf_class_weight,\n",
    "                 'classifier__min_samples_split': [100],\n",
    "                 'classifier__min_samples_leaf': [5],\n",
    "                 'classifier__n_estimators': [100],\n",
    "                 'classifier__criterion': [\"entropy\"]}] \n",
    "gridsearch_rf = GridSearchCV(estimator = rf_pipeline,\n",
    "                          param_grid = rf_param_grid,\n",
    "                          n_jobs = -1,\n",
    "                          cv = 3)\n",
    "\n",
    "#Grid search for Gradient Boosting Classifier\n",
    "gb_param_grid = [{'classifier__n_estimators': [500,1000],\n",
    "                  'classifier__min_samples_leaf': [5,15],\n",
    "                  'classifier__max_features': ['sqrt'],\n",
    "                  'classifier__learning_rate': [0.1],\n",
    "                  }]\n",
    "gridsearch_gb = GridSearchCV(estimator = gb_pipeline,\n",
    "                          param_grid = gb_param_grid,\n",
    "                          n_jobs = -1,\n",
    "                          cv = 3)\n",
    "\n",
    "#Grid search for Hist Gradient Boosting Classifier\n",
    "hgb_param_grid = [{'classifier__max_iter':[500],\n",
    "                   'classifier__learning_rate':[0.1],\n",
    "                   'classifier__max_depth':[25,50],\n",
    "                   'classifier__l2_regularization':[1]}]\n",
    "\n",
    "gridsearch_hgb = GridSearchCV(estimator = hgb_pipeline,\n",
    "                          param_grid = hgb_param_grid,\n",
    "                          n_jobs = -1,\n",
    "                          cv = 3)\n",
    "\n",
    "#Grid search for XG Boost\n",
    "hgb_param_grid = [{'classifier__max_iter':[500],\n",
    "                   'classifier__learning_rate':[0.1],\n",
    "                   'classifier__max_depth':[25,50],\n",
    "                   'classifier__l2_regularization':[1]}]\n",
    "\n",
    "gridsearch_hgb = GridSearchCV(estimator = hgb_pipeline,\n",
    "                          param_grid = hgb_param_grid,\n",
    "                          n_jobs = -1,\n",
    "                          cv = 3)\n",
    "\n"
   ]
  },
  {
   "cell_type": "markdown",
   "metadata": {},
   "source": [
    "We will only test a portion of the dataset for time efficiency."
   ]
  },
  {
   "cell_type": "code",
   "execution_count": 310,
   "metadata": {},
   "outputs": [],
   "source": [
    "df_shuffle = df.reindex(np.random.permutation(df.index))[0:350000]"
   ]
  },
  {
   "cell_type": "code",
   "execution_count": 312,
   "metadata": {},
   "outputs": [],
   "source": [
    "X_gs_train = df_shuffle.iloc[:,1:]\n",
    "y_gs_train = df_shuffle.iloc[:,0]"
   ]
  },
  {
   "cell_type": "markdown",
   "metadata": {},
   "source": [
    "Import dill to pickle best estimators for time efficiency"
   ]
  },
  {
   "cell_type": "code",
   "execution_count": 313,
   "metadata": {},
   "outputs": [
    {
     "data": {
      "text/plain": [
       "0    280002\n",
       "1     69998\n",
       "Name: loan_status_binary, dtype: int64"
      ]
     },
     "execution_count": 313,
     "metadata": {},
     "output_type": "execute_result"
    }
   ],
   "source": [
    "df_shuffle.loan_status_binary.value_counts()"
   ]
  },
  {
   "cell_type": "code",
   "execution_count": 314,
   "metadata": {},
   "outputs": [],
   "source": [
    "import dill"
   ]
  },
  {
   "cell_type": "code",
   "execution_count": 315,
   "metadata": {},
   "outputs": [
    {
     "name": "stderr",
     "output_type": "stream",
     "text": [
      "C:\\Users\\mjdch\\Anaconda3\\lib\\site-packages\\sklearn\\linear_model\\logistic.py:432: FutureWarning: Default solver will be changed to 'lbfgs' in 0.22. Specify a solver to silence this warning.\n",
      "  FutureWarning)\n"
     ]
    }
   ],
   "source": [
    "gridsearch_lr.fit(X_gs_train, y_gs_train)\n",
    "gridsearch_best_estimator_lr = gridsearch_lr.best_estimator_\n",
    "dill.dump(gridsearch_best_estimator_lr, open('LogisticRegression_gridsearch.pkl', 'wb'))\n",
    "\n",
    "gridsearch_rf.fit(X_gs_train, y_gs_train)\n",
    "gridsearch_best_estimator_rf = gridsearch_rf.best_estimator_\n",
    "dill.dump(gridsearch_best_estimator_rf, open('RandomForest_gridsearch.pkl', 'wb'))\n",
    "\n",
    "gridsearch_gb.fit(X_gs_train, y_gs_train)\n",
    "gridsearch_best_estimator_gb = gridsearch_gb.best_estimator_\n",
    "dill.dump(gridsearch_best_estimator_gb, open('GradientBoosting_gridsearch.pkl', 'wb'))\n",
    "\n",
    "gridsearch_hgb.fit(X_gs_train, y_gs_train)\n",
    "gridsearch_best_estimator_hgb = gridsearch_hgb.best_estimator_\n",
    "dill.dump(gridsearch_best_estimator_hgb, open('HistGradientBoosting_gridsearch.pkl','wb'))"
   ]
  },
  {
   "cell_type": "markdown",
   "metadata": {},
   "source": [
    "We write a function to draw a Confusion Matrix "
   ]
  },
  {
   "cell_type": "code",
   "execution_count": 114,
   "metadata": {},
   "outputs": [],
   "source": [
    "def draw_ConfusionMatrix(conf_matrix, classifier_name):\n",
    "    ''' The confusion matrix draw function'''\n",
    "    fig, ax = plt.subplots(figsize=(4.5, 4.5))\n",
    "    ax.matshow(conf_matrix, cmap=plt.cm.Greens, alpha=0.3)\n",
    "    for i in range(conf_matrix.shape[0]):\n",
    "        for j in range(conf_matrix.shape[1]):\n",
    "            ax.text(x=j, y=i, s=conf_matrix[i, j], va='center', ha='center')\n",
    "\n",
    "    plt.title('Confusion Matrix for %s' % classifier_name)\n",
    "    plt.xlabel('Predicted label')\n",
    "    plt.ylabel('True label')\n",
    "\n",
    "    plt.tight_layout()\n",
    "    plt.show()"
   ]
  },
  {
   "cell_type": "code",
   "execution_count": 115,
   "metadata": {},
   "outputs": [],
   "source": [
    "from sklearn.model_selection import KFold\n",
    "from sklearn.metrics import accuracy_score\n",
    "from sklearn.metrics import confusion_matrix\n",
    "from sklearn.metrics import roc_curve, auc\n",
    "from sklearn.metrics import classification_report\n",
    "from scipy import interp"
   ]
  },
  {
   "cell_type": "markdown",
   "metadata": {},
   "source": [
    "We write a function to display ROC/AUC graph, cross validation results and confusion matrix."
   ]
  },
  {
   "cell_type": "code",
   "execution_count": 116,
   "metadata": {},
   "outputs": [],
   "source": [
    "def run_cv(X, y, classifier, clf_name):\n",
    "    \n",
    "    #Construct a kfolds object\n",
    "    kf = KFold(n_splits=5,shuffle=True)\n",
    "    \n",
    "    accuracy_scores = []\n",
    "            \n",
    "    #Initialize ROC variables\n",
    "    mean_tpr = 0.0\n",
    "    mean_fpr = np.linspace(0, 1, 100)\n",
    "    all_tpr = []\n",
    "    \n",
    "    clf = classifier\n",
    "    \n",
    "    y_pred_full = y.copy()\n",
    "    \n",
    "    #Iterate through folds\n",
    "    for i,(train_index, test_index) in enumerate(kf.split(y)):\n",
    "        \n",
    "        #Obtain the training and validation data sets for each fold\n",
    "        X_train, X_test = X.iloc[train_index], X.iloc[test_index]\n",
    "        y_train = y.iloc[train_index]\n",
    "        y_test = y.iloc[test_index]\n",
    "                \n",
    "        #Train the classifier on the training data\n",
    "        clf_fit = clf.fit(X_train,y_train)\n",
    "        \n",
    "        #Obtain a prediction on the test set\n",
    "        y_pred = clf_fit.predict(X_test)\n",
    "        \n",
    "        #Map the prediction for this fold to the full dataset\n",
    "        y_pred_full.iloc[test_index] = y_pred\n",
    "    \n",
    "        #Calculate the accuracy of the prediction on current fold\n",
    "        accuracy_scores.append(accuracy_score(y_true=y_test, y_pred=y_pred))\n",
    "        \n",
    "        #Get probabilities and compute area under ROC curve\n",
    "        probas_ = clf_fit.predict_proba(X_test)\n",
    "        fpr, tpr, thresholds = roc_curve(y_test, probas_[:, 1])\n",
    "        mean_tpr += interp(mean_fpr, fpr, tpr)\n",
    "        mean_tpr[0] = 0.0\n",
    "        roc_auc = auc(fpr, tpr)\n",
    "        plt.plot(fpr, tpr, lw=1, label='ROC fold %d (area = %0.2f)' % (i, roc_auc))\n",
    "    \n",
    "    #Get Evaluation metrics    \n",
    "    #Draw ROC Curve    \n",
    "    mean_tpr /= len(y)\n",
    "    mean_tpr[-1] = 1.0\n",
    "    mean_auc = auc(mean_fpr, mean_tpr)\n",
    "    \n",
    "    plt.plot([0, 1], \n",
    "             [0, 1], \n",
    "             '--', \n",
    "             color=(0.6, 0.6, 0.6), \n",
    "             label='Luck')\n",
    "    \n",
    "    plt.plot([0, 0, 1], \n",
    "             [0, 1, 1], \n",
    "             lw=2,\n",
    "             linestyle=':',\n",
    "             color='black',\n",
    "             label='Perfect Performance')\n",
    "    \n",
    "    plt.plot(mean_fpr, \n",
    "             mean_tpr, \n",
    "             'k--',\n",
    "             label='Mean ROC (area = %0.2f)' % mean_auc, lw=2)\n",
    "    \n",
    "    plt.xlim([-0.05, 1.05])\n",
    "    plt.ylim([-0.05, 1.05])\n",
    "    plt.xlabel('False Positive Rate')\n",
    "    plt.ylabel('True Positive Rate')\n",
    "    plt.title('Receiver Operating Characteristic for %s' % classifier_name)\n",
    "    plt.legend(loc=\"lower right\")\n",
    "    #plt.tight_layout()\n",
    "    plt.show()\n",
    "    \n",
    "    #Accuracy score\n",
    "    mean = np.mean(accuracy_scores)\n",
    "    std = np.std(accuracy_scores)\n",
    "    print(clf_name + ':' + '\\n' + 'cross-validation accuracy')\n",
    "    print(\"%.2f +/- %.3f\" % (mean, std))\n",
    "    print(classification_report(y, y_pred_full))\n",
    "    \n",
    "    #Confusion Matrix\n",
    "    conf_matrix = confusion_matrix(y_true=y, y_pred=y_pred_full)\n",
    "    draw_ConfusionMatrix(conf_matrix, clf_name)\n",
    "    \n",
    "    return clf_fit"
   ]
  },
  {
   "cell_type": "code",
   "execution_count": 118,
   "metadata": {},
   "outputs": [],
   "source": [
    "import dill\n",
    "with open('LogisticRegression_gridsearch.pkl', 'rb') as f:\n",
    "    LogisticRegression_classifier = dill.load(f)\n",
    "    \n",
    "with open('RandomForest_gridsearch.pkl', 'rb') as f:\n",
    "    RandomForest_classifier = dill.load(f)\n",
    "    \n",
    "with open('GradientBoosting_gridsearch.pkl', 'rb') as f:\n",
    "    GradientBoosting_classifier = dill.load(f)\n",
    "    \n",
    "with open('HistGradientBoosting_gridsearch.pkl', 'rb') as f:\n",
    "    HistGradientBoosting_classifier = dill.load(f)"
   ]
  },
  {
   "cell_type": "markdown",
   "metadata": {},
   "source": [
    "### Model Results\n",
    "\n",
    "As risk averse debt investors, one of our priorities is to allocate large sums of money into lending club loans while avoiding defaults. We would like to try our best to minimize the Type II Error, where we predict a non-default which ends up defaulting. Therefore, accuracy is not a measure we would like to maximize. Instead we will look at the precision and recall of the confusion matrix. We rather have higher precision even if it means sacrificing accuracy. "
   ]
  },
  {
   "cell_type": "code",
   "execution_count": 320,
   "metadata": {
    "scrolled": true
   },
   "outputs": [
    {
     "name": "stderr",
     "output_type": "stream",
     "text": [
      "C:\\Users\\mjdch\\Anaconda3\\lib\\site-packages\\sklearn\\linear_model\\logistic.py:432: FutureWarning: Default solver will be changed to 'lbfgs' in 0.22. Specify a solver to silence this warning.\n",
      "  FutureWarning)\n",
      "C:\\Users\\mjdch\\Anaconda3\\lib\\site-packages\\sklearn\\linear_model\\logistic.py:432: FutureWarning: Default solver will be changed to 'lbfgs' in 0.22. Specify a solver to silence this warning.\n",
      "  FutureWarning)\n",
      "C:\\Users\\mjdch\\Anaconda3\\lib\\site-packages\\sklearn\\linear_model\\logistic.py:432: FutureWarning: Default solver will be changed to 'lbfgs' in 0.22. Specify a solver to silence this warning.\n",
      "  FutureWarning)\n",
      "C:\\Users\\mjdch\\Anaconda3\\lib\\site-packages\\sklearn\\linear_model\\logistic.py:432: FutureWarning: Default solver will be changed to 'lbfgs' in 0.22. Specify a solver to silence this warning.\n",
      "  FutureWarning)\n",
      "C:\\Users\\mjdch\\Anaconda3\\lib\\site-packages\\sklearn\\linear_model\\logistic.py:432: FutureWarning: Default solver will be changed to 'lbfgs' in 0.22. Specify a solver to silence this warning.\n",
      "  FutureWarning)\n"
     ]
    },
    {
     "data": {
      "image/png": "[encoded data removed]",
      "text/plain": [
       "<Figure size 432x288 with 1 Axes>"
      ]
     },
     "metadata": {
      "needs_background": "light"
     },
     "output_type": "display_data"
    },
    {
     "name": "stdout",
     "output_type": "stream",
     "text": [
      "Logistic Regression Classifier:\n",
      "cross-validation accuracy\n",
      "0.35 +/- 0.001\n",
      "              precision    recall  f1-score   support\n",
      "\n",
      "           0       0.95      0.20      0.33    808781\n",
      "           1       0.23      0.96      0.37    202293\n",
      "\n",
      "    accuracy                           0.35   1011074\n",
      "   macro avg       0.59      0.58      0.35   1011074\n",
      "weighted avg       0.80      0.35      0.34   1011074\n",
      "\n"
     ]
    },
    {
     "data": {
      "image/png": "[encoded data removed]",
      "text/plain": [
       "<Figure size 324x324 with 1 Axes>"
      ]
     },
     "metadata": {
      "needs_background": "light"
     },
     "output_type": "display_data"
    },
    {
     "data": {
      "image/png": "[encoded data removed]",
      "text/plain": [
       "<Figure size 432x288 with 1 Axes>"
      ]
     },
     "metadata": {
      "needs_background": "light"
     },
     "output_type": "display_data"
    },
    {
     "name": "stdout",
     "output_type": "stream",
     "text": [
      "Random Forest Classifier:\n",
      "cross-validation accuracy\n",
      "0.51 +/- 0.001\n",
      "              precision    recall  f1-score   support\n",
      "\n",
      "           0       0.92      0.42      0.58    808781\n",
      "           1       0.27      0.85      0.41    202293\n",
      "\n",
      "    accuracy                           0.51   1011074\n",
      "   macro avg       0.59      0.64      0.49   1011074\n",
      "weighted avg       0.79      0.51      0.54   1011074\n",
      "\n"
     ]
    },
    {
     "data": {
      "image/png": "[encoded data removed]",
      "text/plain": [
       "<Figure size 324x324 with 1 Axes>"
      ]
     },
     "metadata": {
      "needs_background": "light"
     },
     "output_type": "display_data"
    },
    {
     "data": {
      "image/png": "[encoded data removed]",
      "text/plain": [
       "<Figure size 432x288 with 1 Axes>"
      ]
     },
     "metadata": {
      "needs_background": "light"
     },
     "output_type": "display_data"
    },
    {
     "name": "stdout",
     "output_type": "stream",
     "text": [
      "Gaussian Naive Bayes:\n",
      "cross-validation accuracy\n",
      "0.42 +/- 0.013\n",
      "              precision    recall  f1-score   support\n",
      "\n",
      "           0       0.88      0.32      0.47    808781\n",
      "           1       0.23      0.82      0.36    202293\n",
      "\n",
      "    accuracy                           0.42   1011074\n",
      "   macro avg       0.55      0.57      0.41   1011074\n",
      "weighted avg       0.75      0.42      0.44   1011074\n",
      "\n"
     ]
    },
    {
     "data": {
      "image/png": "[encoded data removed]",
      "text/plain": [
       "<Figure size 324x324 with 1 Axes>"
      ]
     },
     "metadata": {
      "needs_background": "light"
     },
     "output_type": "display_data"
    },
    {
     "data": {
      "image/png": "[encoded data removed]",
      "text/plain": [
       "<Figure size 432x288 with 1 Axes>"
      ]
     },
     "metadata": {
      "needs_background": "light"
     },
     "output_type": "display_data"
    },
    {
     "name": "stdout",
     "output_type": "stream",
     "text": [
      "Gradient Boosting:\n",
      "cross-validation accuracy\n",
      "0.81 +/- 0.001\n",
      "              precision    recall  f1-score   support\n",
      "\n",
      "           0       0.81      0.98      0.89    808781\n",
      "           1       0.58      0.10      0.17    202293\n",
      "\n",
      "    accuracy                           0.81   1011074\n",
      "   macro avg       0.70      0.54      0.53   1011074\n",
      "weighted avg       0.77      0.81      0.75   1011074\n",
      "\n"
     ]
    },
    {
     "data": {
      "image/png": "[encoded data removed]",
      "text/plain": [
       "<Figure size 324x324 with 1 Axes>"
      ]
     },
     "metadata": {
      "needs_background": "light"
     },
     "output_type": "display_data"
    }
   ],
   "source": [
    "classifier_name = 'Logistic Regression Classifier'\n",
    "model_pipeline_lr = run_cv(X_train, y_train, LogisticRegression_classifier, classifier_name)\n",
    "\n",
    "classifier_name = 'Random Forest Classifier'\n",
    "model_pipeline_rf = run_cv(X_train, y_train, RandomForest_classifier, classifier_name)\n",
    "dill.dump(model_pipeline_rf, open('RandomForest_model_AllFeatures.pkl', 'wb'))\n",
    "\n",
    "classifier_name = 'Gaussian Naive Bayes'\n",
    "GaussianNB_classifier = GNB()\n",
    "model_pipeline_nb = run_cv(X_train, y_train, GaussianNB_classifier, classifier_name)\n",
    "\n",
    "classifier_name = 'Gradient Boosting'\n",
    "model_pipeline_gb = run_cv(X_train, y_train, GradientBoosting_classifier, classifier_name)"
   ]
  },
  {
   "cell_type": "code",
   "execution_count": null,
   "metadata": {},
   "outputs": [],
   "source": []
  },
  {
   "cell_type": "code",
   "execution_count": null,
   "metadata": {},
   "outputs": [],
   "source": []
  },
  {
   "cell_type": "code",
   "execution_count": null,
   "metadata": {},
   "outputs": [],
   "source": []
  },
  {
   "cell_type": "code",
   "execution_count": 165,
   "metadata": {},
   "outputs": [
    {
     "name": "stderr",
     "output_type": "stream",
     "text": [
      "C:\\Users\\mjdch\\Anaconda3\\lib\\site-packages\\sklearn\\linear_model\\logistic.py:432: FutureWarning: Default solver will be changed to 'lbfgs' in 0.22. Specify a solver to silence this warning.\n",
      "  FutureWarning)\n",
      "C:\\Users\\mjdch\\Anaconda3\\lib\\site-packages\\sklearn\\linear_model\\logistic.py:432: FutureWarning: Default solver will be changed to 'lbfgs' in 0.22. Specify a solver to silence this warning.\n",
      "  FutureWarning)\n",
      "C:\\Users\\mjdch\\Anaconda3\\lib\\site-packages\\sklearn\\linear_model\\logistic.py:432: FutureWarning: Default solver will be changed to 'lbfgs' in 0.22. Specify a solver to silence this warning.\n",
      "  FutureWarning)\n",
      "C:\\Users\\mjdch\\Anaconda3\\lib\\site-packages\\sklearn\\linear_model\\logistic.py:432: FutureWarning: Default solver will be changed to 'lbfgs' in 0.22. Specify a solver to silence this warning.\n",
      "  FutureWarning)\n",
      "C:\\Users\\mjdch\\Anaconda3\\lib\\site-packages\\sklearn\\linear_model\\logistic.py:432: FutureWarning: Default solver will be changed to 'lbfgs' in 0.22. Specify a solver to silence this warning.\n",
      "  FutureWarning)\n"
     ]
    },
    {
     "data": {
      "image/png": "[encoded data removed]",
      "text/plain": [
       "<Figure size 432x288 with 1 Axes>"
      ]
     },
     "metadata": {
      "needs_background": "light"
     },
     "output_type": "display_data"
    },
    {
     "name": "stdout",
     "output_type": "stream",
     "text": [
      "Logistic Regression Classifier:\n",
      "cross-validation accuracy\n",
      "0.64 +/- 0.001\n",
      "              precision    recall  f1-score   support\n",
      "\n",
      "           0       0.89      0.63      0.74    808781\n",
      "           1       0.32      0.68      0.43    202293\n",
      "\n",
      "    accuracy                           0.64   1011074\n",
      "   macro avg       0.60      0.66      0.59   1011074\n",
      "weighted avg       0.77      0.64      0.68   1011074\n",
      "\n"
     ]
    },
    {
     "data": {
      "image/png": "[encoded data removed]",
      "text/plain": [
       "<Figure size 324x324 with 1 Axes>"
      ]
     },
     "metadata": {
      "needs_background": "light"
     },
     "output_type": "display_data"
    }
   ],
   "source": [
    "LogisticRegression_classifier = Pipeline(memory=None,\n",
    "         steps=[('scaler',\n",
    "                 StandardScaler(copy=True, with_mean=True, with_std=True)),\n",
    "                ('classifier',\n",
    "                 LR(C=1000, class_weight={0: 0.2, 1: 0.8},\n",
    "                                    dual=False, fit_intercept=True,\n",
    "                                    intercept_scaling=1, l1_ratio=None,\n",
    "                                    max_iter=100, multi_class='warn',\n",
    "                                    n_jobs=None, penalty='l2', random_state=5,\n",
    "                                    solver='warn', tol=0.0001, verbose=0,\n",
    "                                    warm_start=False))],\n",
    "         verbose=False)\n",
    "\n",
    "classifier_name = 'Logistic Regression Classifier'\n",
    "model_pipeline_lr = run_cv(X_train, y_train, LogisticRegression_classifier, classifier_name)\n"
   ]
  },
  {
   "cell_type": "code",
   "execution_count": 166,
   "metadata": {},
   "outputs": [
    {
     "name": "stdout",
     "output_type": "stream",
     "text": [
      "0.6437243960382721\n",
      "              precision    recall  f1-score   support\n",
      "\n",
      "           0       0.89      0.63      0.74    808781\n",
      "           1       0.32      0.68      0.43    202293\n",
      "\n",
      "    accuracy                           0.64   1011074\n",
      "   macro avg       0.60      0.66      0.59   1011074\n",
      "weighted avg       0.77      0.64      0.68   1011074\n",
      "\n"
     ]
    },
    {
     "data": {
      "image/png": "[encoded data removed]",
      "text/plain": [
       "<Figure size 324x324 with 1 Axes>"
      ]
     },
     "metadata": {
      "needs_background": "light"
     },
     "output_type": "display_data"
    }
   ],
   "source": [
    "y_pred = model_pipeline_lr.predict(X_train)\n",
    "\n",
    "#Calculate the accuracy of the prediction on current fold\n",
    "print(accuracy_score(y_true=y_train, y_pred=y_pred))\n",
    "print(classification_report(y_train, y_pred))\n",
    "\n",
    "#Confusion Matrix\n",
    "conf_matrix = confusion_matrix(y_true=y_train, y_pred=y_pred)\n",
    "draw_ConfusionMatrix(conf_matrix, 'Logistic Regression')"
   ]
  },
  {
   "cell_type": "code",
   "execution_count": 168,
   "metadata": {},
   "outputs": [],
   "source": [
    "y_pred_df = pd.DataFrame(y_pred).rename(columns = {0:'y_pred'})\n",
    "y_train_df = pd.DataFrame(y_train).rename(columns = {'loan_status_binary': 'y_train'})"
   ]
  },
  {
   "cell_type": "code",
   "execution_count": 169,
   "metadata": {},
   "outputs": [],
   "source": [
    "a = pd.merge(X_train, total_payments_df, left_index = True, right_index = True)\n",
    "b= pd.merge(a,pd.concat([y_train_df.reset_index(),y_pred_df],1), how = 'left', left_index = True, right_on = 'index')"
   ]
  },
  {
   "cell_type": "code",
   "execution_count": 170,
   "metadata": {},
   "outputs": [],
   "source": [
    "o = b.loc[(b.y_train == 0)&(b.y_pred == 0),'profit'].sum()\n",
    "p = b.loc[(b.y_train == 1)&(b.y_pred == 0),'profit'].sum()"
   ]
  },
  {
   "cell_type": "code",
   "execution_count": 171,
   "metadata": {},
   "outputs": [
    {
     "data": {
      "text/plain": [
       "1224065328.7933283"
      ]
     },
     "execution_count": 171,
     "metadata": {},
     "output_type": "execute_result"
    }
   ],
   "source": [
    "o-p"
   ]
  },
  {
   "cell_type": "code",
   "execution_count": 174,
   "metadata": {},
   "outputs": [],
   "source": [
    "e = b.loc[(b.y_train == 0)&(b.y_pred == 0),'loan_amnt'].sum()\n",
    "n = b.loc[(b.y_train == 1)&(b.y_pred == 0),'loan_amnt'].sum()"
   ]
  },
  {
   "cell_type": "code",
   "execution_count": 175,
   "metadata": {},
   "outputs": [
    {
     "data": {
      "text/plain": [
       "7623741225.0"
      ]
     },
     "execution_count": 175,
     "metadata": {},
     "output_type": "execute_result"
    }
   ],
   "source": [
    "e+n"
   ]
  },
  {
   "cell_type": "code",
   "execution_count": 176,
   "metadata": {},
   "outputs": [
    {
     "data": {
      "text/plain": [
       "0.1605596639061327"
      ]
     },
     "execution_count": 176,
     "metadata": {},
     "output_type": "execute_result"
    }
   ],
   "source": [
    "(o-p)/(e+n)"
   ]
  },
  {
   "cell_type": "code",
   "execution_count": null,
   "metadata": {},
   "outputs": [],
   "source": []
  },
  {
   "cell_type": "code",
   "execution_count": null,
   "metadata": {},
   "outputs": [],
   "source": []
  },
  {
   "cell_type": "markdown",
   "metadata": {},
   "source": [
    "# Test"
   ]
  },
  {
   "cell_type": "markdown",
   "metadata": {},
   "source": [
    "### Class Weights = Class 0:0 , Class 1: 1"
   ]
  },
  {
   "cell_type": "code",
   "execution_count": 380,
   "metadata": {},
   "outputs": [],
   "source": [
    "LogisticRegression_classifier = Pipeline(memory=None,\n",
    "         steps=[('scaler',\n",
    "                 StandardScaler(copy=True, with_mean=True, with_std=True)),\n",
    "                ('classifier',\n",
    "                 LR(C=1000, class_weight={0: 0, 1: 1},\n",
    "                                    dual=False, fit_intercept=True,\n",
    "                                    intercept_scaling=1, l1_ratio=None,\n",
    "                                    max_iter=100, multi_class='warn',\n",
    "                                    n_jobs=None, penalty='l2', random_state=5,\n",
    "                                    solver='warn', tol=0.0001, verbose=0,\n",
    "                                    warm_start=False))],\n",
    "         verbose=False)"
   ]
  },
  {
   "cell_type": "code",
   "execution_count": 381,
   "metadata": {
    "scrolled": true
   },
   "outputs": [
    {
     "name": "stderr",
     "output_type": "stream",
     "text": [
      "C:\\Users\\mjdch\\Anaconda3\\lib\\site-packages\\sklearn\\linear_model\\logistic.py:432: FutureWarning: Default solver will be changed to 'lbfgs' in 0.22. Specify a solver to silence this warning.\n",
      "  FutureWarning)\n"
     ]
    },
    {
     "name": "stdout",
     "output_type": "stream",
     "text": [
      "0.19899710703953713\n"
     ]
    },
    {
     "name": "stderr",
     "output_type": "stream",
     "text": [
      "C:\\Users\\mjdch\\Anaconda3\\lib\\site-packages\\sklearn\\metrics\\classification.py:1437: UndefinedMetricWarning: Precision and F-score are ill-defined and being set to 0.0 in labels with no predicted samples.\n",
      "  'precision', 'predicted', average, warn_for)\n"
     ]
    },
    {
     "name": "stdout",
     "output_type": "stream",
     "text": [
      "              precision    recall  f1-score   support\n",
      "\n",
      "           0       0.00      0.00      0.00    269958\n",
      "           1       0.20      1.00      0.33     67067\n",
      "\n",
      "    accuracy                           0.20    337025\n",
      "   macro avg       0.10      0.50      0.17    337025\n",
      "weighted avg       0.04      0.20      0.07    337025\n",
      "\n"
     ]
    },
    {
     "data": {
      "image/png": "[encoded data removed]",
      "text/plain": [
       "<Figure size 324x324 with 1 Axes>"
      ]
     },
     "metadata": {
      "needs_background": "light"
     },
     "output_type": "display_data"
    }
   ],
   "source": [
    "clf_name = 'Logistic Regression Classifier'\n",
    "clf = LogisticRegression_classifier\n",
    "\n",
    "#Train the classifier on the training data\n",
    "clf_fit = clf.fit(X_train,y_train)\n",
    "\n",
    "#Obtain a prediction on the test set\n",
    "y_pred = clf_fit.predict(X_test)\n",
    "\n",
    "#Calculate the accuracy of the prediction on current fold\n",
    "print(accuracy_score(y_true=y_test, y_pred=y_pred))\n",
    "print(classification_report(y_test, y_pred))\n",
    "\n",
    "#Confusion Matrix\n",
    "conf_matrix = confusion_matrix(y_true=y_test, y_pred=y_pred)\n",
    "draw_ConfusionMatrix(conf_matrix, clf_name)\n"
   ]
  },
  {
   "cell_type": "code",
   "execution_count": 382,
   "metadata": {},
   "outputs": [],
   "source": [
    "y_pred_df = pd.DataFrame(y_pred).rename(columns = {0:'y_pred'})\n",
    "y_test_df = pd.DataFrame(y_test).rename(columns = {'loan_status_binary': 'y_test'})"
   ]
  },
  {
   "cell_type": "code",
   "execution_count": 383,
   "metadata": {},
   "outputs": [],
   "source": [
    "a = pd.merge(X_test, total_payments_df, left_index = True, right_index = True)\n",
    "b= pd.merge(a,pd.concat([y_test_df.reset_index(),y_pred_df],1), how = 'left', left_index = True, right_on = 'index')"
   ]
  },
  {
   "cell_type": "code",
   "execution_count": 384,
   "metadata": {},
   "outputs": [],
   "source": [
    "o = b.loc[(b.y_test == 0)&(b.y_pred == 0),'profit'].sum()\n",
    "p = b.loc[(b.y_test == 1)&(b.y_pred == 0),'profit'].sum()"
   ]
  },
  {
   "cell_type": "code",
   "execution_count": 385,
   "metadata": {},
   "outputs": [
    {
     "data": {
      "text/plain": [
       "0.0"
      ]
     },
     "execution_count": 385,
     "metadata": {},
     "output_type": "execute_result"
    }
   ],
   "source": [
    "o-p"
   ]
  },
  {
   "cell_type": "code",
   "execution_count": 386,
   "metadata": {},
   "outputs": [],
   "source": [
    "e = b.loc[(b.y_test == 0)&(b.y_pred == 0),'loan_amnt'].sum()\n",
    "n = b.loc[(b.y_test == 1)&(b.y_pred == 0),'loan_amnt'].sum()"
   ]
  },
  {
   "cell_type": "code",
   "execution_count": 387,
   "metadata": {},
   "outputs": [
    {
     "data": {
      "text/plain": [
       "0.0"
      ]
     },
     "execution_count": 387,
     "metadata": {},
     "output_type": "execute_result"
    }
   ],
   "source": [
    "e+n"
   ]
  },
  {
   "cell_type": "code",
   "execution_count": 388,
   "metadata": {},
   "outputs": [
    {
     "name": "stderr",
     "output_type": "stream",
     "text": [
      "C:\\Users\\mjdch\\Anaconda3\\lib\\site-packages\\ipykernel_launcher.py:1: RuntimeWarning: invalid value encountered in double_scalars\n",
      "  \"\"\"Entry point for launching an IPython kernel.\n"
     ]
    },
    {
     "data": {
      "text/plain": [
       "nan"
      ]
     },
     "execution_count": 388,
     "metadata": {},
     "output_type": "execute_result"
    }
   ],
   "source": [
    "(o+p)/(e+n)"
   ]
  },
  {
   "cell_type": "markdown",
   "metadata": {},
   "source": [
    "### Class Weights = Class 0: 0.01 , Class 1: 0.99"
   ]
  },
  {
   "cell_type": "code",
   "execution_count": 389,
   "metadata": {},
   "outputs": [],
   "source": [
    "LogisticRegression_classifier = Pipeline(memory=None,\n",
    "         steps=[('scaler',\n",
    "                 StandardScaler(copy=True, with_mean=True, with_std=True)),\n",
    "                ('classifier',\n",
    "                 LR(C=1000, class_weight={0: 0.01, 1: 0.99},\n",
    "                                    dual=False, fit_intercept=True,\n",
    "                                    intercept_scaling=1, l1_ratio=None,\n",
    "                                    max_iter=100, multi_class='warn',\n",
    "                                    n_jobs=None, penalty='l2', random_state=5,\n",
    "                                    solver='warn', tol=0.0001, verbose=0,\n",
    "                                    warm_start=False))],\n",
    "         verbose=False)"
   ]
  },
  {
   "cell_type": "code",
   "execution_count": 390,
   "metadata": {
    "scrolled": true
   },
   "outputs": [
    {
     "name": "stderr",
     "output_type": "stream",
     "text": [
      "C:\\Users\\mjdch\\Anaconda3\\lib\\site-packages\\sklearn\\linear_model\\logistic.py:432: FutureWarning: Default solver will be changed to 'lbfgs' in 0.22. Specify a solver to silence this warning.\n",
      "  FutureWarning)\n"
     ]
    },
    {
     "name": "stdout",
     "output_type": "stream",
     "text": [
      "0.19920777390401306\n",
      "              precision    recall  f1-score   support\n",
      "\n",
      "           0       0.97      0.00      0.00    269958\n",
      "           1       0.20      1.00      0.33     67067\n",
      "\n",
      "    accuracy                           0.20    337025\n",
      "   macro avg       0.59      0.50      0.17    337025\n",
      "weighted avg       0.82      0.20      0.07    337025\n",
      "\n"
     ]
    },
    {
     "data": {
      "image/png": "[encoded data removed]",
      "text/plain": [
       "<Figure size 324x324 with 1 Axes>"
      ]
     },
     "metadata": {
      "needs_background": "light"
     },
     "output_type": "display_data"
    }
   ],
   "source": [
    "clf_name = 'Logistic Regression Classifier'\n",
    "clf = LogisticRegression_classifier\n",
    "\n",
    "#Train the classifier on the training data\n",
    "clf_fit = clf.fit(X_train,y_train)\n",
    "\n",
    "#Obtain a prediction on the test set\n",
    "y_pred = clf_fit.predict(X_test)\n",
    "\n",
    "#Calculate the accuracy of the prediction on current fold\n",
    "print(accuracy_score(y_true=y_test, y_pred=y_pred))\n",
    "print(classification_report(y_test, y_pred))\n",
    "\n",
    "#Confusion Matrix\n",
    "conf_matrix = confusion_matrix(y_true=y_test, y_pred=y_pred)\n",
    "draw_ConfusionMatrix(conf_matrix, clf_name)\n"
   ]
  },
  {
   "cell_type": "code",
   "execution_count": 391,
   "metadata": {},
   "outputs": [],
   "source": [
    "y_pred_df = pd.DataFrame(y_pred).rename(columns = {0:'y_pred'})\n",
    "y_test_df = pd.DataFrame(y_test).rename(columns = {'loan_status_binary': 'y_test'})"
   ]
  },
  {
   "cell_type": "code",
   "execution_count": 392,
   "metadata": {},
   "outputs": [],
   "source": [
    "a = pd.merge(X_test, total_payments_df, left_index = True, right_index = True)\n",
    "b= pd.merge(a,pd.concat([y_test_df.reset_index(),y_pred_df],1), how = 'left', left_index = True, right_on = 'index')"
   ]
  },
  {
   "cell_type": "code",
   "execution_count": 393,
   "metadata": {},
   "outputs": [],
   "source": [
    "o = b.loc[(b.y_test == 0)&(b.y_pred == 0),'profit'].sum()\n",
    "p = b.loc[(b.y_test == 1)&(b.y_pred == 0),'profit'].sum()"
   ]
  },
  {
   "cell_type": "code",
   "execution_count": 394,
   "metadata": {},
   "outputs": [
    {
     "data": {
      "text/plain": [
       "139597.1083223562"
      ]
     },
     "execution_count": 394,
     "metadata": {},
     "output_type": "execute_result"
    }
   ],
   "source": [
    "o-p"
   ]
  },
  {
   "cell_type": "code",
   "execution_count": 395,
   "metadata": {},
   "outputs": [],
   "source": [
    "e = b.loc[(b.y_test == 0)&(b.y_pred == 0),'loan_amnt'].sum()\n",
    "n = b.loc[(b.y_test == 1)&(b.y_pred == 0),'loan_amnt'].sum()"
   ]
  },
  {
   "cell_type": "code",
   "execution_count": 396,
   "metadata": {},
   "outputs": [
    {
     "data": {
      "text/plain": [
       "1590250.0"
      ]
     },
     "execution_count": 396,
     "metadata": {},
     "output_type": "execute_result"
    }
   ],
   "source": [
    "e+n"
   ]
  },
  {
   "cell_type": "code",
   "execution_count": 397,
   "metadata": {},
   "outputs": [
    {
     "data": {
      "text/plain": [
       "0.03963691766851513"
      ]
     },
     "execution_count": 397,
     "metadata": {},
     "output_type": "execute_result"
    }
   ],
   "source": [
    "(o+p)/(e+n)"
   ]
  },
  {
   "cell_type": "markdown",
   "metadata": {},
   "source": [
    "### Class Weights = Class 0: 0.05, Class 1: 0.95"
   ]
  },
  {
   "cell_type": "code",
   "execution_count": 398,
   "metadata": {},
   "outputs": [],
   "source": [
    "LogisticRegression_classifier = Pipeline(memory=None,\n",
    "         steps=[('scaler',\n",
    "                 StandardScaler(copy=True, with_mean=True, with_std=True)),\n",
    "                ('classifier',\n",
    "                 LR(C=1000, class_weight={0: 0.05, 1: 0.95},\n",
    "                                    dual=False, fit_intercept=True,\n",
    "                                    intercept_scaling=1, l1_ratio=None,\n",
    "                                    max_iter=100, multi_class='warn',\n",
    "                                    n_jobs=None, penalty='l2', random_state=5,\n",
    "                                    solver='warn', tol=0.0001, verbose=0,\n",
    "                                    warm_start=False))],\n",
    "         verbose=False)"
   ]
  },
  {
   "cell_type": "code",
   "execution_count": 399,
   "metadata": {},
   "outputs": [
    {
     "name": "stderr",
     "output_type": "stream",
     "text": [
      "C:\\Users\\mjdch\\Anaconda3\\lib\\site-packages\\sklearn\\linear_model\\logistic.py:432: FutureWarning: Default solver will be changed to 'lbfgs' in 0.22. Specify a solver to silence this warning.\n",
      "  FutureWarning)\n"
     ]
    },
    {
     "name": "stdout",
     "output_type": "stream",
     "text": [
      "0.26991172761664567\n",
      "              precision    recall  f1-score   support\n",
      "\n",
      "           0       0.96      0.09      0.17    269958\n",
      "           1       0.21      0.99      0.35     67067\n",
      "\n",
      "    accuracy                           0.27    337025\n",
      "   macro avg       0.59      0.54      0.26    337025\n",
      "weighted avg       0.81      0.27      0.20    337025\n",
      "\n"
     ]
    },
    {
     "data": {
      "image/png": "[encoded data removed]",
      "text/plain": [
       "<Figure size 324x324 with 1 Axes>"
      ]
     },
     "metadata": {
      "needs_background": "light"
     },
     "output_type": "display_data"
    }
   ],
   "source": [
    "clf_name = 'Logistic Regression Classifier'\n",
    "clf = LogisticRegression_classifier\n",
    "\n",
    "#Train the classifier on the training data\n",
    "clf_fit = clf.fit(X_train,y_train)\n",
    "\n",
    "#Obtain a prediction on the test set\n",
    "y_pred = clf_fit.predict(X_test)\n",
    "\n",
    "#Calculate the accuracy of the prediction on current fold\n",
    "print(accuracy_score(y_true=y_test, y_pred=y_pred))\n",
    "print(classification_report(y_test, y_pred))\n",
    "\n",
    "#Confusion Matrix\n",
    "conf_matrix = confusion_matrix(y_true=y_test, y_pred=y_pred)\n",
    "draw_ConfusionMatrix(conf_matrix, clf_name)\n"
   ]
  },
  {
   "cell_type": "code",
   "execution_count": 400,
   "metadata": {},
   "outputs": [],
   "source": [
    "y_pred_df = pd.DataFrame(y_pred).rename(columns = {0:'y_pred'})\n",
    "y_test_df = pd.DataFrame(y_test).rename(columns = {'loan_status_binary': 'y_test'})"
   ]
  },
  {
   "cell_type": "code",
   "execution_count": 401,
   "metadata": {},
   "outputs": [],
   "source": [
    "a = pd.merge(X_test, total_payments_df, left_index = True, right_index = True)\n",
    "b= pd.merge(a,pd.concat([y_test_df.reset_index(),y_pred_df],1), how = 'left', left_index = True, right_on = 'index')"
   ]
  },
  {
   "cell_type": "code",
   "execution_count": 402,
   "metadata": {},
   "outputs": [],
   "source": [
    "o = b.loc[(b.y_test == 0)&(b.y_pred == 0),'profit'].sum()\n",
    "p = b.loc[(b.y_test == 1)&(b.y_pred == 0),'profit'].sum()"
   ]
  },
  {
   "cell_type": "code",
   "execution_count": 403,
   "metadata": {},
   "outputs": [
    {
     "data": {
      "text/plain": [
       "32453164.508813992"
      ]
     },
     "execution_count": 403,
     "metadata": {},
     "output_type": "execute_result"
    }
   ],
   "source": [
    "o-p"
   ]
  },
  {
   "cell_type": "code",
   "execution_count": 404,
   "metadata": {},
   "outputs": [],
   "source": [
    "e = b.loc[(b.y_test == 0)&(b.y_pred == 0),'loan_amnt'].sum()\n",
    "n = b.loc[(b.y_test == 1)&(b.y_pred == 0),'loan_amnt'].sum()"
   ]
  },
  {
   "cell_type": "code",
   "execution_count": 405,
   "metadata": {},
   "outputs": [
    {
     "data": {
      "text/plain": [
       "355408025.0"
      ]
     },
     "execution_count": 405,
     "metadata": {},
     "output_type": "execute_result"
    }
   ],
   "source": [
    "e+n"
   ]
  },
  {
   "cell_type": "code",
   "execution_count": 406,
   "metadata": {},
   "outputs": [
    {
     "data": {
      "text/plain": [
       "0.057060315494251064"
      ]
     },
     "execution_count": 406,
     "metadata": {},
     "output_type": "execute_result"
    }
   ],
   "source": [
    "(o+p)/(e+n)"
   ]
  },
  {
   "cell_type": "markdown",
   "metadata": {},
   "source": [
    "### Class Weights = Class 0: 0.1, Class 1: 0.9"
   ]
  },
  {
   "cell_type": "code",
   "execution_count": 407,
   "metadata": {},
   "outputs": [],
   "source": [
    "LogisticRegression_classifier = Pipeline(memory=None,\n",
    "         steps=[('scaler',\n",
    "                 StandardScaler(copy=True, with_mean=True, with_std=True)),\n",
    "                ('classifier',\n",
    "                 LR(C=1000, class_weight={0: 0.1, 1: 0.9},\n",
    "                                    dual=False, fit_intercept=True,\n",
    "                                    intercept_scaling=1, l1_ratio=None,\n",
    "                                    max_iter=100, multi_class='warn',\n",
    "                                    n_jobs=None, penalty='l2', random_state=5,\n",
    "                                    solver='warn', tol=0.0001, verbose=0,\n",
    "                                    warm_start=False))],\n",
    "         verbose=False)"
   ]
  },
  {
   "cell_type": "code",
   "execution_count": 408,
   "metadata": {},
   "outputs": [
    {
     "name": "stderr",
     "output_type": "stream",
     "text": [
      "C:\\Users\\mjdch\\Anaconda3\\lib\\site-packages\\sklearn\\linear_model\\logistic.py:432: FutureWarning: Default solver will be changed to 'lbfgs' in 0.22. Specify a solver to silence this warning.\n",
      "  FutureWarning)\n"
     ]
    },
    {
     "name": "stdout",
     "output_type": "stream",
     "text": [
      "0.4085601958311698\n",
      "              precision    recall  f1-score   support\n",
      "\n",
      "           0       0.94      0.28      0.43    269958\n",
      "           1       0.24      0.92      0.38     67067\n",
      "\n",
      "    accuracy                           0.41    337025\n",
      "   macro avg       0.59      0.60      0.41    337025\n",
      "weighted avg       0.80      0.41      0.42    337025\n",
      "\n"
     ]
    },
    {
     "data": {
      "image/png": "[encoded data removed]",
      "text/plain": [
       "<Figure size 324x324 with 1 Axes>"
      ]
     },
     "metadata": {
      "needs_background": "light"
     },
     "output_type": "display_data"
    }
   ],
   "source": [
    "clf_name = 'Logistic Regression Classifier'\n",
    "clf = LogisticRegression_classifier\n",
    "\n",
    "#Train the classifier on the training data\n",
    "clf_fit = clf.fit(X_train,y_train)\n",
    "\n",
    "#Obtain a prediction on the test set\n",
    "y_pred = clf_fit.predict(X_test)\n",
    "\n",
    "#Calculate the accuracy of the prediction on current fold\n",
    "print(accuracy_score(y_true=y_test, y_pred=y_pred))\n",
    "print(classification_report(y_test, y_pred))\n",
    "\n",
    "#Confusion Matrix\n",
    "conf_matrix = confusion_matrix(y_true=y_test, y_pred=y_pred)\n",
    "draw_ConfusionMatrix(conf_matrix, clf_name)\n"
   ]
  },
  {
   "cell_type": "code",
   "execution_count": 409,
   "metadata": {},
   "outputs": [],
   "source": [
    "y_pred_df = pd.DataFrame(y_pred).rename(columns = {0:'y_pred'})\n",
    "y_test_df = pd.DataFrame(y_test).rename(columns = {'loan_status_binary': 'y_test'})"
   ]
  },
  {
   "cell_type": "code",
   "execution_count": 410,
   "metadata": {},
   "outputs": [],
   "source": [
    "a = pd.merge(X_test, total_payments_df, left_index = True, right_index = True)\n",
    "b= pd.merge(a,pd.concat([y_test_df.reset_index(),y_pred_df],1), how = 'left', left_index = True, right_on = 'index')"
   ]
  },
  {
   "cell_type": "code",
   "execution_count": 411,
   "metadata": {},
   "outputs": [],
   "source": [
    "o = b.loc[(b.y_test == 0)&(b.y_pred == 0),'profit'].sum()\n",
    "p = b.loc[(b.y_test == 1)&(b.y_pred == 0),'profit'].sum()"
   ]
  },
  {
   "cell_type": "code",
   "execution_count": 412,
   "metadata": {},
   "outputs": [
    {
     "data": {
      "text/plain": [
       "128560444.34151506"
      ]
     },
     "execution_count": 412,
     "metadata": {},
     "output_type": "execute_result"
    }
   ],
   "source": [
    "o-p"
   ]
  },
  {
   "cell_type": "code",
   "execution_count": 413,
   "metadata": {},
   "outputs": [],
   "source": [
    "e = b.loc[(b.y_test == 0)&(b.y_pred == 0),'loan_amnt'].sum()\n",
    "n = b.loc[(b.y_test == 1)&(b.y_pred == 0),'loan_amnt'].sum()"
   ]
  },
  {
   "cell_type": "code",
   "execution_count": 414,
   "metadata": {},
   "outputs": [
    {
     "data": {
      "text/plain": [
       "1087965050.0"
      ]
     },
     "execution_count": 414,
     "metadata": {},
     "output_type": "execute_result"
    }
   ],
   "source": [
    "e+n"
   ]
  },
  {
   "cell_type": "code",
   "execution_count": 415,
   "metadata": {},
   "outputs": [
    {
     "data": {
      "text/plain": [
       "0.062438942784312626"
      ]
     },
     "execution_count": 415,
     "metadata": {},
     "output_type": "execute_result"
    }
   ],
   "source": [
    "(o+p)/(e+n)"
   ]
  },
  {
   "cell_type": "markdown",
   "metadata": {},
   "source": [
    "### Class Weights = Class 0: 0.15, Class 1: 0.85"
   ]
  },
  {
   "cell_type": "code",
   "execution_count": 416,
   "metadata": {},
   "outputs": [],
   "source": [
    "LogisticRegression_classifier = Pipeline(memory=None,\n",
    "         steps=[('scaler',\n",
    "                 StandardScaler(copy=True, with_mean=True, with_std=True)),\n",
    "                ('classifier',\n",
    "                 LR(C=1000, class_weight={0: 0.15, 1: 0.85},\n",
    "                                    dual=False, fit_intercept=True,\n",
    "                                    intercept_scaling=1, l1_ratio=None,\n",
    "                                    max_iter=100, multi_class='warn',\n",
    "                                    n_jobs=None, penalty='l2', random_state=5,\n",
    "                                    solver='warn', tol=0.0001, verbose=0,\n",
    "                                    warm_start=False))],\n",
    "         verbose=False)"
   ]
  },
  {
   "cell_type": "code",
   "execution_count": 417,
   "metadata": {},
   "outputs": [
    {
     "name": "stderr",
     "output_type": "stream",
     "text": [
      "C:\\Users\\mjdch\\Anaconda3\\lib\\site-packages\\sklearn\\linear_model\\logistic.py:432: FutureWarning: Default solver will be changed to 'lbfgs' in 0.22. Specify a solver to silence this warning.\n",
      "  FutureWarning)\n"
     ]
    },
    {
     "name": "stdout",
     "output_type": "stream",
     "text": [
      "0.5401824790445813\n",
      "              precision    recall  f1-score   support\n",
      "\n",
      "           0       0.91      0.47      0.62    269958\n",
      "           1       0.28      0.81      0.41     67067\n",
      "\n",
      "    accuracy                           0.54    337025\n",
      "   macro avg       0.59      0.64      0.52    337025\n",
      "weighted avg       0.78      0.54      0.58    337025\n",
      "\n"
     ]
    },
    {
     "data": {
      "image/png": "[encoded data removed]",
      "text/plain": [
       "<Figure size 324x324 with 1 Axes>"
      ]
     },
     "metadata": {
      "needs_background": "light"
     },
     "output_type": "display_data"
    }
   ],
   "source": [
    "clf_name = 'Logistic Regression Classifier'\n",
    "clf = LogisticRegression_classifier\n",
    "\n",
    "#Train the classifier on the training data\n",
    "clf_fit = clf.fit(X_train,y_train)\n",
    "\n",
    "#Obtain a prediction on the test set\n",
    "y_pred = clf_fit.predict(X_test)\n",
    "\n",
    "#Calculate the accuracy of the prediction on current fold\n",
    "print(accuracy_score(y_true=y_test, y_pred=y_pred))\n",
    "print(classification_report(y_test, y_pred))\n",
    "\n",
    "#Confusion Matrix\n",
    "conf_matrix = confusion_matrix(y_true=y_test, y_pred=y_pred)\n",
    "draw_ConfusionMatrix(conf_matrix, clf_name)\n"
   ]
  },
  {
   "cell_type": "code",
   "execution_count": 418,
   "metadata": {},
   "outputs": [],
   "source": [
    "y_pred_df = pd.DataFrame(y_pred).rename(columns = {0:'y_pred'})\n",
    "y_test_df = pd.DataFrame(y_test).rename(columns = {'loan_status_binary': 'y_test'})"
   ]
  },
  {
   "cell_type": "code",
   "execution_count": 419,
   "metadata": {},
   "outputs": [],
   "source": [
    "a = pd.merge(X_test, total_payments_df, left_index = True, right_index = True)\n",
    "b= pd.merge(a,pd.concat([y_test_df.reset_index(),y_pred_df],1), how = 'left', left_index = True, right_on = 'index')"
   ]
  },
  {
   "cell_type": "code",
   "execution_count": 420,
   "metadata": {},
   "outputs": [],
   "source": [
    "o = b.loc[(b.y_test == 0)&(b.y_pred == 0),'profit'].sum()\n",
    "p = b.loc[(b.y_test == 1)&(b.y_pred == 0),'profit'].sum()"
   ]
  },
  {
   "cell_type": "code",
   "execution_count": 421,
   "metadata": {},
   "outputs": [
    {
     "data": {
      "text/plain": [
       "262629485.35579693"
      ]
     },
     "execution_count": 421,
     "metadata": {},
     "output_type": "execute_result"
    }
   ],
   "source": [
    "o-p"
   ]
  },
  {
   "cell_type": "code",
   "execution_count": 422,
   "metadata": {},
   "outputs": [],
   "source": [
    "e = b.loc[(b.y_test == 0)&(b.y_pred == 0),'loan_amnt'].sum()\n",
    "n = b.loc[(b.y_test == 1)&(b.y_pred == 0),'loan_amnt'].sum()"
   ]
  },
  {
   "cell_type": "code",
   "execution_count": 423,
   "metadata": {},
   "outputs": [
    {
     "data": {
      "text/plain": [
       "1852106250.0"
      ]
     },
     "execution_count": 423,
     "metadata": {},
     "output_type": "execute_result"
    }
   ],
   "source": [
    "e+n"
   ]
  },
  {
   "cell_type": "code",
   "execution_count": 424,
   "metadata": {},
   "outputs": [
    {
     "data": {
      "text/plain": [
       "0.06199533125863957"
      ]
     },
     "execution_count": 424,
     "metadata": {},
     "output_type": "execute_result"
    }
   ],
   "source": [
    "(o+p)/(e+n)"
   ]
  },
  {
   "cell_type": "markdown",
   "metadata": {},
   "source": [
    "### Class Weights = Class 0: 0.2, Class 1: 0.8"
   ]
  },
  {
   "cell_type": "code",
   "execution_count": 425,
   "metadata": {},
   "outputs": [
    {
     "name": "stderr",
     "output_type": "stream",
     "text": [
      "C:\\Users\\mjdch\\Anaconda3\\lib\\site-packages\\sklearn\\linear_model\\logistic.py:432: FutureWarning: Default solver will be changed to 'lbfgs' in 0.22. Specify a solver to silence this warning.\n",
      "  FutureWarning)\n"
     ]
    },
    {
     "name": "stdout",
     "output_type": "stream",
     "text": [
      "0.6423826125658334\n",
      "              precision    recall  f1-score   support\n",
      "\n",
      "           0       0.89      0.63      0.74    269958\n",
      "           1       0.31      0.67      0.43     67067\n",
      "\n",
      "    accuracy                           0.64    337025\n",
      "   macro avg       0.60      0.65      0.58    337025\n",
      "weighted avg       0.77      0.64      0.68    337025\n",
      "\n"
     ]
    },
    {
     "data": {
      "image/png": "[encoded data removed]",
      "text/plain": [
       "<Figure size 324x324 with 1 Axes>"
      ]
     },
     "metadata": {
      "needs_background": "light"
     },
     "output_type": "display_data"
    }
   ],
   "source": [
    "LogisticRegression_classifier = Pipeline(memory=None,\n",
    "         steps=[('scaler',\n",
    "                 StandardScaler(copy=True, with_mean=True, with_std=True)),\n",
    "                ('classifier',\n",
    "                 LR(C=1000, class_weight={0: 0.2, 1: 0.8},\n",
    "                                    dual=False, fit_intercept=True,\n",
    "                                    intercept_scaling=1, l1_ratio=None,\n",
    "                                    max_iter=100, multi_class='warn',\n",
    "                                    n_jobs=None, penalty='l2', random_state=5,\n",
    "                                    solver='warn', tol=0.0001, verbose=0,\n",
    "                                    warm_start=False))],\n",
    "         verbose=False)\n",
    "\n",
    "clf_name = 'Logistic Regression Classifier'\n",
    "clf = LogisticRegression_classifier\n",
    "\n",
    "#Train the classifier on the training data\n",
    "clf_fit = clf.fit(X_train,y_train)\n",
    "\n",
    "#Obtain a prediction on the test set\n",
    "y_pred = clf_fit.predict(X_test)\n",
    "\n",
    "#Calculate the accuracy of the prediction on current fold\n",
    "print(accuracy_score(y_true=y_test, y_pred=y_pred))\n",
    "print(classification_report(y_test, y_pred))\n",
    "\n",
    "#Confusion Matrix\n",
    "conf_matrix = confusion_matrix(y_true=y_test, y_pred=y_pred)\n",
    "draw_ConfusionMatrix(conf_matrix, clf_name)\n"
   ]
  },
  {
   "cell_type": "code",
   "execution_count": 426,
   "metadata": {},
   "outputs": [],
   "source": [
    "y_pred_df = pd.DataFrame(y_pred).rename(columns = {0:'y_pred'})\n",
    "y_test_df = pd.DataFrame(y_test).rename(columns = {'loan_status_binary': 'y_test'})"
   ]
  },
  {
   "cell_type": "code",
   "execution_count": 427,
   "metadata": {},
   "outputs": [],
   "source": [
    "a = pd.merge(X_test, total_payments_df, left_index = True, right_index = True)\n",
    "b= pd.merge(a,pd.concat([y_test_df.reset_index(),y_pred_df],1), how = 'left', left_index = True, right_on = 'index')"
   ]
  },
  {
   "cell_type": "code",
   "execution_count": 428,
   "metadata": {},
   "outputs": [],
   "source": [
    "o = b.loc[(b.y_test == 0)&(b.y_pred == 0),'profit'].sum()\n",
    "p = b.loc[(b.y_test == 1)&(b.y_pred == 0),'profit'].sum()"
   ]
  },
  {
   "cell_type": "code",
   "execution_count": 429,
   "metadata": {},
   "outputs": [
    {
     "data": {
      "text/plain": [
       "409709152.60298765"
      ]
     },
     "execution_count": 429,
     "metadata": {},
     "output_type": "execute_result"
    }
   ],
   "source": [
    "o-p"
   ]
  },
  {
   "cell_type": "code",
   "execution_count": 430,
   "metadata": {},
   "outputs": [],
   "source": [
    "e = b.loc[(b.y_test == 0)&(b.y_pred == 0),'loan_amnt'].sum()\n",
    "n = b.loc[(b.y_test == 1)&(b.y_pred == 0),'loan_amnt'].sum()"
   ]
  },
  {
   "cell_type": "code",
   "execution_count": 431,
   "metadata": {},
   "outputs": [
    {
     "data": {
      "text/plain": [
       "2541912725.0"
      ]
     },
     "execution_count": 431,
     "metadata": {},
     "output_type": "execute_result"
    }
   ],
   "source": [
    "e+n"
   ]
  },
  {
   "cell_type": "code",
   "execution_count": 432,
   "metadata": {},
   "outputs": [
    {
     "data": {
      "text/plain": [
       "0.05860606898526933"
      ]
     },
     "execution_count": 432,
     "metadata": {},
     "output_type": "execute_result"
    }
   ],
   "source": [
    "(o+p)/(e+n)"
   ]
  },
  {
   "cell_type": "markdown",
   "metadata": {},
   "source": [
    "### Class Weights = Class 0: 0.25, Class 1: 0.75"
   ]
  },
  {
   "cell_type": "code",
   "execution_count": 433,
   "metadata": {},
   "outputs": [],
   "source": [
    "LogisticRegression_classifier = Pipeline(memory=None,\n",
    "         steps=[('scaler',\n",
    "                 StandardScaler(copy=True, with_mean=True, with_std=True)),\n",
    "                ('classifier',\n",
    "                 LR(C=1000, class_weight={0: 0.25, 1: 0.75},\n",
    "                                    dual=False, fit_intercept=True,\n",
    "                                    intercept_scaling=1, l1_ratio=None,\n",
    "                                    max_iter=100, multi_class='warn',\n",
    "                                    n_jobs=None, penalty='l2', random_state=5,\n",
    "                                    solver='warn', tol=0.0001, verbose=0,\n",
    "                                    warm_start=False))],\n",
    "         verbose=False)"
   ]
  },
  {
   "cell_type": "code",
   "execution_count": 434,
   "metadata": {},
   "outputs": [
    {
     "name": "stderr",
     "output_type": "stream",
     "text": [
      "C:\\Users\\mjdch\\Anaconda3\\lib\\site-packages\\sklearn\\linear_model\\logistic.py:432: FutureWarning: Default solver will be changed to 'lbfgs' in 0.22. Specify a solver to silence this warning.\n",
      "  FutureWarning)\n"
     ]
    },
    {
     "name": "stdout",
     "output_type": "stream",
     "text": [
      "0.7150063051702396\n",
      "              precision    recall  f1-score   support\n",
      "\n",
      "           0       0.87      0.76      0.81    269958\n",
      "           1       0.35      0.53      0.42     67067\n",
      "\n",
      "    accuracy                           0.72    337025\n",
      "   macro avg       0.61      0.64      0.62    337025\n",
      "weighted avg       0.76      0.72      0.73    337025\n",
      "\n"
     ]
    },
    {
     "data": {
      "image/png": "[encoded data removed]",
      "text/plain": [
       "<Figure size 324x324 with 1 Axes>"
      ]
     },
     "metadata": {
      "needs_background": "light"
     },
     "output_type": "display_data"
    }
   ],
   "source": [
    "clf_name = 'Logistic Regression Classifier'\n",
    "clf = LogisticRegression_classifier\n",
    "\n",
    "#Train the classifier on the training data\n",
    "clf_fit = clf.fit(X_train,y_train)\n",
    "\n",
    "#Obtain a prediction on the test set\n",
    "y_pred = clf_fit.predict(X_test)\n",
    "\n",
    "#Calculate the accuracy of the prediction on current fold\n",
    "print(accuracy_score(y_true=y_test, y_pred=y_pred))\n",
    "print(classification_report(y_test, y_pred))\n",
    "\n",
    "#Confusion Matrix\n",
    "conf_matrix = confusion_matrix(y_true=y_test, y_pred=y_pred)\n",
    "draw_ConfusionMatrix(conf_matrix, clf_name)\n"
   ]
  },
  {
   "cell_type": "code",
   "execution_count": 435,
   "metadata": {},
   "outputs": [],
   "source": [
    "y_pred_df = pd.DataFrame(y_pred).rename(columns = {0:'y_pred'})\n",
    "y_test_df = pd.DataFrame(y_test).rename(columns = {'loan_status_binary': 'y_test'})"
   ]
  },
  {
   "cell_type": "code",
   "execution_count": 436,
   "metadata": {},
   "outputs": [],
   "source": [
    "a = pd.merge(X_test, total_payments_df, left_index = True, right_index = True)\n",
    "b= pd.merge(a,pd.concat([y_test_df.reset_index(),y_pred_df],1), how = 'left', left_index = True, right_on = 'index')"
   ]
  },
  {
   "cell_type": "code",
   "execution_count": 437,
   "metadata": {},
   "outputs": [],
   "source": [
    "o = b.loc[(b.y_test == 0)&(b.y_pred == 0),'profit'].sum()\n",
    "p = b.loc[(b.y_test == 1)&(b.y_pred == 0),'profit'].sum()"
   ]
  },
  {
   "cell_type": "code",
   "execution_count": 438,
   "metadata": {},
   "outputs": [
    {
     "data": {
      "text/plain": [
       "560870686.5639849"
      ]
     },
     "execution_count": 438,
     "metadata": {},
     "output_type": "execute_result"
    }
   ],
   "source": [
    "o-p"
   ]
  },
  {
   "cell_type": "code",
   "execution_count": 439,
   "metadata": {},
   "outputs": [],
   "source": [
    "e = b.loc[(b.y_test == 0)&(b.y_pred == 0),'loan_amnt'].sum()\n",
    "n = b.loc[(b.y_test == 1)&(b.y_pred == 0),'loan_amnt'].sum()"
   ]
  },
  {
   "cell_type": "code",
   "execution_count": 440,
   "metadata": {},
   "outputs": [
    {
     "data": {
      "text/plain": [
       "3156312700.0"
      ]
     },
     "execution_count": 440,
     "metadata": {},
     "output_type": "execute_result"
    }
   ],
   "source": [
    "e+n"
   ]
  },
  {
   "cell_type": "code",
   "execution_count": 441,
   "metadata": {},
   "outputs": [
    {
     "data": {
      "text/plain": [
       "0.05411150498728679"
      ]
     },
     "execution_count": 441,
     "metadata": {},
     "output_type": "execute_result"
    }
   ],
   "source": [
    "(o+p)/(e+n)"
   ]
  },
  {
   "cell_type": "markdown",
   "metadata": {},
   "source": [
    "### Class Weights = Class 0: 0.3, Class 1: 0.70"
   ]
  },
  {
   "cell_type": "code",
   "execution_count": 442,
   "metadata": {},
   "outputs": [],
   "source": [
    "LogisticRegression_classifier = Pipeline(memory=None,\n",
    "         steps=[('scaler',\n",
    "                 StandardScaler(copy=True, with_mean=True, with_std=True)),\n",
    "                ('classifier',\n",
    "                 LR(C=1000, class_weight={0: 0.3, 1: 0.70},\n",
    "                                    dual=False, fit_intercept=True,\n",
    "                                    intercept_scaling=1, l1_ratio=None,\n",
    "                                    max_iter=100, multi_class='warn',\n",
    "                                    n_jobs=None, penalty='l2', random_state=5,\n",
    "                                    solver='warn', tol=0.0001, verbose=0,\n",
    "                                    warm_start=False))],\n",
    "         verbose=False)"
   ]
  },
  {
   "cell_type": "code",
   "execution_count": 443,
   "metadata": {},
   "outputs": [
    {
     "name": "stderr",
     "output_type": "stream",
     "text": [
      "C:\\Users\\mjdch\\Anaconda3\\lib\\site-packages\\sklearn\\linear_model\\logistic.py:432: FutureWarning: Default solver will be changed to 'lbfgs' in 0.22. Specify a solver to silence this warning.\n",
      "  FutureWarning)\n"
     ]
    },
    {
     "name": "stdout",
     "output_type": "stream",
     "text": [
      "0.7598041688302055\n",
      "              precision    recall  f1-score   support\n",
      "\n",
      "           0       0.85      0.85      0.85    269958\n",
      "           1       0.40      0.39      0.39     67067\n",
      "\n",
      "    accuracy                           0.76    337025\n",
      "   macro avg       0.62      0.62      0.62    337025\n",
      "weighted avg       0.76      0.76      0.76    337025\n",
      "\n"
     ]
    },
    {
     "data": {
      "image/png": "[encoded data removed]",
      "text/plain": [
       "<Figure size 324x324 with 1 Axes>"
      ]
     },
     "metadata": {
      "needs_background": "light"
     },
     "output_type": "display_data"
    }
   ],
   "source": [
    "clf_name = 'Logistic Regression Classifier'\n",
    "clf = LogisticRegression_classifier\n",
    "\n",
    "#Train the classifier on the training data\n",
    "clf_fit = clf.fit(X_train,y_train)\n",
    "\n",
    "#Obtain a prediction on the test set\n",
    "y_pred = clf_fit.predict(X_test)\n",
    "\n",
    "#Calculate the accuracy of the prediction on current fold\n",
    "print(accuracy_score(y_true=y_test, y_pred=y_pred))\n",
    "print(classification_report(y_test, y_pred))\n",
    "\n",
    "#Confusion Matrix\n",
    "conf_matrix = confusion_matrix(y_true=y_test, y_pred=y_pred)\n",
    "draw_ConfusionMatrix(conf_matrix, clf_name)\n"
   ]
  },
  {
   "cell_type": "code",
   "execution_count": 444,
   "metadata": {},
   "outputs": [],
   "source": [
    "y_pred_df = pd.DataFrame(y_pred).rename(columns = {0:'y_pred'})\n",
    "y_test_df = pd.DataFrame(y_test).rename(columns = {'loan_status_binary': 'y_test'})"
   ]
  },
  {
   "cell_type": "code",
   "execution_count": 445,
   "metadata": {},
   "outputs": [],
   "source": [
    "a = pd.merge(X_test, total_payments_df, left_index = True, right_index = True)\n",
    "b= pd.merge(a,pd.concat([y_test_df.reset_index(),y_pred_df],1), how = 'left', left_index = True, right_on = 'index')"
   ]
  },
  {
   "cell_type": "code",
   "execution_count": 446,
   "metadata": {},
   "outputs": [],
   "source": [
    "o = b.loc[(b.y_test == 0)&(b.y_pred == 0),'profit'].sum()\n",
    "p = b.loc[(b.y_test == 1)&(b.y_pred == 0),'profit'].sum()"
   ]
  },
  {
   "cell_type": "code",
   "execution_count": 447,
   "metadata": {},
   "outputs": [
    {
     "data": {
      "text/plain": [
       "699888588.4851944"
      ]
     },
     "execution_count": 447,
     "metadata": {},
     "output_type": "execute_result"
    }
   ],
   "source": [
    "o-p"
   ]
  },
  {
   "cell_type": "code",
   "execution_count": 448,
   "metadata": {},
   "outputs": [],
   "source": [
    "e = b.loc[(b.y_test == 0)&(b.y_pred == 0),'loan_amnt'].sum()\n",
    "n = b.loc[(b.y_test == 1)&(b.y_pred == 0),'loan_amnt'].sum()"
   ]
  },
  {
   "cell_type": "code",
   "execution_count": 449,
   "metadata": {},
   "outputs": [
    {
     "data": {
      "text/plain": [
       "3653249575.0"
      ]
     },
     "execution_count": 449,
     "metadata": {},
     "output_type": "execute_result"
    }
   ],
   "source": [
    "e+n"
   ]
  },
  {
   "cell_type": "code",
   "execution_count": 450,
   "metadata": {},
   "outputs": [
    {
     "data": {
      "text/plain": [
       "0.04979952315126303"
      ]
     },
     "execution_count": 450,
     "metadata": {},
     "output_type": "execute_result"
    }
   ],
   "source": [
    "(o+p)/(e+n)"
   ]
  },
  {
   "cell_type": "code",
   "execution_count": null,
   "metadata": {},
   "outputs": [],
   "source": []
  },
  {
   "cell_type": "code",
   "execution_count": null,
   "metadata": {},
   "outputs": [],
   "source": []
  },
  {
   "cell_type": "markdown",
   "metadata": {},
   "source": [
    "### Class Weights = Class 0: 0.35, Class 1: 0.65"
   ]
  },
  {
   "cell_type": "code",
   "execution_count": 451,
   "metadata": {},
   "outputs": [],
   "source": [
    "LogisticRegression_classifier = Pipeline(memory=None,\n",
    "         steps=[('scaler',\n",
    "                 StandardScaler(copy=True, with_mean=True, with_std=True)),\n",
    "                ('classifier',\n",
    "                 LR(C=1000, class_weight={0: 0.35, 1: 0.65},\n",
    "                                    dual=False, fit_intercept=True,\n",
    "                                    intercept_scaling=1, l1_ratio=None,\n",
    "                                    max_iter=100, multi_class='warn',\n",
    "                                    n_jobs=None, penalty='l2', random_state=5,\n",
    "                                    solver='warn', tol=0.0001, verbose=0,\n",
    "                                    warm_start=False))],\n",
    "         verbose=False)"
   ]
  },
  {
   "cell_type": "code",
   "execution_count": 452,
   "metadata": {},
   "outputs": [
    {
     "name": "stderr",
     "output_type": "stream",
     "text": [
      "C:\\Users\\mjdch\\Anaconda3\\lib\\site-packages\\sklearn\\linear_model\\logistic.py:432: FutureWarning: Default solver will be changed to 'lbfgs' in 0.22. Specify a solver to silence this warning.\n",
      "  FutureWarning)\n"
     ]
    },
    {
     "name": "stdout",
     "output_type": "stream",
     "text": [
      "0.7851019954009346\n",
      "              precision    recall  f1-score   support\n",
      "\n",
      "           0       0.84      0.91      0.87    269958\n",
      "           1       0.44      0.28      0.34     67067\n",
      "\n",
      "    accuracy                           0.79    337025\n",
      "   macro avg       0.64      0.60      0.61    337025\n",
      "weighted avg       0.76      0.79      0.77    337025\n",
      "\n"
     ]
    },
    {
     "data": {
      "image/png": "[encoded data removed]",
      "text/plain": [
       "<Figure size 324x324 with 1 Axes>"
      ]
     },
     "metadata": {
      "needs_background": "light"
     },
     "output_type": "display_data"
    }
   ],
   "source": [
    "clf_name = 'Logistic Regression Classifier'\n",
    "clf = LogisticRegression_classifier\n",
    "\n",
    "#Train the classifier on the training data\n",
    "clf_fit = clf.fit(X_train,y_train)\n",
    "\n",
    "#Obtain a prediction on the test set\n",
    "y_pred = clf_fit.predict(X_test)\n",
    "\n",
    "#Calculate the accuracy of the prediction on current fold\n",
    "print(accuracy_score(y_true=y_test, y_pred=y_pred))\n",
    "print(classification_report(y_test, y_pred))\n",
    "\n",
    "#Confusion Matrix\n",
    "conf_matrix = confusion_matrix(y_true=y_test, y_pred=y_pred)\n",
    "draw_ConfusionMatrix(conf_matrix, clf_name)\n"
   ]
  },
  {
   "cell_type": "code",
   "execution_count": 453,
   "metadata": {},
   "outputs": [],
   "source": [
    "y_pred_df = pd.DataFrame(y_pred).rename(columns = {0:'y_pred'})\n",
    "y_test_df = pd.DataFrame(y_test).rename(columns = {'loan_status_binary': 'y_test'})"
   ]
  },
  {
   "cell_type": "code",
   "execution_count": 454,
   "metadata": {},
   "outputs": [],
   "source": [
    "a = pd.merge(X_test, total_payments_df, left_index = True, right_index = True)\n",
    "b= pd.merge(a,pd.concat([y_test_df.reset_index(),y_pred_df],1), how = 'left', left_index = True, right_on = 'index')"
   ]
  },
  {
   "cell_type": "code",
   "execution_count": 455,
   "metadata": {},
   "outputs": [],
   "source": [
    "o = b.loc[(b.y_test == 0)&(b.y_pred == 0),'profit'].sum()\n",
    "p = b.loc[(b.y_test == 1)&(b.y_pred == 0),'profit'].sum()"
   ]
  },
  {
   "cell_type": "code",
   "execution_count": 456,
   "metadata": {},
   "outputs": [
    {
     "data": {
      "text/plain": [
       "818041717.0519158"
      ]
     },
     "execution_count": 456,
     "metadata": {},
     "output_type": "execute_result"
    }
   ],
   "source": [
    "o-p"
   ]
  },
  {
   "cell_type": "code",
   "execution_count": 457,
   "metadata": {},
   "outputs": [],
   "source": [
    "e = b.loc[(b.y_test == 0)&(b.y_pred == 0),'loan_amnt'].sum()\n",
    "n = b.loc[(b.y_test == 1)&(b.y_pred == 0),'loan_amnt'].sum()"
   ]
  },
  {
   "cell_type": "code",
   "execution_count": 458,
   "metadata": {},
   "outputs": [
    {
     "data": {
      "text/plain": [
       "4037977250.0"
      ]
     },
     "execution_count": 458,
     "metadata": {},
     "output_type": "execute_result"
    }
   ],
   "source": [
    "e+n"
   ]
  },
  {
   "cell_type": "code",
   "execution_count": 459,
   "metadata": {},
   "outputs": [
    {
     "data": {
      "text/plain": [
       "0.04549669808928897"
      ]
     },
     "execution_count": 459,
     "metadata": {},
     "output_type": "execute_result"
    }
   ],
   "source": [
    "(o+p)/(e+n)"
   ]
  },
  {
   "cell_type": "code",
   "execution_count": null,
   "metadata": {},
   "outputs": [],
   "source": []
  },
  {
   "cell_type": "code",
   "execution_count": null,
   "metadata": {},
   "outputs": [],
   "source": []
  },
  {
   "cell_type": "markdown",
   "metadata": {},
   "source": [
    "### Class Weights = Class 0: 0.40, Class 1: 0.60"
   ]
  },
  {
   "cell_type": "code",
   "execution_count": 460,
   "metadata": {},
   "outputs": [],
   "source": [
    "LogisticRegression_classifier = Pipeline(memory=None,\n",
    "         steps=[('scaler',\n",
    "                 StandardScaler(copy=True, with_mean=True, with_std=True)),\n",
    "                ('classifier',\n",
    "                 LR(C=1000, class_weight={0: 0.40, 1: 0.60},\n",
    "                                    dual=False, fit_intercept=True,\n",
    "                                    intercept_scaling=1, l1_ratio=None,\n",
    "                                    max_iter=100, multi_class='warn',\n",
    "                                    n_jobs=None, penalty='l2', random_state=5,\n",
    "                                    solver='warn', tol=0.0001, verbose=0,\n",
    "                                    warm_start=False))],\n",
    "         verbose=False)"
   ]
  },
  {
   "cell_type": "code",
   "execution_count": 461,
   "metadata": {},
   "outputs": [
    {
     "name": "stderr",
     "output_type": "stream",
     "text": [
      "C:\\Users\\mjdch\\Anaconda3\\lib\\site-packages\\sklearn\\linear_model\\logistic.py:432: FutureWarning: Default solver will be changed to 'lbfgs' in 0.22. Specify a solver to silence this warning.\n",
      "  FutureWarning)\n"
     ]
    },
    {
     "name": "stdout",
     "output_type": "stream",
     "text": [
      "0.7967480157258363\n",
      "              precision    recall  f1-score   support\n",
      "\n",
      "           0       0.82      0.95      0.88    269958\n",
      "           1       0.47      0.19      0.27     67067\n",
      "\n",
      "    accuracy                           0.80    337025\n",
      "   macro avg       0.65      0.57      0.58    337025\n",
      "weighted avg       0.75      0.80      0.76    337025\n",
      "\n"
     ]
    },
    {
     "data": {
      "image/png": "[encoded data removed]",
      "text/plain": [
       "<Figure size 324x324 with 1 Axes>"
      ]
     },
     "metadata": {
      "needs_background": "light"
     },
     "output_type": "display_data"
    }
   ],
   "source": [
    "clf_name = 'Logistic Regression Classifier'\n",
    "clf = LogisticRegression_classifier\n",
    "\n",
    "#Train the classifier on the training data\n",
    "clf_fit = clf.fit(X_train,y_train)\n",
    "\n",
    "#Obtain a prediction on the test set\n",
    "y_pred = clf_fit.predict(X_test)\n",
    "\n",
    "#Calculate the accuracy of the prediction on current fold\n",
    "print(accuracy_score(y_true=y_test, y_pred=y_pred))\n",
    "print(classification_report(y_test, y_pred))\n",
    "\n",
    "#Confusion Matrix\n",
    "conf_matrix = confusion_matrix(y_true=y_test, y_pred=y_pred)\n",
    "draw_ConfusionMatrix(conf_matrix, clf_name)\n"
   ]
  },
  {
   "cell_type": "code",
   "execution_count": 462,
   "metadata": {},
   "outputs": [],
   "source": [
    "y_pred_df = pd.DataFrame(y_pred).rename(columns = {0:'y_pred'})\n",
    "y_test_df = pd.DataFrame(y_test).rename(columns = {'loan_status_binary': 'y_test'})"
   ]
  },
  {
   "cell_type": "code",
   "execution_count": 463,
   "metadata": {},
   "outputs": [],
   "source": [
    "a = pd.merge(X_test, total_payments_df, left_index = True, right_index = True)\n",
    "b= pd.merge(a,pd.concat([y_test_df.reset_index(),y_pred_df],1), how = 'left', left_index = True, right_on = 'index')"
   ]
  },
  {
   "cell_type": "code",
   "execution_count": 464,
   "metadata": {},
   "outputs": [],
   "source": [
    "o = b.loc[(b.y_test == 0)&(b.y_pred == 0),'profit'].sum()\n",
    "p = b.loc[(b.y_test == 1)&(b.y_pred == 0),'profit'].sum()"
   ]
  },
  {
   "cell_type": "code",
   "execution_count": 465,
   "metadata": {},
   "outputs": [
    {
     "data": {
      "text/plain": [
       "914742829.9028778"
      ]
     },
     "execution_count": 465,
     "metadata": {},
     "output_type": "execute_result"
    }
   ],
   "source": [
    "o-p"
   ]
  },
  {
   "cell_type": "code",
   "execution_count": 466,
   "metadata": {},
   "outputs": [],
   "source": [
    "e = b.loc[(b.y_test == 0)&(b.y_pred == 0),'loan_amnt'].sum()\n",
    "n = b.loc[(b.y_test == 1)&(b.y_pred == 0),'loan_amnt'].sum()"
   ]
  },
  {
   "cell_type": "code",
   "execution_count": 467,
   "metadata": {},
   "outputs": [
    {
     "data": {
      "text/plain": [
       "4326615225.0"
      ]
     },
     "execution_count": 467,
     "metadata": {},
     "output_type": "execute_result"
    }
   ],
   "source": [
    "e+n"
   ]
  },
  {
   "cell_type": "code",
   "execution_count": 468,
   "metadata": {},
   "outputs": [
    {
     "data": {
      "text/plain": [
       "0.04109336345767761"
      ]
     },
     "execution_count": 468,
     "metadata": {},
     "output_type": "execute_result"
    }
   ],
   "source": [
    "(o+p)/(e+n)"
   ]
  },
  {
   "cell_type": "code",
   "execution_count": null,
   "metadata": {},
   "outputs": [],
   "source": []
  },
  {
   "cell_type": "code",
   "execution_count": null,
   "metadata": {},
   "outputs": [],
   "source": []
  },
  {
   "cell_type": "markdown",
   "metadata": {},
   "source": [
    "### Class Weights = Class 0: 0.45, Class 1: 0.55"
   ]
  },
  {
   "cell_type": "code",
   "execution_count": 469,
   "metadata": {},
   "outputs": [],
   "source": [
    "LogisticRegression_classifier = Pipeline(memory=None,\n",
    "         steps=[('scaler',\n",
    "                 StandardScaler(copy=True, with_mean=True, with_std=True)),\n",
    "                ('classifier',\n",
    "                 LR(C=1000, class_weight={0: 0.45, 1: 0.55},\n",
    "                                    dual=False, fit_intercept=True,\n",
    "                                    intercept_scaling=1, l1_ratio=None,\n",
    "                                    max_iter=100, multi_class='warn',\n",
    "                                    n_jobs=None, penalty='l2', random_state=5,\n",
    "                                    solver='warn', tol=0.0001, verbose=0,\n",
    "                                    warm_start=False))],\n",
    "         verbose=False)"
   ]
  },
  {
   "cell_type": "code",
   "execution_count": 470,
   "metadata": {},
   "outputs": [
    {
     "name": "stderr",
     "output_type": "stream",
     "text": [
      "C:\\Users\\mjdch\\Anaconda3\\lib\\site-packages\\sklearn\\linear_model\\logistic.py:432: FutureWarning: Default solver will be changed to 'lbfgs' in 0.22. Specify a solver to silence this warning.\n",
      "  FutureWarning)\n"
     ]
    },
    {
     "name": "stdout",
     "output_type": "stream",
     "text": [
      "0.8022609598694459\n",
      "              precision    recall  f1-score   support\n",
      "\n",
      "           0       0.82      0.97      0.89    269958\n",
      "           1       0.51      0.12      0.19     67067\n",
      "\n",
      "    accuracy                           0.80    337025\n",
      "   macro avg       0.66      0.55      0.54    337025\n",
      "weighted avg       0.76      0.80      0.75    337025\n",
      "\n"
     ]
    },
    {
     "data": {
      "image/png": "[encoded data removed]",
      "text/plain": [
       "<Figure size 324x324 with 1 Axes>"
      ]
     },
     "metadata": {
      "needs_background": "light"
     },
     "output_type": "display_data"
    }
   ],
   "source": [
    "clf_name = 'Logistic Regression Classifier'\n",
    "clf = LogisticRegression_classifier\n",
    "\n",
    "#Train the classifier on the training data\n",
    "clf_fit = clf.fit(X_train,y_train)\n",
    "\n",
    "#Obtain a prediction on the test set\n",
    "y_pred = clf_fit.predict(X_test)\n",
    "\n",
    "#Calculate the accuracy of the prediction on current fold\n",
    "print(accuracy_score(y_true=y_test, y_pred=y_pred))\n",
    "print(classification_report(y_test, y_pred))\n",
    "\n",
    "#Confusion Matrix\n",
    "conf_matrix = confusion_matrix(y_true=y_test, y_pred=y_pred)\n",
    "draw_ConfusionMatrix(conf_matrix, clf_name)\n"
   ]
  },
  {
   "cell_type": "code",
   "execution_count": 471,
   "metadata": {},
   "outputs": [],
   "source": [
    "y_pred_df = pd.DataFrame(y_pred).rename(columns = {0:'y_pred'})\n",
    "y_test_df = pd.DataFrame(y_test).rename(columns = {'loan_status_binary': 'y_test'})"
   ]
  },
  {
   "cell_type": "code",
   "execution_count": 472,
   "metadata": {},
   "outputs": [],
   "source": [
    "a = pd.merge(X_test, total_payments_df, left_index = True, right_index = True)\n",
    "b= pd.merge(a,pd.concat([y_test_df.reset_index(),y_pred_df],1), how = 'left', left_index = True, right_on = 'index')"
   ]
  },
  {
   "cell_type": "code",
   "execution_count": 473,
   "metadata": {},
   "outputs": [],
   "source": [
    "o = b.loc[(b.y_test == 0)&(b.y_pred == 0),'profit'].sum()\n",
    "p = b.loc[(b.y_test == 1)&(b.y_pred == 0),'profit'].sum()"
   ]
  },
  {
   "cell_type": "code",
   "execution_count": 474,
   "metadata": {},
   "outputs": [
    {
     "data": {
      "text/plain": [
       "991343644.9326657"
      ]
     },
     "execution_count": 474,
     "metadata": {},
     "output_type": "execute_result"
    }
   ],
   "source": [
    "o-p"
   ]
  },
  {
   "cell_type": "code",
   "execution_count": 475,
   "metadata": {},
   "outputs": [],
   "source": [
    "e = b.loc[(b.y_test == 0)&(b.y_pred == 0),'loan_amnt'].sum()\n",
    "n = b.loc[(b.y_test == 1)&(b.y_pred == 0),'loan_amnt'].sum()"
   ]
  },
  {
   "cell_type": "code",
   "execution_count": 476,
   "metadata": {},
   "outputs": [
    {
     "data": {
      "text/plain": [
       "4540544575.0"
      ]
     },
     "execution_count": 476,
     "metadata": {},
     "output_type": "execute_result"
    }
   ],
   "source": [
    "e+n"
   ]
  },
  {
   "cell_type": "code",
   "execution_count": 477,
   "metadata": {},
   "outputs": [
    {
     "data": {
      "text/plain": [
       "0.03750768290825395"
      ]
     },
     "execution_count": 477,
     "metadata": {},
     "output_type": "execute_result"
    }
   ],
   "source": [
    "(o+p)/(e+n)"
   ]
  },
  {
   "cell_type": "code",
   "execution_count": null,
   "metadata": {},
   "outputs": [],
   "source": []
  },
  {
   "cell_type": "code",
   "execution_count": null,
   "metadata": {},
   "outputs": [],
   "source": []
  },
  {
   "cell_type": "markdown",
   "metadata": {},
   "source": [
    "### Class Weights = Class 0: 0.5, Class 1: 0.5"
   ]
  },
  {
   "cell_type": "code",
   "execution_count": 478,
   "metadata": {},
   "outputs": [],
   "source": [
    "LogisticRegression_classifier = Pipeline(memory=None,\n",
    "         steps=[('scaler',\n",
    "                 StandardScaler(copy=True, with_mean=True, with_std=True)),\n",
    "                ('classifier',\n",
    "                 LR(C=1000, class_weight={0: 0.5, 1: 0.5},\n",
    "                                    dual=False, fit_intercept=True,\n",
    "                                    intercept_scaling=1, l1_ratio=None,\n",
    "                                    max_iter=100, multi_class='warn',\n",
    "                                    n_jobs=None, penalty='l2', random_state=5,\n",
    "                                    solver='warn', tol=0.0001, verbose=0,\n",
    "                                    warm_start=False))],\n",
    "         verbose=False)"
   ]
  },
  {
   "cell_type": "code",
   "execution_count": 479,
   "metadata": {},
   "outputs": [
    {
     "name": "stderr",
     "output_type": "stream",
     "text": [
      "C:\\Users\\mjdch\\Anaconda3\\lib\\site-packages\\sklearn\\linear_model\\logistic.py:432: FutureWarning: Default solver will be changed to 'lbfgs' in 0.22. Specify a solver to silence this warning.\n",
      "  FutureWarning)\n"
     ]
    },
    {
     "name": "stdout",
     "output_type": "stream",
     "text": [
      "0.8034982568058749\n",
      "              precision    recall  f1-score   support\n",
      "\n",
      "           0       0.81      0.99      0.89    269958\n",
      "           1       0.55      0.07      0.12     67067\n",
      "\n",
      "    accuracy                           0.80    337025\n",
      "   macro avg       0.68      0.53      0.50    337025\n",
      "weighted avg       0.76      0.80      0.74    337025\n",
      "\n"
     ]
    },
    {
     "data": {
      "image/png": "[encoded data removed]",
      "text/plain": [
       "<Figure size 324x324 with 1 Axes>"
      ]
     },
     "metadata": {
      "needs_background": "light"
     },
     "output_type": "display_data"
    }
   ],
   "source": [
    "clf_name = 'Logistic Regression Classifier'\n",
    "clf = LogisticRegression_classifier\n",
    "\n",
    "#Train the classifier on the training data\n",
    "clf_fit = clf.fit(X_train,y_train)\n",
    "\n",
    "#Obtain a prediction on the test set\n",
    "y_pred = clf_fit.predict(X_test)\n",
    "\n",
    "#Calculate the accuracy of the prediction on current fold\n",
    "print(accuracy_score(y_true=y_test, y_pred=y_pred))\n",
    "print(classification_report(y_test, y_pred))\n",
    "\n",
    "#Confusion Matrix\n",
    "conf_matrix = confusion_matrix(y_true=y_test, y_pred=y_pred)\n",
    "draw_ConfusionMatrix(conf_matrix, clf_name)\n"
   ]
  },
  {
   "cell_type": "code",
   "execution_count": 480,
   "metadata": {},
   "outputs": [],
   "source": [
    "y_pred_df = pd.DataFrame(y_pred).rename(columns = {0:'y_pred'})\n",
    "y_test_df = pd.DataFrame(y_test).rename(columns = {'loan_status_binary': 'y_test'})"
   ]
  },
  {
   "cell_type": "code",
   "execution_count": 481,
   "metadata": {},
   "outputs": [],
   "source": [
    "a = pd.merge(X_test, total_payments_df, left_index = True, right_index = True)\n",
    "b= pd.merge(a,pd.concat([y_test_df.reset_index(),y_pred_df],1), how = 'left', left_index = True, right_on = 'index')"
   ]
  },
  {
   "cell_type": "code",
   "execution_count": 482,
   "metadata": {},
   "outputs": [],
   "source": [
    "o = b.loc[(b.y_test == 0)&(b.y_pred == 0),'profit'].sum()\n",
    "p = b.loc[(b.y_test == 1)&(b.y_pred == 0),'profit'].sum()"
   ]
  },
  {
   "cell_type": "code",
   "execution_count": 483,
   "metadata": {},
   "outputs": [
    {
     "data": {
      "text/plain": [
       "1047399172.6692905"
      ]
     },
     "execution_count": 483,
     "metadata": {},
     "output_type": "execute_result"
    }
   ],
   "source": [
    "o-p"
   ]
  },
  {
   "cell_type": "code",
   "execution_count": 484,
   "metadata": {},
   "outputs": [],
   "source": [
    "e = b.loc[(b.y_test == 0)&(b.y_pred == 0),'loan_amnt'].sum()\n",
    "n = b.loc[(b.y_test == 1)&(b.y_pred == 0),'loan_amnt'].sum()"
   ]
  },
  {
   "cell_type": "code",
   "execution_count": 485,
   "metadata": {},
   "outputs": [
    {
     "data": {
      "text/plain": [
       "4687936600.0"
      ]
     },
     "execution_count": 485,
     "metadata": {},
     "output_type": "execute_result"
    }
   ],
   "source": [
    "e+n"
   ]
  },
  {
   "cell_type": "code",
   "execution_count": 486,
   "metadata": {},
   "outputs": [
    {
     "data": {
      "text/plain": [
       "0.034189377348809655"
      ]
     },
     "execution_count": 486,
     "metadata": {},
     "output_type": "execute_result"
    }
   ],
   "source": [
    "(o+p)/(e+n)"
   ]
  },
  {
   "cell_type": "code",
   "execution_count": null,
   "metadata": {},
   "outputs": [],
   "source": []
  },
  {
   "cell_type": "markdown",
   "metadata": {},
   "source": [
    "### Class Weights = Class 0: 0.75, Class 1: 0.25"
   ]
  },
  {
   "cell_type": "code",
   "execution_count": 487,
   "metadata": {},
   "outputs": [],
   "source": [
    "LogisticRegression_classifier = Pipeline(memory=None,\n",
    "         steps=[('scaler',\n",
    "                 StandardScaler(copy=True, with_mean=True, with_std=True)),\n",
    "                ('classifier',\n",
    "                 LR(C=1000, class_weight={0: 0.75, 1: 0.25},\n",
    "                                    dual=False, fit_intercept=True,\n",
    "                                    intercept_scaling=1, l1_ratio=None,\n",
    "                                    max_iter=100, multi_class='warn',\n",
    "                                    n_jobs=None, penalty='l2', random_state=5,\n",
    "                                    solver='warn', tol=0.0001, verbose=0,\n",
    "                                    warm_start=False))],\n",
    "         verbose=False)"
   ]
  },
  {
   "cell_type": "code",
   "execution_count": 488,
   "metadata": {},
   "outputs": [
    {
     "name": "stderr",
     "output_type": "stream",
     "text": [
      "C:\\Users\\mjdch\\Anaconda3\\lib\\site-packages\\sklearn\\linear_model\\logistic.py:432: FutureWarning: Default solver will be changed to 'lbfgs' in 0.22. Specify a solver to silence this warning.\n",
      "  FutureWarning)\n"
     ]
    },
    {
     "name": "stdout",
     "output_type": "stream",
     "text": [
      "0.8010236629330169\n",
      "              precision    recall  f1-score   support\n",
      "\n",
      "           0       0.80      1.00      0.89    269958\n",
      "           1       0.58      0.00      0.00     67067\n",
      "\n",
      "    accuracy                           0.80    337025\n",
      "   macro avg       0.69      0.50      0.45    337025\n",
      "weighted avg       0.76      0.80      0.71    337025\n",
      "\n"
     ]
    },
    {
     "data": {
      "image/png": "[encoded data removed]",
      "text/plain": [
       "<Figure size 324x324 with 1 Axes>"
      ]
     },
     "metadata": {
      "needs_background": "light"
     },
     "output_type": "display_data"
    }
   ],
   "source": [
    "clf_name = 'Logistic Regression Classifier'\n",
    "clf = LogisticRegression_classifier\n",
    "\n",
    "#Train the classifier on the training data\n",
    "clf_fit = clf.fit(X_train,y_train)\n",
    "\n",
    "#Obtain a prediction on the test set\n",
    "y_pred = clf_fit.predict(X_test)\n",
    "\n",
    "#Calculate the accuracy of the prediction on current fold\n",
    "print(accuracy_score(y_true=y_test, y_pred=y_pred))\n",
    "print(classification_report(y_test, y_pred))\n",
    "\n",
    "#Confusion Matrix\n",
    "conf_matrix = confusion_matrix(y_true=y_test, y_pred=y_pred)\n",
    "draw_ConfusionMatrix(conf_matrix, clf_name)\n"
   ]
  },
  {
   "cell_type": "code",
   "execution_count": 489,
   "metadata": {},
   "outputs": [],
   "source": [
    "y_pred_df = pd.DataFrame(y_pred).rename(columns = {0:'y_pred'})\n",
    "y_test_df = pd.DataFrame(y_test).rename(columns = {'loan_status_binary': 'y_test'})"
   ]
  },
  {
   "cell_type": "code",
   "execution_count": 490,
   "metadata": {},
   "outputs": [],
   "source": [
    "a = pd.merge(X_test, total_payments_df, left_index = True, right_index = True)\n",
    "b= pd.merge(a,pd.concat([y_test_df.reset_index(),y_pred_df],1), how = 'left', left_index = True, right_on = 'index')"
   ]
  },
  {
   "cell_type": "code",
   "execution_count": 491,
   "metadata": {},
   "outputs": [],
   "source": [
    "o = b.loc[(b.y_test == 0)&(b.y_pred == 0),'profit'].sum()\n",
    "p = b.loc[(b.y_test == 1)&(b.y_pred == 0),'profit'].sum()"
   ]
  },
  {
   "cell_type": "code",
   "execution_count": 492,
   "metadata": {},
   "outputs": [
    {
     "data": {
      "text/plain": [
       "139017858.99862677"
      ]
     },
     "execution_count": 492,
     "metadata": {},
     "output_type": "execute_result"
    }
   ],
   "source": [
    "o+p"
   ]
  },
  {
   "cell_type": "code",
   "execution_count": 493,
   "metadata": {},
   "outputs": [],
   "source": [
    "e = b.loc[(b.y_test == 0)&(b.y_pred == 0),'loan_amnt'].sum()\n",
    "n = b.loc[(b.y_test == 1)&(b.y_pred == 0),'loan_amnt'].sum()"
   ]
  },
  {
   "cell_type": "code",
   "execution_count": 494,
   "metadata": {},
   "outputs": [
    {
     "data": {
      "text/plain": [
       "4858918775.0"
      ]
     },
     "execution_count": 494,
     "metadata": {},
     "output_type": "execute_result"
    }
   ],
   "source": [
    "e+n"
   ]
  },
  {
   "cell_type": "code",
   "execution_count": 495,
   "metadata": {},
   "outputs": [
    {
     "data": {
      "text/plain": [
       "0.02861086291746599"
      ]
     },
     "execution_count": 495,
     "metadata": {},
     "output_type": "execute_result"
    }
   ],
   "source": [
    "(o+p)/(e+n)"
   ]
  },
  {
   "cell_type": "code",
   "execution_count": null,
   "metadata": {},
   "outputs": [],
   "source": []
  },
  {
   "cell_type": "code",
   "execution_count": null,
   "metadata": {},
   "outputs": [],
   "source": []
  },
  {
   "cell_type": "markdown",
   "metadata": {},
   "source": [
    "### Class Weights = Class 0: 1, Class 1: 0"
   ]
  },
  {
   "cell_type": "code",
   "execution_count": 496,
   "metadata": {},
   "outputs": [],
   "source": [
    "LogisticRegression_classifier = Pipeline(memory=None,\n",
    "         steps=[('scaler',\n",
    "                 StandardScaler(copy=True, with_mean=True, with_std=True)),\n",
    "                ('classifier',\n",
    "                 LR(C=1000, class_weight={0: 1, 1: 0},\n",
    "                                    dual=False, fit_intercept=True,\n",
    "                                    intercept_scaling=1, l1_ratio=None,\n",
    "                                    max_iter=100, multi_class='warn',\n",
    "                                    n_jobs=None, penalty='l2', random_state=5,\n",
    "                                    solver='warn', tol=0.0001, verbose=0,\n",
    "                                    warm_start=False))],\n",
    "         verbose=False)"
   ]
  },
  {
   "cell_type": "code",
   "execution_count": 497,
   "metadata": {},
   "outputs": [
    {
     "name": "stderr",
     "output_type": "stream",
     "text": [
      "C:\\Users\\mjdch\\Anaconda3\\lib\\site-packages\\sklearn\\linear_model\\logistic.py:432: FutureWarning: Default solver will be changed to 'lbfgs' in 0.22. Specify a solver to silence this warning.\n",
      "  FutureWarning)\n"
     ]
    },
    {
     "name": "stdout",
     "output_type": "stream",
     "text": [
      "0.8010028929604629\n"
     ]
    },
    {
     "name": "stderr",
     "output_type": "stream",
     "text": [
      "C:\\Users\\mjdch\\Anaconda3\\lib\\site-packages\\sklearn\\metrics\\classification.py:1437: UndefinedMetricWarning: Precision and F-score are ill-defined and being set to 0.0 in labels with no predicted samples.\n",
      "  'precision', 'predicted', average, warn_for)\n"
     ]
    },
    {
     "name": "stdout",
     "output_type": "stream",
     "text": [
      "              precision    recall  f1-score   support\n",
      "\n",
      "           0       0.80      1.00      0.89    269958\n",
      "           1       0.00      0.00      0.00     67067\n",
      "\n",
      "    accuracy                           0.80    337025\n",
      "   macro avg       0.40      0.50      0.44    337025\n",
      "weighted avg       0.64      0.80      0.71    337025\n",
      "\n"
     ]
    },
    {
     "data": {
      "image/png": "[encoded data removed]",
      "text/plain": [
       "<Figure size 324x324 with 1 Axes>"
      ]
     },
     "metadata": {
      "needs_background": "light"
     },
     "output_type": "display_data"
    }
   ],
   "source": [
    "clf_name = 'Logistic Regression Classifier'\n",
    "clf = LogisticRegression_classifier\n",
    "\n",
    "#Train the classifier on the training data\n",
    "clf_fit = clf.fit(X_train,y_train)\n",
    "\n",
    "#Obtain a prediction on the test set\n",
    "y_pred = clf_fit.predict(X_test)\n",
    "\n",
    "#Calculate the accuracy of the prediction on current fold\n",
    "print(accuracy_score(y_true=y_test, y_pred=y_pred))\n",
    "print(classification_report(y_test, y_pred))\n",
    "\n",
    "#Confusion Matrix\n",
    "conf_matrix = confusion_matrix(y_true=y_test, y_pred=y_pred)\n",
    "draw_ConfusionMatrix(conf_matrix, clf_name)\n"
   ]
  },
  {
   "cell_type": "code",
   "execution_count": 498,
   "metadata": {},
   "outputs": [],
   "source": [
    "y_pred_df = pd.DataFrame(y_pred).rename(columns = {0:'y_pred'})\n",
    "y_test_df = pd.DataFrame(y_test).rename(columns = {'loan_status_binary': 'y_test'})"
   ]
  },
  {
   "cell_type": "code",
   "execution_count": 499,
   "metadata": {},
   "outputs": [],
   "source": [
    "a = pd.merge(X_test, total_payments_df, left_index = True, right_index = True)\n",
    "b= pd.merge(a,pd.concat([y_test_df.reset_index(),y_pred_df],1), how = 'left', left_index = True, right_on = 'index')"
   ]
  },
  {
   "cell_type": "code",
   "execution_count": 500,
   "metadata": {},
   "outputs": [],
   "source": [
    "o = b.loc[(b.y_test == 0)&(b.y_pred == 0),'profit'].sum()\n",
    "p = b.loc[(b.y_test == 1)&(b.y_pred == 0),'profit'].sum()"
   ]
  },
  {
   "cell_type": "code",
   "execution_count": 501,
   "metadata": {},
   "outputs": [
    {
     "data": {
      "text/plain": [
       "138794973.97215605"
      ]
     },
     "execution_count": 501,
     "metadata": {},
     "output_type": "execute_result"
    }
   ],
   "source": [
    "o+p"
   ]
  },
  {
   "cell_type": "code",
   "execution_count": 502,
   "metadata": {},
   "outputs": [],
   "source": [
    "e = b.loc[(b.y_test == 0)&(b.y_pred == 0),'loan_amnt'].sum()\n",
    "n = b.loc[(b.y_test == 1)&(b.y_pred == 0),'loan_amnt'].sum()"
   ]
  },
  {
   "cell_type": "code",
   "execution_count": 503,
   "metadata": {},
   "outputs": [
    {
     "data": {
      "text/plain": [
       "4859872450.0"
      ]
     },
     "execution_count": 503,
     "metadata": {},
     "output_type": "execute_result"
    }
   ],
   "source": [
    "e+n"
   ]
  },
  {
   "cell_type": "code",
   "execution_count": 504,
   "metadata": {},
   "outputs": [
    {
     "data": {
      "text/plain": [
       "0.028559386156761388"
      ]
     },
     "execution_count": 504,
     "metadata": {},
     "output_type": "execute_result"
    }
   ],
   "source": [
    "(o+p)/(e+n)"
   ]
  },
  {
   "cell_type": "code",
   "execution_count": null,
   "metadata": {},
   "outputs": [],
   "source": []
  },
  {
   "cell_type": "code",
   "execution_count": null,
   "metadata": {},
   "outputs": [],
   "source": []
  },
  {
   "cell_type": "code",
   "execution_count": null,
   "metadata": {},
   "outputs": [],
   "source": []
  },
  {
   "cell_type": "code",
   "execution_count": null,
   "metadata": {},
   "outputs": [],
   "source": []
  },
  {
   "cell_type": "code",
   "execution_count": 365,
   "metadata": {},
   "outputs": [
    {
     "data": {
      "text/plain": [
       "138794973.97215596"
      ]
     },
     "execution_count": 365,
     "metadata": {},
     "output_type": "execute_result"
    }
   ],
   "source": [
    "a['profit'].sum()"
   ]
  },
  {
   "cell_type": "code",
   "execution_count": 361,
   "metadata": {},
   "outputs": [
    {
     "data": {
      "text/plain": [
       "0.02855938615676137"
      ]
     },
     "execution_count": 361,
     "metadata": {},
     "output_type": "execute_result"
    }
   ],
   "source": [
    "a['profit'].sum()/a['loan_amnt'].sum()\n"
   ]
  },
  {
   "cell_type": "code",
   "execution_count": 364,
   "metadata": {},
   "outputs": [
    {
     "data": {
      "text/plain": [
       "4859872450.0"
      ]
     },
     "execution_count": 364,
     "metadata": {},
     "output_type": "execute_result"
    }
   ],
   "source": [
    "a['loan_amnt'].sum()"
   ]
  },
  {
   "cell_type": "code",
   "execution_count": null,
   "metadata": {},
   "outputs": [],
   "source": []
  }
 ],
 "metadata": {
  "kernelspec": {
   "display_name": "Python 3",
   "language": "python",
   "name": "python3"
  },
  "language_info": {
   "codemirror_mode": {
    "name": "ipython",
    "version": 3
   },
   "file_extension": ".py",
   "mimetype": "text/x-python",
   "name": "python",
   "nbconvert_exporter": "python",
   "pygments_lexer": "ipython3",
   "version": "3.7.3"
  }
 },
 "nbformat": 4,
 "nbformat_minor": 2
}
